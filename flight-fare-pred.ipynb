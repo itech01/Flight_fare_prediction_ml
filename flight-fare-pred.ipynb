{
 "cells": [
  {
   "cell_type": "code",
   "execution_count": 1,
   "metadata": {
    "_cell_guid": "b1076dfc-b9ad-4769-8c92-a6c4dae69d19",
    "_uuid": "8f2839f25d086af736a60e9eeb907d3b93b6e0e5",
    "execution": {
     "iopub.execute_input": "2020-11-20T15:55:02.881709Z",
     "iopub.status.busy": "2020-11-20T15:55:02.880954Z",
     "iopub.status.idle": "2020-11-20T15:55:02.890811Z",
     "shell.execute_reply": "2020-11-20T15:55:02.890134Z"
    },
    "papermill": {
     "duration": 0.087872,
     "end_time": "2020-11-20T15:55:02.890929",
     "exception": false,
     "start_time": "2020-11-20T15:55:02.803057",
     "status": "completed"
    },
    "tags": []
   },
   "outputs": [
    {
     "name": "stdout",
     "output_type": "stream",
     "text": [
      "/kaggle/input/flight-fare-prediction-mh/Test_set.xlsx\n",
      "/kaggle/input/flight-fare-prediction-mh/Data_Train.xlsx\n",
      "/kaggle/input/flight-fare-prediction-mh/Sample_submission.xlsx\n"
     ]
    }
   ],
   "source": [
    "# This Python 3 environment comes with many helpful analytics libraries installed\n",
    "# It is defined by the kaggle/python Docker image: https://github.com/kaggle/docker-python\n",
    "# For example, here's several helpful packages to load\n",
    "\n",
    "import numpy as np # linear algebra\n",
    "import pandas as pd # data processing, CSV file I/O (e.g. pd.read_csv)\n",
    "\n",
    "# Input data files are available in the read-only \"../input/\" directory\n",
    "# For example, running this (by clicking run or pressing Shift+Enter) will list all files under the input directory\n",
    "\n",
    "import os\n",
    "for dirname, _, filenames in os.walk('/kaggle/input'):\n",
    "    for filename in filenames:\n",
    "        print(os.path.join(dirname, filename))\n",
    "\n",
    "# You can write up to 20GB to the current directory (/kaggle/working/) that gets preserved as output when you create a version using \"Save & Run All\" \n",
    "# You can also write temporary files to /kaggle/temp/, but they won't be saved outside of the current session"
   ]
  },
  {
   "cell_type": "code",
   "execution_count": 2,
   "metadata": {
    "_cell_guid": "79c7e3d0-c299-4dcb-8224-4455121ee9b0",
    "_uuid": "d629ff2d2480ee46fbb7e2d37f6b5fab8052498a",
    "execution": {
     "iopub.execute_input": "2020-11-20T15:55:03.041989Z",
     "iopub.status.busy": "2020-11-20T15:55:03.041254Z",
     "iopub.status.idle": "2020-11-20T15:55:03.914613Z",
     "shell.execute_reply": "2020-11-20T15:55:03.915197Z"
    },
    "papermill": {
     "duration": 0.951081,
     "end_time": "2020-11-20T15:55:03.915362",
     "exception": false,
     "start_time": "2020-11-20T15:55:02.964281",
     "status": "completed"
    },
    "tags": []
   },
   "outputs": [],
   "source": [
    "# Importing the Necessary Libraries\n",
    "\n",
    "import pandas as pd\n",
    "import numpy as np\n",
    "import matplotlib.pyplot as plt\n",
    "import seaborn as sns\n",
    "\n",
    "sns.set()"
   ]
  },
  {
   "cell_type": "code",
   "execution_count": 3,
   "metadata": {
    "execution": {
     "iopub.execute_input": "2020-11-20T15:55:04.063813Z",
     "iopub.status.busy": "2020-11-20T15:55:04.063057Z",
     "iopub.status.idle": "2020-11-20T15:55:06.755606Z",
     "shell.execute_reply": "2020-11-20T15:55:06.754896Z"
    },
    "papermill": {
     "duration": 2.768001,
     "end_time": "2020-11-20T15:55:06.755722",
     "exception": false,
     "start_time": "2020-11-20T15:55:03.987721",
     "status": "completed"
    },
    "tags": []
   },
   "outputs": [],
   "source": [
    "train_data = pd.read_excel(r\"/kaggle/input/flight-fare-prediction-mh/Data_Train.xlsx\")"
   ]
  },
  {
   "cell_type": "code",
   "execution_count": 4,
   "metadata": {
    "execution": {
     "iopub.execute_input": "2020-11-20T15:55:06.903095Z",
     "iopub.status.busy": "2020-11-20T15:55:06.902080Z",
     "iopub.status.idle": "2020-11-20T15:55:06.904642Z",
     "shell.execute_reply": "2020-11-20T15:55:06.905184Z"
    },
    "papermill": {
     "duration": 0.077911,
     "end_time": "2020-11-20T15:55:06.905333",
     "exception": false,
     "start_time": "2020-11-20T15:55:06.827422",
     "status": "completed"
    },
    "tags": []
   },
   "outputs": [],
   "source": [
    "pd.set_option('display.max_columns', None)"
   ]
  },
  {
   "cell_type": "code",
   "execution_count": 5,
   "metadata": {
    "execution": {
     "iopub.execute_input": "2020-11-20T15:55:07.067968Z",
     "iopub.status.busy": "2020-11-20T15:55:07.067251Z",
     "iopub.status.idle": "2020-11-20T15:55:07.079783Z",
     "shell.execute_reply": "2020-11-20T15:55:07.079239Z"
    },
    "papermill": {
     "duration": 0.101704,
     "end_time": "2020-11-20T15:55:07.079894",
     "exception": false,
     "start_time": "2020-11-20T15:55:06.978190",
     "status": "completed"
    },
    "tags": []
   },
   "outputs": [
    {
     "data": {
      "text/html": [
       "<div>\n",
       "<style scoped>\n",
       "    .dataframe tbody tr th:only-of-type {\n",
       "        vertical-align: middle;\n",
       "    }\n",
       "\n",
       "    .dataframe tbody tr th {\n",
       "        vertical-align: top;\n",
       "    }\n",
       "\n",
       "    .dataframe thead th {\n",
       "        text-align: right;\n",
       "    }\n",
       "</style>\n",
       "<table border=\"1\" class=\"dataframe\">\n",
       "  <thead>\n",
       "    <tr style=\"text-align: right;\">\n",
       "      <th></th>\n",
       "      <th>Airline</th>\n",
       "      <th>Date_of_Journey</th>\n",
       "      <th>Source</th>\n",
       "      <th>Destination</th>\n",
       "      <th>Route</th>\n",
       "      <th>Dep_Time</th>\n",
       "      <th>Arrival_Time</th>\n",
       "      <th>Duration</th>\n",
       "      <th>Total_Stops</th>\n",
       "      <th>Additional_Info</th>\n",
       "      <th>Price</th>\n",
       "    </tr>\n",
       "  </thead>\n",
       "  <tbody>\n",
       "    <tr>\n",
       "      <th>0</th>\n",
       "      <td>IndiGo</td>\n",
       "      <td>24/03/2019</td>\n",
       "      <td>Banglore</td>\n",
       "      <td>New Delhi</td>\n",
       "      <td>BLR → DEL</td>\n",
       "      <td>22:20</td>\n",
       "      <td>01:10 22 Mar</td>\n",
       "      <td>2h 50m</td>\n",
       "      <td>non-stop</td>\n",
       "      <td>No info</td>\n",
       "      <td>3897</td>\n",
       "    </tr>\n",
       "    <tr>\n",
       "      <th>1</th>\n",
       "      <td>Air India</td>\n",
       "      <td>1/05/2019</td>\n",
       "      <td>Kolkata</td>\n",
       "      <td>Banglore</td>\n",
       "      <td>CCU → IXR → BBI → BLR</td>\n",
       "      <td>05:50</td>\n",
       "      <td>13:15</td>\n",
       "      <td>7h 25m</td>\n",
       "      <td>2 stops</td>\n",
       "      <td>No info</td>\n",
       "      <td>7662</td>\n",
       "    </tr>\n",
       "    <tr>\n",
       "      <th>2</th>\n",
       "      <td>Jet Airways</td>\n",
       "      <td>9/06/2019</td>\n",
       "      <td>Delhi</td>\n",
       "      <td>Cochin</td>\n",
       "      <td>DEL → LKO → BOM → COK</td>\n",
       "      <td>09:25</td>\n",
       "      <td>04:25 10 Jun</td>\n",
       "      <td>19h</td>\n",
       "      <td>2 stops</td>\n",
       "      <td>No info</td>\n",
       "      <td>13882</td>\n",
       "    </tr>\n",
       "    <tr>\n",
       "      <th>3</th>\n",
       "      <td>IndiGo</td>\n",
       "      <td>12/05/2019</td>\n",
       "      <td>Kolkata</td>\n",
       "      <td>Banglore</td>\n",
       "      <td>CCU → NAG → BLR</td>\n",
       "      <td>18:05</td>\n",
       "      <td>23:30</td>\n",
       "      <td>5h 25m</td>\n",
       "      <td>1 stop</td>\n",
       "      <td>No info</td>\n",
       "      <td>6218</td>\n",
       "    </tr>\n",
       "    <tr>\n",
       "      <th>4</th>\n",
       "      <td>IndiGo</td>\n",
       "      <td>01/03/2019</td>\n",
       "      <td>Banglore</td>\n",
       "      <td>New Delhi</td>\n",
       "      <td>BLR → NAG → DEL</td>\n",
       "      <td>16:50</td>\n",
       "      <td>21:35</td>\n",
       "      <td>4h 45m</td>\n",
       "      <td>1 stop</td>\n",
       "      <td>No info</td>\n",
       "      <td>13302</td>\n",
       "    </tr>\n",
       "  </tbody>\n",
       "</table>\n",
       "</div>"
      ],
      "text/plain": [
       "       Airline Date_of_Journey    Source Destination                  Route  \\\n",
       "0       IndiGo      24/03/2019  Banglore   New Delhi              BLR → DEL   \n",
       "1    Air India       1/05/2019   Kolkata    Banglore  CCU → IXR → BBI → BLR   \n",
       "2  Jet Airways       9/06/2019     Delhi      Cochin  DEL → LKO → BOM → COK   \n",
       "3       IndiGo      12/05/2019   Kolkata    Banglore        CCU → NAG → BLR   \n",
       "4       IndiGo      01/03/2019  Banglore   New Delhi        BLR → NAG → DEL   \n",
       "\n",
       "  Dep_Time  Arrival_Time Duration Total_Stops Additional_Info  Price  \n",
       "0    22:20  01:10 22 Mar   2h 50m    non-stop         No info   3897  \n",
       "1    05:50         13:15   7h 25m     2 stops         No info   7662  \n",
       "2    09:25  04:25 10 Jun      19h     2 stops         No info  13882  \n",
       "3    18:05         23:30   5h 25m      1 stop         No info   6218  \n",
       "4    16:50         21:35   4h 45m      1 stop         No info  13302  "
      ]
     },
     "execution_count": 5,
     "metadata": {},
     "output_type": "execute_result"
    }
   ],
   "source": [
    "train_data.head()"
   ]
  },
  {
   "cell_type": "code",
   "execution_count": 6,
   "metadata": {
    "execution": {
     "iopub.execute_input": "2020-11-20T15:55:07.228741Z",
     "iopub.status.busy": "2020-11-20T15:55:07.227670Z",
     "iopub.status.idle": "2020-11-20T15:55:07.231616Z",
     "shell.execute_reply": "2020-11-20T15:55:07.231036Z"
    },
    "papermill": {
     "duration": 0.080304,
     "end_time": "2020-11-20T15:55:07.231744",
     "exception": false,
     "start_time": "2020-11-20T15:55:07.151440",
     "status": "completed"
    },
    "tags": []
   },
   "outputs": [
    {
     "data": {
      "text/plain": [
       "(10683, 11)"
      ]
     },
     "execution_count": 6,
     "metadata": {},
     "output_type": "execute_result"
    }
   ],
   "source": [
    "train_data.shape"
   ]
  },
  {
   "cell_type": "code",
   "execution_count": 7,
   "metadata": {
    "execution": {
     "iopub.execute_input": "2020-11-20T15:55:07.395343Z",
     "iopub.status.busy": "2020-11-20T15:55:07.394309Z",
     "iopub.status.idle": "2020-11-20T15:55:07.409243Z",
     "shell.execute_reply": "2020-11-20T15:55:07.408237Z"
    },
    "papermill": {
     "duration": 0.104987,
     "end_time": "2020-11-20T15:55:07.409420",
     "exception": false,
     "start_time": "2020-11-20T15:55:07.304433",
     "status": "completed"
    },
    "tags": []
   },
   "outputs": [
    {
     "name": "stdout",
     "output_type": "stream",
     "text": [
      "<class 'pandas.core.frame.DataFrame'>\n",
      "RangeIndex: 10683 entries, 0 to 10682\n",
      "Data columns (total 11 columns):\n",
      " #   Column           Non-Null Count  Dtype \n",
      "---  ------           --------------  ----- \n",
      " 0   Airline          10683 non-null  object\n",
      " 1   Date_of_Journey  10683 non-null  object\n",
      " 2   Source           10683 non-null  object\n",
      " 3   Destination      10683 non-null  object\n",
      " 4   Route            10682 non-null  object\n",
      " 5   Dep_Time         10683 non-null  object\n",
      " 6   Arrival_Time     10683 non-null  object\n",
      " 7   Duration         10683 non-null  object\n",
      " 8   Total_Stops      10682 non-null  object\n",
      " 9   Additional_Info  10683 non-null  object\n",
      " 10  Price            10683 non-null  int64 \n",
      "dtypes: int64(1), object(10)\n",
      "memory usage: 918.2+ KB\n"
     ]
    }
   ],
   "source": [
    "train_data.info()"
   ]
  },
  {
   "cell_type": "markdown",
   "metadata": {
    "papermill": {
     "duration": 0.083121,
     "end_time": "2020-11-20T15:55:07.580949",
     "exception": false,
     "start_time": "2020-11-20T15:55:07.497828",
     "status": "completed"
    },
    "tags": []
   },
   "source": [
    "Price is only numerical here and its dependent column and remaining other columns is independent"
   ]
  },
  {
   "cell_type": "code",
   "execution_count": 8,
   "metadata": {
    "execution": {
     "iopub.execute_input": "2020-11-20T15:55:07.736531Z",
     "iopub.status.busy": "2020-11-20T15:55:07.735573Z",
     "iopub.status.idle": "2020-11-20T15:55:07.748575Z",
     "shell.execute_reply": "2020-11-20T15:55:07.747956Z"
    },
    "papermill": {
     "duration": 0.093979,
     "end_time": "2020-11-20T15:55:07.748695",
     "exception": false,
     "start_time": "2020-11-20T15:55:07.654716",
     "status": "completed"
    },
    "tags": []
   },
   "outputs": [
    {
     "data": {
      "text/html": [
       "<div>\n",
       "<style scoped>\n",
       "    .dataframe tbody tr th:only-of-type {\n",
       "        vertical-align: middle;\n",
       "    }\n",
       "\n",
       "    .dataframe tbody tr th {\n",
       "        vertical-align: top;\n",
       "    }\n",
       "\n",
       "    .dataframe thead th {\n",
       "        text-align: right;\n",
       "    }\n",
       "</style>\n",
       "<table border=\"1\" class=\"dataframe\">\n",
       "  <thead>\n",
       "    <tr style=\"text-align: right;\">\n",
       "      <th></th>\n",
       "      <th>Price</th>\n",
       "    </tr>\n",
       "  </thead>\n",
       "  <tbody>\n",
       "    <tr>\n",
       "      <th>count</th>\n",
       "      <td>10683.000000</td>\n",
       "    </tr>\n",
       "    <tr>\n",
       "      <th>mean</th>\n",
       "      <td>9087.064121</td>\n",
       "    </tr>\n",
       "    <tr>\n",
       "      <th>std</th>\n",
       "      <td>4611.359167</td>\n",
       "    </tr>\n",
       "    <tr>\n",
       "      <th>min</th>\n",
       "      <td>1759.000000</td>\n",
       "    </tr>\n",
       "    <tr>\n",
       "      <th>25%</th>\n",
       "      <td>5277.000000</td>\n",
       "    </tr>\n",
       "    <tr>\n",
       "      <th>50%</th>\n",
       "      <td>8372.000000</td>\n",
       "    </tr>\n",
       "    <tr>\n",
       "      <th>75%</th>\n",
       "      <td>12373.000000</td>\n",
       "    </tr>\n",
       "    <tr>\n",
       "      <th>max</th>\n",
       "      <td>79512.000000</td>\n",
       "    </tr>\n",
       "  </tbody>\n",
       "</table>\n",
       "</div>"
      ],
      "text/plain": [
       "              Price\n",
       "count  10683.000000\n",
       "mean    9087.064121\n",
       "std     4611.359167\n",
       "min     1759.000000\n",
       "25%     5277.000000\n",
       "50%     8372.000000\n",
       "75%    12373.000000\n",
       "max    79512.000000"
      ]
     },
     "execution_count": 8,
     "metadata": {},
     "output_type": "execute_result"
    }
   ],
   "source": [
    "train_data.describe()"
   ]
  },
  {
   "cell_type": "code",
   "execution_count": 9,
   "metadata": {
    "execution": {
     "iopub.execute_input": "2020-11-20T15:55:07.904492Z",
     "iopub.status.busy": "2020-11-20T15:55:07.903400Z",
     "iopub.status.idle": "2020-11-20T15:55:07.908173Z",
     "shell.execute_reply": "2020-11-20T15:55:07.908698Z"
    },
    "papermill": {
     "duration": 0.085859,
     "end_time": "2020-11-20T15:55:07.908846",
     "exception": false,
     "start_time": "2020-11-20T15:55:07.822987",
     "status": "completed"
    },
    "tags": []
   },
   "outputs": [
    {
     "data": {
      "text/plain": [
       "368"
      ]
     },
     "execution_count": 9,
     "metadata": {},
     "output_type": "execute_result"
    }
   ],
   "source": [
    "train_data['Duration'].nunique()"
   ]
  },
  {
   "cell_type": "raw",
   "metadata": {
    "papermill": {
     "duration": 0.07343,
     "end_time": "2020-11-20T15:55:08.057968",
     "exception": false,
     "start_time": "2020-11-20T15:55:07.984538",
     "status": "completed"
    },
    "tags": []
   },
   "source": [
    "There are 368 unique values in the Duration Column"
   ]
  },
  {
   "cell_type": "code",
   "execution_count": 10,
   "metadata": {
    "execution": {
     "iopub.execute_input": "2020-11-20T15:55:08.231432Z",
     "iopub.status.busy": "2020-11-20T15:55:08.230433Z",
     "iopub.status.idle": "2020-11-20T15:55:08.234808Z",
     "shell.execute_reply": "2020-11-20T15:55:08.234222Z"
    },
    "papermill": {
     "duration": 0.091049,
     "end_time": "2020-11-20T15:55:08.234926",
     "exception": false,
     "start_time": "2020-11-20T15:55:08.143877",
     "status": "completed"
    },
    "tags": []
   },
   "outputs": [
    {
     "data": {
      "text/plain": [
       "2h 50m     550\n",
       "1h 30m     386\n",
       "2h 55m     337\n",
       "2h 45m     337\n",
       "2h 35m     329\n",
       "          ... \n",
       "42h 5m       1\n",
       "30h 25m      1\n",
       "3h 25m       1\n",
       "40h 20m      1\n",
       "32h 20m      1\n",
       "Name: Duration, Length: 368, dtype: int64"
      ]
     },
     "execution_count": 10,
     "metadata": {},
     "output_type": "execute_result"
    }
   ],
   "source": [
    "train_data['Duration'].value_counts()"
   ]
  },
  {
   "cell_type": "code",
   "execution_count": 11,
   "metadata": {
    "execution": {
     "iopub.execute_input": "2020-11-20T15:55:08.404050Z",
     "iopub.status.busy": "2020-11-20T15:55:08.403365Z",
     "iopub.status.idle": "2020-11-20T15:55:08.411010Z",
     "shell.execute_reply": "2020-11-20T15:55:08.410318Z"
    },
    "papermill": {
     "duration": 0.100427,
     "end_time": "2020-11-20T15:55:08.411148",
     "exception": false,
     "start_time": "2020-11-20T15:55:08.310721",
     "status": "completed"
    },
    "tags": []
   },
   "outputs": [
    {
     "data": {
      "text/plain": [
       "Airline            0\n",
       "Date_of_Journey    0\n",
       "Source             0\n",
       "Destination        0\n",
       "Route              1\n",
       "Dep_Time           0\n",
       "Arrival_Time       0\n",
       "Duration           0\n",
       "Total_Stops        1\n",
       "Additional_Info    0\n",
       "Price              0\n",
       "dtype: int64"
      ]
     },
     "execution_count": 11,
     "metadata": {},
     "output_type": "execute_result"
    }
   ],
   "source": [
    "# Let's check whether there is any null value\n",
    "train_data.isnull().sum()"
   ]
  },
  {
   "cell_type": "markdown",
   "metadata": {
    "papermill": {
     "duration": 0.075841,
     "end_time": "2020-11-20T15:55:08.563574",
     "exception": false,
     "start_time": "2020-11-20T15:55:08.487733",
     "status": "completed"
    },
    "tags": []
   },
   "source": [
    "There is only missing values in the Route and Additional_Info columns"
   ]
  },
  {
   "cell_type": "code",
   "execution_count": 12,
   "metadata": {
    "execution": {
     "iopub.execute_input": "2020-11-20T15:55:08.733278Z",
     "iopub.status.busy": "2020-11-20T15:55:08.732502Z",
     "iopub.status.idle": "2020-11-20T15:55:08.752527Z",
     "shell.execute_reply": "2020-11-20T15:55:08.751911Z"
    },
    "papermill": {
     "duration": 0.113573,
     "end_time": "2020-11-20T15:55:08.752657",
     "exception": false,
     "start_time": "2020-11-20T15:55:08.639084",
     "status": "completed"
    },
    "tags": []
   },
   "outputs": [],
   "source": [
    "train_data.dropna(inplace = True)"
   ]
  },
  {
   "cell_type": "code",
   "execution_count": 13,
   "metadata": {
    "execution": {
     "iopub.execute_input": "2020-11-20T15:55:08.920772Z",
     "iopub.status.busy": "2020-11-20T15:55:08.920039Z",
     "iopub.status.idle": "2020-11-20T15:55:08.927608Z",
     "shell.execute_reply": "2020-11-20T15:55:08.926873Z"
    },
    "papermill": {
     "duration": 0.099029,
     "end_time": "2020-11-20T15:55:08.927738",
     "exception": false,
     "start_time": "2020-11-20T15:55:08.828709",
     "status": "completed"
    },
    "tags": []
   },
   "outputs": [
    {
     "data": {
      "text/plain": [
       "Airline            0\n",
       "Date_of_Journey    0\n",
       "Source             0\n",
       "Destination        0\n",
       "Route              0\n",
       "Dep_Time           0\n",
       "Arrival_Time       0\n",
       "Duration           0\n",
       "Total_Stops        0\n",
       "Additional_Info    0\n",
       "Price              0\n",
       "dtype: int64"
      ]
     },
     "execution_count": 13,
     "metadata": {},
     "output_type": "execute_result"
    }
   ],
   "source": [
    "# Now again checking whethere there is any missing values\n",
    "\n",
    "\n",
    "train_data.isnull().sum()"
   ]
  },
  {
   "cell_type": "markdown",
   "metadata": {
    "papermill": {
     "duration": 0.073183,
     "end_time": "2020-11-20T15:55:09.077001",
     "exception": false,
     "start_time": "2020-11-20T15:55:09.003818",
     "status": "completed"
    },
    "tags": []
   },
   "source": [
    "From the above we can see that there is no null values\n"
   ]
  },
  {
   "cell_type": "markdown",
   "metadata": {
    "papermill": {
     "duration": 0.073809,
     "end_time": "2020-11-20T15:55:09.224825",
     "exception": false,
     "start_time": "2020-11-20T15:55:09.151016",
     "status": "completed"
    },
    "tags": []
   },
   "source": [
    "# Exploratory Data Analysis"
   ]
  },
  {
   "cell_type": "code",
   "execution_count": 14,
   "metadata": {
    "execution": {
     "iopub.execute_input": "2020-11-20T15:55:09.382640Z",
     "iopub.status.busy": "2020-11-20T15:55:09.381960Z",
     "iopub.status.idle": "2020-11-20T15:55:09.392142Z",
     "shell.execute_reply": "2020-11-20T15:55:09.391455Z"
    },
    "papermill": {
     "duration": 0.092607,
     "end_time": "2020-11-20T15:55:09.392256",
     "exception": false,
     "start_time": "2020-11-20T15:55:09.299649",
     "status": "completed"
    },
    "tags": []
   },
   "outputs": [],
   "source": [
    "train_data[\"Journey_day\"] = pd.to_datetime(train_data[\"Date_of_Journey\"], format=\"%d/%m/%Y\").dt.day"
   ]
  },
  {
   "cell_type": "code",
   "execution_count": 15,
   "metadata": {
    "execution": {
     "iopub.execute_input": "2020-11-20T15:55:09.551444Z",
     "iopub.status.busy": "2020-11-20T15:55:09.550762Z",
     "iopub.status.idle": "2020-11-20T15:55:09.558380Z",
     "shell.execute_reply": "2020-11-20T15:55:09.558909Z"
    },
    "papermill": {
     "duration": 0.091064,
     "end_time": "2020-11-20T15:55:09.559064",
     "exception": false,
     "start_time": "2020-11-20T15:55:09.468000",
     "status": "completed"
    },
    "tags": []
   },
   "outputs": [],
   "source": [
    "train_data[\"Journey_month\"] = pd.to_datetime(train_data[\"Date_of_Journey\"], format=\"%d/%m/%Y\").dt.month"
   ]
  },
  {
   "cell_type": "code",
   "execution_count": 16,
   "metadata": {
    "execution": {
     "iopub.execute_input": "2020-11-20T15:55:09.730980Z",
     "iopub.status.busy": "2020-11-20T15:55:09.729935Z",
     "iopub.status.idle": "2020-11-20T15:55:09.734585Z",
     "shell.execute_reply": "2020-11-20T15:55:09.733891Z"
    },
    "papermill": {
     "duration": 0.10016,
     "end_time": "2020-11-20T15:55:09.734699",
     "exception": false,
     "start_time": "2020-11-20T15:55:09.634539",
     "status": "completed"
    },
    "tags": []
   },
   "outputs": [
    {
     "data": {
      "text/html": [
       "<div>\n",
       "<style scoped>\n",
       "    .dataframe tbody tr th:only-of-type {\n",
       "        vertical-align: middle;\n",
       "    }\n",
       "\n",
       "    .dataframe tbody tr th {\n",
       "        vertical-align: top;\n",
       "    }\n",
       "\n",
       "    .dataframe thead th {\n",
       "        text-align: right;\n",
       "    }\n",
       "</style>\n",
       "<table border=\"1\" class=\"dataframe\">\n",
       "  <thead>\n",
       "    <tr style=\"text-align: right;\">\n",
       "      <th></th>\n",
       "      <th>Airline</th>\n",
       "      <th>Date_of_Journey</th>\n",
       "      <th>Source</th>\n",
       "      <th>Destination</th>\n",
       "      <th>Route</th>\n",
       "      <th>Dep_Time</th>\n",
       "      <th>Arrival_Time</th>\n",
       "      <th>Duration</th>\n",
       "      <th>Total_Stops</th>\n",
       "      <th>Additional_Info</th>\n",
       "      <th>Price</th>\n",
       "      <th>Journey_day</th>\n",
       "      <th>Journey_month</th>\n",
       "    </tr>\n",
       "  </thead>\n",
       "  <tbody>\n",
       "    <tr>\n",
       "      <th>0</th>\n",
       "      <td>IndiGo</td>\n",
       "      <td>24/03/2019</td>\n",
       "      <td>Banglore</td>\n",
       "      <td>New Delhi</td>\n",
       "      <td>BLR → DEL</td>\n",
       "      <td>22:20</td>\n",
       "      <td>01:10 22 Mar</td>\n",
       "      <td>2h 50m</td>\n",
       "      <td>non-stop</td>\n",
       "      <td>No info</td>\n",
       "      <td>3897</td>\n",
       "      <td>24</td>\n",
       "      <td>3</td>\n",
       "    </tr>\n",
       "    <tr>\n",
       "      <th>1</th>\n",
       "      <td>Air India</td>\n",
       "      <td>1/05/2019</td>\n",
       "      <td>Kolkata</td>\n",
       "      <td>Banglore</td>\n",
       "      <td>CCU → IXR → BBI → BLR</td>\n",
       "      <td>05:50</td>\n",
       "      <td>13:15</td>\n",
       "      <td>7h 25m</td>\n",
       "      <td>2 stops</td>\n",
       "      <td>No info</td>\n",
       "      <td>7662</td>\n",
       "      <td>1</td>\n",
       "      <td>5</td>\n",
       "    </tr>\n",
       "    <tr>\n",
       "      <th>2</th>\n",
       "      <td>Jet Airways</td>\n",
       "      <td>9/06/2019</td>\n",
       "      <td>Delhi</td>\n",
       "      <td>Cochin</td>\n",
       "      <td>DEL → LKO → BOM → COK</td>\n",
       "      <td>09:25</td>\n",
       "      <td>04:25 10 Jun</td>\n",
       "      <td>19h</td>\n",
       "      <td>2 stops</td>\n",
       "      <td>No info</td>\n",
       "      <td>13882</td>\n",
       "      <td>9</td>\n",
       "      <td>6</td>\n",
       "    </tr>\n",
       "    <tr>\n",
       "      <th>3</th>\n",
       "      <td>IndiGo</td>\n",
       "      <td>12/05/2019</td>\n",
       "      <td>Kolkata</td>\n",
       "      <td>Banglore</td>\n",
       "      <td>CCU → NAG → BLR</td>\n",
       "      <td>18:05</td>\n",
       "      <td>23:30</td>\n",
       "      <td>5h 25m</td>\n",
       "      <td>1 stop</td>\n",
       "      <td>No info</td>\n",
       "      <td>6218</td>\n",
       "      <td>12</td>\n",
       "      <td>5</td>\n",
       "    </tr>\n",
       "    <tr>\n",
       "      <th>4</th>\n",
       "      <td>IndiGo</td>\n",
       "      <td>01/03/2019</td>\n",
       "      <td>Banglore</td>\n",
       "      <td>New Delhi</td>\n",
       "      <td>BLR → NAG → DEL</td>\n",
       "      <td>16:50</td>\n",
       "      <td>21:35</td>\n",
       "      <td>4h 45m</td>\n",
       "      <td>1 stop</td>\n",
       "      <td>No info</td>\n",
       "      <td>13302</td>\n",
       "      <td>1</td>\n",
       "      <td>3</td>\n",
       "    </tr>\n",
       "  </tbody>\n",
       "</table>\n",
       "</div>"
      ],
      "text/plain": [
       "       Airline Date_of_Journey    Source Destination                  Route  \\\n",
       "0       IndiGo      24/03/2019  Banglore   New Delhi              BLR → DEL   \n",
       "1    Air India       1/05/2019   Kolkata    Banglore  CCU → IXR → BBI → BLR   \n",
       "2  Jet Airways       9/06/2019     Delhi      Cochin  DEL → LKO → BOM → COK   \n",
       "3       IndiGo      12/05/2019   Kolkata    Banglore        CCU → NAG → BLR   \n",
       "4       IndiGo      01/03/2019  Banglore   New Delhi        BLR → NAG → DEL   \n",
       "\n",
       "  Dep_Time  Arrival_Time Duration Total_Stops Additional_Info  Price  \\\n",
       "0    22:20  01:10 22 Mar   2h 50m    non-stop         No info   3897   \n",
       "1    05:50         13:15   7h 25m     2 stops         No info   7662   \n",
       "2    09:25  04:25 10 Jun      19h     2 stops         No info  13882   \n",
       "3    18:05         23:30   5h 25m      1 stop         No info   6218   \n",
       "4    16:50         21:35   4h 45m      1 stop         No info  13302   \n",
       "\n",
       "   Journey_day  Journey_month  \n",
       "0           24              3  \n",
       "1            1              5  \n",
       "2            9              6  \n",
       "3           12              5  \n",
       "4            1              3  "
      ]
     },
     "execution_count": 16,
     "metadata": {},
     "output_type": "execute_result"
    }
   ],
   "source": [
    "train_data.head()"
   ]
  },
  {
   "cell_type": "code",
   "execution_count": 17,
   "metadata": {
    "execution": {
     "iopub.execute_input": "2020-11-20T15:55:09.893772Z",
     "iopub.status.busy": "2020-11-20T15:55:09.893039Z",
     "iopub.status.idle": "2020-11-20T15:55:09.900329Z",
     "shell.execute_reply": "2020-11-20T15:55:09.899607Z"
    },
    "papermill": {
     "duration": 0.088482,
     "end_time": "2020-11-20T15:55:09.900463",
     "exception": false,
     "start_time": "2020-11-20T15:55:09.811981",
     "status": "completed"
    },
    "tags": []
   },
   "outputs": [],
   "source": [
    "# Droping the Date_of_Journey Column\n",
    "\n",
    "train_data.drop([\"Date_of_Journey\"], axis = 1, inplace = True)"
   ]
  },
  {
   "cell_type": "code",
   "execution_count": 18,
   "metadata": {
    "execution": {
     "iopub.execute_input": "2020-11-20T15:55:10.065937Z",
     "iopub.status.busy": "2020-11-20T15:55:10.065264Z",
     "iopub.status.idle": "2020-11-20T15:55:10.107352Z",
     "shell.execute_reply": "2020-11-20T15:55:10.106723Z"
    },
    "papermill": {
     "duration": 0.127894,
     "end_time": "2020-11-20T15:55:10.107478",
     "exception": false,
     "start_time": "2020-11-20T15:55:09.979584",
     "status": "completed"
    },
    "tags": []
   },
   "outputs": [],
   "source": [
    "# Extracting Hours\n",
    "\n",
    "train_data[\"Dep_Hour\"] = pd.to_datetime(train_data[\"Dep_Time\"]).dt.hour\n",
    "\n",
    "train_data[\"Dep_min\"] = pd.to_datetime(train_data[\"Dep_Time\"]).dt.minute\n",
    "\n",
    "# Dropping the Dep_Time column from the data\n",
    "\n",
    "train_data.drop([\"Dep_Time\"], axis = 1, inplace=True)"
   ]
  },
  {
   "cell_type": "code",
   "execution_count": 19,
   "metadata": {
    "execution": {
     "iopub.execute_input": "2020-11-20T15:55:10.279600Z",
     "iopub.status.busy": "2020-11-20T15:55:10.278871Z",
     "iopub.status.idle": "2020-11-20T15:55:10.282681Z",
     "shell.execute_reply": "2020-11-20T15:55:10.283217Z"
    },
    "papermill": {
     "duration": 0.098733,
     "end_time": "2020-11-20T15:55:10.283357",
     "exception": false,
     "start_time": "2020-11-20T15:55:10.184624",
     "status": "completed"
    },
    "tags": []
   },
   "outputs": [
    {
     "data": {
      "text/html": [
       "<div>\n",
       "<style scoped>\n",
       "    .dataframe tbody tr th:only-of-type {\n",
       "        vertical-align: middle;\n",
       "    }\n",
       "\n",
       "    .dataframe tbody tr th {\n",
       "        vertical-align: top;\n",
       "    }\n",
       "\n",
       "    .dataframe thead th {\n",
       "        text-align: right;\n",
       "    }\n",
       "</style>\n",
       "<table border=\"1\" class=\"dataframe\">\n",
       "  <thead>\n",
       "    <tr style=\"text-align: right;\">\n",
       "      <th></th>\n",
       "      <th>Airline</th>\n",
       "      <th>Source</th>\n",
       "      <th>Destination</th>\n",
       "      <th>Route</th>\n",
       "      <th>Arrival_Time</th>\n",
       "      <th>Duration</th>\n",
       "      <th>Total_Stops</th>\n",
       "      <th>Additional_Info</th>\n",
       "      <th>Price</th>\n",
       "      <th>Journey_day</th>\n",
       "      <th>Journey_month</th>\n",
       "      <th>Dep_Hour</th>\n",
       "      <th>Dep_min</th>\n",
       "    </tr>\n",
       "  </thead>\n",
       "  <tbody>\n",
       "    <tr>\n",
       "      <th>0</th>\n",
       "      <td>IndiGo</td>\n",
       "      <td>Banglore</td>\n",
       "      <td>New Delhi</td>\n",
       "      <td>BLR → DEL</td>\n",
       "      <td>01:10 22 Mar</td>\n",
       "      <td>2h 50m</td>\n",
       "      <td>non-stop</td>\n",
       "      <td>No info</td>\n",
       "      <td>3897</td>\n",
       "      <td>24</td>\n",
       "      <td>3</td>\n",
       "      <td>22</td>\n",
       "      <td>20</td>\n",
       "    </tr>\n",
       "    <tr>\n",
       "      <th>1</th>\n",
       "      <td>Air India</td>\n",
       "      <td>Kolkata</td>\n",
       "      <td>Banglore</td>\n",
       "      <td>CCU → IXR → BBI → BLR</td>\n",
       "      <td>13:15</td>\n",
       "      <td>7h 25m</td>\n",
       "      <td>2 stops</td>\n",
       "      <td>No info</td>\n",
       "      <td>7662</td>\n",
       "      <td>1</td>\n",
       "      <td>5</td>\n",
       "      <td>5</td>\n",
       "      <td>50</td>\n",
       "    </tr>\n",
       "    <tr>\n",
       "      <th>2</th>\n",
       "      <td>Jet Airways</td>\n",
       "      <td>Delhi</td>\n",
       "      <td>Cochin</td>\n",
       "      <td>DEL → LKO → BOM → COK</td>\n",
       "      <td>04:25 10 Jun</td>\n",
       "      <td>19h</td>\n",
       "      <td>2 stops</td>\n",
       "      <td>No info</td>\n",
       "      <td>13882</td>\n",
       "      <td>9</td>\n",
       "      <td>6</td>\n",
       "      <td>9</td>\n",
       "      <td>25</td>\n",
       "    </tr>\n",
       "    <tr>\n",
       "      <th>3</th>\n",
       "      <td>IndiGo</td>\n",
       "      <td>Kolkata</td>\n",
       "      <td>Banglore</td>\n",
       "      <td>CCU → NAG → BLR</td>\n",
       "      <td>23:30</td>\n",
       "      <td>5h 25m</td>\n",
       "      <td>1 stop</td>\n",
       "      <td>No info</td>\n",
       "      <td>6218</td>\n",
       "      <td>12</td>\n",
       "      <td>5</td>\n",
       "      <td>18</td>\n",
       "      <td>5</td>\n",
       "    </tr>\n",
       "    <tr>\n",
       "      <th>4</th>\n",
       "      <td>IndiGo</td>\n",
       "      <td>Banglore</td>\n",
       "      <td>New Delhi</td>\n",
       "      <td>BLR → NAG → DEL</td>\n",
       "      <td>21:35</td>\n",
       "      <td>4h 45m</td>\n",
       "      <td>1 stop</td>\n",
       "      <td>No info</td>\n",
       "      <td>13302</td>\n",
       "      <td>1</td>\n",
       "      <td>3</td>\n",
       "      <td>16</td>\n",
       "      <td>50</td>\n",
       "    </tr>\n",
       "  </tbody>\n",
       "</table>\n",
       "</div>"
      ],
      "text/plain": [
       "       Airline    Source Destination                  Route  Arrival_Time  \\\n",
       "0       IndiGo  Banglore   New Delhi              BLR → DEL  01:10 22 Mar   \n",
       "1    Air India   Kolkata    Banglore  CCU → IXR → BBI → BLR         13:15   \n",
       "2  Jet Airways     Delhi      Cochin  DEL → LKO → BOM → COK  04:25 10 Jun   \n",
       "3       IndiGo   Kolkata    Banglore        CCU → NAG → BLR         23:30   \n",
       "4       IndiGo  Banglore   New Delhi        BLR → NAG → DEL         21:35   \n",
       "\n",
       "  Duration Total_Stops Additional_Info  Price  Journey_day  Journey_month  \\\n",
       "0   2h 50m    non-stop         No info   3897           24              3   \n",
       "1   7h 25m     2 stops         No info   7662            1              5   \n",
       "2      19h     2 stops         No info  13882            9              6   \n",
       "3   5h 25m      1 stop         No info   6218           12              5   \n",
       "4   4h 45m      1 stop         No info  13302            1              3   \n",
       "\n",
       "   Dep_Hour  Dep_min  \n",
       "0        22       20  \n",
       "1         5       50  \n",
       "2         9       25  \n",
       "3        18        5  \n",
       "4        16       50  "
      ]
     },
     "execution_count": 19,
     "metadata": {},
     "output_type": "execute_result"
    }
   ],
   "source": [
    "train_data.head()"
   ]
  },
  {
   "cell_type": "code",
   "execution_count": 20,
   "metadata": {
    "execution": {
     "iopub.execute_input": "2020-11-20T15:55:10.445340Z",
     "iopub.status.busy": "2020-11-20T15:55:10.444600Z",
     "iopub.status.idle": "2020-11-20T15:55:10.697352Z",
     "shell.execute_reply": "2020-11-20T15:55:10.696578Z"
    },
    "papermill": {
     "duration": 0.337795,
     "end_time": "2020-11-20T15:55:10.697472",
     "exception": false,
     "start_time": "2020-11-20T15:55:10.359677",
     "status": "completed"
    },
    "tags": []
   },
   "outputs": [],
   "source": [
    "train_data[\"Arrival_Hour\"] = pd.to_datetime(train_data[\"Arrival_Time\"]).dt.hour\n",
    "\n",
    "train_data[\"Arrival_min\"] = pd.to_datetime(train_data[\"Arrival_Time\"]).dt.minute\n",
    "\n",
    "# Dropping the Arrival_Time column\n",
    "\n",
    "train_data.drop([\"Arrival_Time\"], axis = 1, inplace=True)"
   ]
  },
  {
   "cell_type": "code",
   "execution_count": 21,
   "metadata": {
    "execution": {
     "iopub.execute_input": "2020-11-20T15:55:10.874339Z",
     "iopub.status.busy": "2020-11-20T15:55:10.873282Z",
     "iopub.status.idle": "2020-11-20T15:55:10.877795Z",
     "shell.execute_reply": "2020-11-20T15:55:10.877076Z"
    },
    "papermill": {
     "duration": 0.100905,
     "end_time": "2020-11-20T15:55:10.877911",
     "exception": false,
     "start_time": "2020-11-20T15:55:10.777006",
     "status": "completed"
    },
    "tags": []
   },
   "outputs": [
    {
     "data": {
      "text/html": [
       "<div>\n",
       "<style scoped>\n",
       "    .dataframe tbody tr th:only-of-type {\n",
       "        vertical-align: middle;\n",
       "    }\n",
       "\n",
       "    .dataframe tbody tr th {\n",
       "        vertical-align: top;\n",
       "    }\n",
       "\n",
       "    .dataframe thead th {\n",
       "        text-align: right;\n",
       "    }\n",
       "</style>\n",
       "<table border=\"1\" class=\"dataframe\">\n",
       "  <thead>\n",
       "    <tr style=\"text-align: right;\">\n",
       "      <th></th>\n",
       "      <th>Airline</th>\n",
       "      <th>Source</th>\n",
       "      <th>Destination</th>\n",
       "      <th>Route</th>\n",
       "      <th>Duration</th>\n",
       "      <th>Total_Stops</th>\n",
       "      <th>Additional_Info</th>\n",
       "      <th>Price</th>\n",
       "      <th>Journey_day</th>\n",
       "      <th>Journey_month</th>\n",
       "      <th>Dep_Hour</th>\n",
       "      <th>Dep_min</th>\n",
       "      <th>Arrival_Hour</th>\n",
       "      <th>Arrival_min</th>\n",
       "    </tr>\n",
       "  </thead>\n",
       "  <tbody>\n",
       "    <tr>\n",
       "      <th>0</th>\n",
       "      <td>IndiGo</td>\n",
       "      <td>Banglore</td>\n",
       "      <td>New Delhi</td>\n",
       "      <td>BLR → DEL</td>\n",
       "      <td>2h 50m</td>\n",
       "      <td>non-stop</td>\n",
       "      <td>No info</td>\n",
       "      <td>3897</td>\n",
       "      <td>24</td>\n",
       "      <td>3</td>\n",
       "      <td>22</td>\n",
       "      <td>20</td>\n",
       "      <td>1</td>\n",
       "      <td>10</td>\n",
       "    </tr>\n",
       "    <tr>\n",
       "      <th>1</th>\n",
       "      <td>Air India</td>\n",
       "      <td>Kolkata</td>\n",
       "      <td>Banglore</td>\n",
       "      <td>CCU → IXR → BBI → BLR</td>\n",
       "      <td>7h 25m</td>\n",
       "      <td>2 stops</td>\n",
       "      <td>No info</td>\n",
       "      <td>7662</td>\n",
       "      <td>1</td>\n",
       "      <td>5</td>\n",
       "      <td>5</td>\n",
       "      <td>50</td>\n",
       "      <td>13</td>\n",
       "      <td>15</td>\n",
       "    </tr>\n",
       "    <tr>\n",
       "      <th>2</th>\n",
       "      <td>Jet Airways</td>\n",
       "      <td>Delhi</td>\n",
       "      <td>Cochin</td>\n",
       "      <td>DEL → LKO → BOM → COK</td>\n",
       "      <td>19h</td>\n",
       "      <td>2 stops</td>\n",
       "      <td>No info</td>\n",
       "      <td>13882</td>\n",
       "      <td>9</td>\n",
       "      <td>6</td>\n",
       "      <td>9</td>\n",
       "      <td>25</td>\n",
       "      <td>4</td>\n",
       "      <td>25</td>\n",
       "    </tr>\n",
       "    <tr>\n",
       "      <th>3</th>\n",
       "      <td>IndiGo</td>\n",
       "      <td>Kolkata</td>\n",
       "      <td>Banglore</td>\n",
       "      <td>CCU → NAG → BLR</td>\n",
       "      <td>5h 25m</td>\n",
       "      <td>1 stop</td>\n",
       "      <td>No info</td>\n",
       "      <td>6218</td>\n",
       "      <td>12</td>\n",
       "      <td>5</td>\n",
       "      <td>18</td>\n",
       "      <td>5</td>\n",
       "      <td>23</td>\n",
       "      <td>30</td>\n",
       "    </tr>\n",
       "    <tr>\n",
       "      <th>4</th>\n",
       "      <td>IndiGo</td>\n",
       "      <td>Banglore</td>\n",
       "      <td>New Delhi</td>\n",
       "      <td>BLR → NAG → DEL</td>\n",
       "      <td>4h 45m</td>\n",
       "      <td>1 stop</td>\n",
       "      <td>No info</td>\n",
       "      <td>13302</td>\n",
       "      <td>1</td>\n",
       "      <td>3</td>\n",
       "      <td>16</td>\n",
       "      <td>50</td>\n",
       "      <td>21</td>\n",
       "      <td>35</td>\n",
       "    </tr>\n",
       "  </tbody>\n",
       "</table>\n",
       "</div>"
      ],
      "text/plain": [
       "       Airline    Source Destination                  Route Duration  \\\n",
       "0       IndiGo  Banglore   New Delhi              BLR → DEL   2h 50m   \n",
       "1    Air India   Kolkata    Banglore  CCU → IXR → BBI → BLR   7h 25m   \n",
       "2  Jet Airways     Delhi      Cochin  DEL → LKO → BOM → COK      19h   \n",
       "3       IndiGo   Kolkata    Banglore        CCU → NAG → BLR   5h 25m   \n",
       "4       IndiGo  Banglore   New Delhi        BLR → NAG → DEL   4h 45m   \n",
       "\n",
       "  Total_Stops Additional_Info  Price  Journey_day  Journey_month  Dep_Hour  \\\n",
       "0    non-stop         No info   3897           24              3        22   \n",
       "1     2 stops         No info   7662            1              5         5   \n",
       "2     2 stops         No info  13882            9              6         9   \n",
       "3      1 stop         No info   6218           12              5        18   \n",
       "4      1 stop         No info  13302            1              3        16   \n",
       "\n",
       "   Dep_min  Arrival_Hour  Arrival_min  \n",
       "0       20             1           10  \n",
       "1       50            13           15  \n",
       "2       25             4           25  \n",
       "3        5            23           30  \n",
       "4       50            21           35  "
      ]
     },
     "execution_count": 21,
     "metadata": {},
     "output_type": "execute_result"
    }
   ],
   "source": [
    "train_data.head()"
   ]
  },
  {
   "cell_type": "code",
   "execution_count": 22,
   "metadata": {
    "execution": {
     "iopub.execute_input": "2020-11-20T15:55:11.043791Z",
     "iopub.status.busy": "2020-11-20T15:55:11.042933Z",
     "iopub.status.idle": "2020-11-20T15:55:11.047677Z",
     "shell.execute_reply": "2020-11-20T15:55:11.046907Z"
    },
    "papermill": {
     "duration": 0.089389,
     "end_time": "2020-11-20T15:55:11.047800",
     "exception": false,
     "start_time": "2020-11-20T15:55:10.958411",
     "status": "completed"
    },
    "tags": []
   },
   "outputs": [
    {
     "data": {
      "text/plain": [
       "(10682, 14)"
      ]
     },
     "execution_count": 22,
     "metadata": {},
     "output_type": "execute_result"
    }
   ],
   "source": [
    "# Shape of the dataset after addition of the new features \n",
    "train_data.shape"
   ]
  },
  {
   "cell_type": "code",
   "execution_count": 23,
   "metadata": {
    "execution": {
     "iopub.execute_input": "2020-11-20T15:55:11.228462Z",
     "iopub.status.busy": "2020-11-20T15:55:11.223457Z",
     "iopub.status.idle": "2020-11-20T15:55:11.242587Z",
     "shell.execute_reply": "2020-11-20T15:55:11.243181Z"
    },
    "papermill": {
     "duration": 0.114607,
     "end_time": "2020-11-20T15:55:11.243324",
     "exception": false,
     "start_time": "2020-11-20T15:55:11.128717",
     "status": "completed"
    },
    "tags": []
   },
   "outputs": [
    {
     "data": {
      "text/plain": [
       "['2h 50m',\n",
       " '7h 25m',\n",
       " '19h',\n",
       " '5h 25m',\n",
       " '4h 45m',\n",
       " '2h 25m',\n",
       " '15h 30m',\n",
       " '21h 5m',\n",
       " '25h 30m',\n",
       " '7h 50m',\n",
       " '13h 15m',\n",
       " '2h 35m',\n",
       " '2h 15m',\n",
       " '12h 10m',\n",
       " '2h 35m',\n",
       " '26h 35m',\n",
       " '4h 30m',\n",
       " '22h 35m',\n",
       " '23h',\n",
       " '20h 35m',\n",
       " '5h 10m',\n",
       " '15h 20m',\n",
       " '2h 50m',\n",
       " '2h 55m',\n",
       " '13h 20m',\n",
       " '15h 10m',\n",
       " '5h 45m',\n",
       " '5h 55m',\n",
       " '2h 50m',\n",
       " '2h 15m',\n",
       " '2h 15m',\n",
       " '13h 25m',\n",
       " '2h 50m',\n",
       " '22h',\n",
       " '5h 30m',\n",
       " '10h 25m',\n",
       " '5h 15m',\n",
       " '2h 30m',\n",
       " '6h 15m',\n",
       " '11h 55m',\n",
       " '11h 5m',\n",
       " '8h 30m',\n",
       " '22h 5m',\n",
       " '2h 45m',\n",
       " '12h',\n",
       " '2h 50m',\n",
       " '2h 50m',\n",
       " '2h 15m',\n",
       " '16h 5m',\n",
       " '19h 55m',\n",
       " '3h 15m',\n",
       " '25h 20m',\n",
       " '2h 50m',\n",
       " '3h',\n",
       " '2h 50m',\n",
       " '16h 15m',\n",
       " '15h 5m',\n",
       " '2h 15m',\n",
       " '6h 30m',\n",
       " '25h 5m',\n",
       " '12h 25m',\n",
       " '27h 20m',\n",
       " '10h 15m',\n",
       " '10h 30m',\n",
       " '2h 15m',\n",
       " '10h 25m',\n",
       " '2h 50m',\n",
       " '1h 30m',\n",
       " '13h 20m',\n",
       " '2h 15m',\n",
       " '1h 25m',\n",
       " '26h 30m',\n",
       " '7h 20m',\n",
       " '13h 30m',\n",
       " '5h',\n",
       " '2h 45m',\n",
       " '2h 50m',\n",
       " '1h 30m',\n",
       " '19h 5m',\n",
       " '2h 15m',\n",
       " '14h 50m',\n",
       " '2h 40m',\n",
       " '22h 10m',\n",
       " '9h 35m',\n",
       " '10h',\n",
       " '21h 20m',\n",
       " '5h 25m',\n",
       " '18h 45m',\n",
       " '12h 20m',\n",
       " '18h',\n",
       " '9h 15m',\n",
       " '11h 5m',\n",
       " '17h 30m',\n",
       " '13h 20m',\n",
       " '2h 35m',\n",
       " '2h 25m',\n",
       " '2h 40m',\n",
       " '3h',\n",
       " '1h 25m',\n",
       " '16h 35m',\n",
       " '12h 20m',\n",
       " '12h 15m',\n",
       " '7h 30m',\n",
       " '24h',\n",
       " '2h 45m',\n",
       " '8h 55m',\n",
       " '7h 10m',\n",
       " '14h 30m',\n",
       " '30h 20m',\n",
       " '19h 55m',\n",
       " '15h',\n",
       " '2h 55m',\n",
       " '12h 45m',\n",
       " '10h 10m',\n",
       " '5h 55m',\n",
       " '15h 25m',\n",
       " '16h 5m',\n",
       " '10h 10m',\n",
       " '2h 40m',\n",
       " '11h 55m',\n",
       " '2h 40m',\n",
       " '1h 25m',\n",
       " '14h 5m',\n",
       " '20h 15m',\n",
       " '2h 25m',\n",
       " '23h 10m',\n",
       " '18h 10m',\n",
       " '16h',\n",
       " '2h 50m',\n",
       " '2h 20m',\n",
       " '8h',\n",
       " '16h 55m',\n",
       " '3h 10m',\n",
       " '2h 45m',\n",
       " '14h',\n",
       " '23h 50m',\n",
       " '21h 40m',\n",
       " '21h 15m',\n",
       " '2h 45m',\n",
       " '10h 50m',\n",
       " '8h',\n",
       " '8h 15m',\n",
       " '5h 25m',\n",
       " '8h 35m',\n",
       " '11h 50m',\n",
       " '27h 35m',\n",
       " '8h 25m',\n",
       " '20h 55m',\n",
       " '4h 50m',\n",
       " '8h 10m',\n",
       " '2h 20m',\n",
       " '24h 25m',\n",
       " '2h 50m',\n",
       " '12h 20m',\n",
       " '12h 15m',\n",
       " '23h 35m',\n",
       " '16h 35m',\n",
       " '2h 50m',\n",
       " '25h 45m',\n",
       " '26h 10m',\n",
       " '28h 50m',\n",
       " '2h 45m',\n",
       " '25h 15m',\n",
       " '9h 20m',\n",
       " '4h 30m',\n",
       " '15h 25m',\n",
       " '1h 30m',\n",
       " '2h 40m',\n",
       " '9h 10m',\n",
       " '2h 45m',\n",
       " '22h 35m',\n",
       " '3h 5m',\n",
       " '11h 30m',\n",
       " '9h 30m',\n",
       " '12h 10m',\n",
       " '17h 35m',\n",
       " '5h 5m',\n",
       " '25h 50m',\n",
       " '20h',\n",
       " '13h',\n",
       " '18h 25m',\n",
       " '1h 30m',\n",
       " '9h 30m',\n",
       " '16h',\n",
       " '2h 20m',\n",
       " '4h 30m',\n",
       " '5h 45m',\n",
       " '24h 10m',\n",
       " '2h 35m',\n",
       " '2h 45m',\n",
       " '4h 55m',\n",
       " '25h 35m',\n",
       " '6h 20m',\n",
       " '3h 5m',\n",
       " '18h 40m',\n",
       " '2h 15m',\n",
       " '12h 10m',\n",
       " '19h 25m',\n",
       " '2h 50m',\n",
       " '8h 25m',\n",
       " '9h 15m',\n",
       " '2h 50m',\n",
       " '3h 15m',\n",
       " '2h 50m',\n",
       " '12h 20m',\n",
       " '2h 55m',\n",
       " '9h 35m',\n",
       " '2h 35m',\n",
       " '9h 30m',\n",
       " '29h 20m',\n",
       " '2h 55m',\n",
       " '5h 15m',\n",
       " '9h 5m',\n",
       " '10h 45m',\n",
       " '4h 55m',\n",
       " '1h 30m',\n",
       " '11h 40m',\n",
       " '2h 45m',\n",
       " '2h 55m',\n",
       " '10h',\n",
       " '2h 45m',\n",
       " '10h 15m',\n",
       " '1h 25m',\n",
       " '9h 15m',\n",
       " '22h 55m',\n",
       " '28h 50m',\n",
       " '37h 25m',\n",
       " '2h 50m',\n",
       " '1h 30m',\n",
       " '1h 30m',\n",
       " '25h 40m',\n",
       " '2h 35m',\n",
       " '6h 15m',\n",
       " '17h 30m',\n",
       " '5h 45m',\n",
       " '2h 35m',\n",
       " '25h 30m',\n",
       " '13h 55m',\n",
       " '2h 55m',\n",
       " '10h 15m',\n",
       " '8h 40m',\n",
       " '5h 30m',\n",
       " '12h',\n",
       " '2h 15m',\n",
       " '2h 15m',\n",
       " '2h 50m',\n",
       " '9h 10m',\n",
       " '10h 25m',\n",
       " '2h 20m',\n",
       " '4h 30m',\n",
       " '3h 10m',\n",
       " '23h 30m',\n",
       " '27h 20m',\n",
       " '12h 35m',\n",
       " '24h 15m',\n",
       " '1h 20m',\n",
       " '2h 45m',\n",
       " '3h',\n",
       " '11h',\n",
       " '13h 30m',\n",
       " '2h 50m',\n",
       " '2h 55m',\n",
       " '2h 45m',\n",
       " '11h 15m',\n",
       " '14h 35m',\n",
       " '13h 55m',\n",
       " '14h 5m',\n",
       " '15h 5m',\n",
       " '2h 15m',\n",
       " '15h',\n",
       " '12h 55m',\n",
       " '9h',\n",
       " '12h 15m',\n",
       " '7h 40m',\n",
       " '27h 20m',\n",
       " '1h 25m',\n",
       " '1h 20m',\n",
       " '5h 30m',\n",
       " '11h 45m',\n",
       " '3h 15m',\n",
       " '24h 55m',\n",
       " '27h 20m',\n",
       " '2h 55m',\n",
       " '17h 5m',\n",
       " '2h 40m',\n",
       " '8h',\n",
       " '3h',\n",
       " '27h 35m',\n",
       " '7h 30m',\n",
       " '22h 55m',\n",
       " '8h 35m',\n",
       " '29h 55m',\n",
       " '22h 15m',\n",
       " '1h 20m',\n",
       " '2h 40m',\n",
       " '3h',\n",
       " '12h 10m',\n",
       " '2h 35m',\n",
       " '11h 45m',\n",
       " '2h 35m',\n",
       " '1h 30m',\n",
       " '2h 40m',\n",
       " '2h 35m',\n",
       " '22h 55m',\n",
       " '14h 40m',\n",
       " '15h 25m',\n",
       " '7h 15m',\n",
       " '20h 10m',\n",
       " '20h 45m',\n",
       " '2h 30m',\n",
       " '23h 50m',\n",
       " '27h',\n",
       " '5h 30m',\n",
       " '11h 50m',\n",
       " '2h 15m',\n",
       " '24h 30m',\n",
       " '2h 20m',\n",
       " '6h 30m',\n",
       " '20h 25m',\n",
       " '2h 35m',\n",
       " '2h 55m',\n",
       " '5h 35m',\n",
       " '2h 30m',\n",
       " '14h 45m',\n",
       " '12h 20m',\n",
       " '25h 30m',\n",
       " '5h 35m',\n",
       " '11h 45m',\n",
       " '2h 55m',\n",
       " '5h 40m',\n",
       " '4h 5m',\n",
       " '8h',\n",
       " '2h 45m',\n",
       " '2h 40m',\n",
       " '2h 55m',\n",
       " '15h 55m',\n",
       " '23h 10m',\n",
       " '7h 20m',\n",
       " '2h 50m',\n",
       " '7h 30m',\n",
       " '3h',\n",
       " '7h 45m',\n",
       " '25h 20m',\n",
       " '10h 25m',\n",
       " '30h 20m',\n",
       " '2h 35m',\n",
       " '9h',\n",
       " '15h 10m',\n",
       " '28h 20m',\n",
       " '3h',\n",
       " '2h 45m',\n",
       " '4h 55m',\n",
       " '2h 40m',\n",
       " '22h 10m',\n",
       " '10h 10m',\n",
       " '2h 50m',\n",
       " '4h 20m',\n",
       " '11h',\n",
       " '3h',\n",
       " '22h 35m',\n",
       " '3h 5m',\n",
       " '2h 40m',\n",
       " '2h 50m',\n",
       " '21h 5m',\n",
       " '11h 50m',\n",
       " '25h 35m',\n",
       " '15h 25m',\n",
       " '2h 25m',\n",
       " '3h 40m',\n",
       " '2h 55m',\n",
       " '3h 10m',\n",
       " '11h 50m',\n",
       " '2h 50m',\n",
       " '2h 50m',\n",
       " '1h 30m',\n",
       " '11h 30m',\n",
       " '8h 50m',\n",
       " '20h 15m',\n",
       " '20h 10m',\n",
       " '16h 5m',\n",
       " '12h 35m',\n",
       " '17h 5m',\n",
       " '3h',\n",
       " '15h 30m',\n",
       " '11h 30m',\n",
       " '2h 20m',\n",
       " '23h 45m',\n",
       " '1h 30m',\n",
       " '2h 35m',\n",
       " '24h 45m',\n",
       " '21h 35m',\n",
       " '5h 30m',\n",
       " '12h 15m',\n",
       " '8h 5m',\n",
       " '5h',\n",
       " '2h 50m',\n",
       " '6h 25m',\n",
       " '2h 20m',\n",
       " '2h 45m',\n",
       " '12h 45m',\n",
       " '15h 50m',\n",
       " '27h',\n",
       " '26h 25m',\n",
       " '2h 55m',\n",
       " '24h 50m',\n",
       " '8h 40m',\n",
       " '25h 45m',\n",
       " '2h 50m',\n",
       " '6h 15m',\n",
       " '10h 30m',\n",
       " '26h',\n",
       " '17h 5m',\n",
       " '21h 20m',\n",
       " '5h 35m',\n",
       " '2h 50m',\n",
       " '25h 50m',\n",
       " '12h 10m',\n",
       " '17h 5m',\n",
       " '8h 30m',\n",
       " '23h 5m',\n",
       " '9h 20m',\n",
       " '7h 55m',\n",
       " '1h 30m',\n",
       " '2h 50m',\n",
       " '2h 15m',\n",
       " '10h',\n",
       " '2h 35m',\n",
       " '7h 45m',\n",
       " '2h 55m',\n",
       " '26h 20m',\n",
       " '2h 40m',\n",
       " '11h',\n",
       " '19h 25m',\n",
       " '2h 55m',\n",
       " '2h 45m',\n",
       " '23h 15m',\n",
       " '9h',\n",
       " '3h 10m',\n",
       " '6h 25m',\n",
       " '8h 40m',\n",
       " '2h 50m',\n",
       " '12h 20m',\n",
       " '5h 20m',\n",
       " '4h',\n",
       " '9h 45m',\n",
       " '2h 55m',\n",
       " '26h 20m',\n",
       " '2h 15m',\n",
       " '9h 45m',\n",
       " '24h 55m',\n",
       " '11h 55m',\n",
       " '8h 20m',\n",
       " '17h 25m',\n",
       " '2h 50m',\n",
       " '7h 5m',\n",
       " '21h 15m',\n",
       " '5h',\n",
       " '2h 25m',\n",
       " '5h 15m',\n",
       " '15h 10m',\n",
       " '11h 45m',\n",
       " '3h',\n",
       " '4h 55m',\n",
       " '2h 45m',\n",
       " '2h 30m',\n",
       " '9h 45m',\n",
       " '2h 40m',\n",
       " '6h 30m',\n",
       " '5h 30m',\n",
       " '2h 40m',\n",
       " '34h 5m',\n",
       " '15h 25m',\n",
       " '9h 30m',\n",
       " '6h 5m',\n",
       " '2h 40m',\n",
       " '5h 50m',\n",
       " '2h 45m',\n",
       " '27h 20m',\n",
       " '3h',\n",
       " '5h 15m',\n",
       " '16h',\n",
       " '7h',\n",
       " '8h 40m',\n",
       " '9h',\n",
       " '2h 20m',\n",
       " '2h 20m',\n",
       " '6h 20m',\n",
       " '4h 25m',\n",
       " '2h 20m',\n",
       " '11h 5m',\n",
       " '16h 55m',\n",
       " '13h 45m',\n",
       " '25h 45m',\n",
       " '13h 55m',\n",
       " '5h 15m',\n",
       " '19h 15m',\n",
       " '7h 30m',\n",
       " '9h',\n",
       " '24h',\n",
       " '18h 10m',\n",
       " '2h 55m',\n",
       " '1h 30m',\n",
       " '21h 20m',\n",
       " '6h 15m',\n",
       " '14h 30m',\n",
       " '1h 20m',\n",
       " '12h 55m',\n",
       " '2h 25m',\n",
       " '22h 30m',\n",
       " '22h 55m',\n",
       " '5h 25m',\n",
       " '1h 25m',\n",
       " '7h 15m',\n",
       " '12h 20m',\n",
       " '20h 10m',\n",
       " '21h 15m',\n",
       " '2h 15m',\n",
       " '10h 30m',\n",
       " '14h 5m',\n",
       " '2h 50m',\n",
       " '16h 25m',\n",
       " '5h 15m',\n",
       " '13h 50m',\n",
       " '2h 15m',\n",
       " '7h 15m',\n",
       " '27h 5m',\n",
       " '27h 35m',\n",
       " '5h',\n",
       " '2h 50m',\n",
       " '2h 50m',\n",
       " '15h 20m',\n",
       " '5h 20m',\n",
       " '10h 10m',\n",
       " '27h 35m',\n",
       " '9h 35m',\n",
       " '28h 10m',\n",
       " '14h',\n",
       " '2h 35m',\n",
       " '2h 55m',\n",
       " '2h 35m',\n",
       " '4h 40m',\n",
       " '2h 30m',\n",
       " '11h 15m',\n",
       " '7h 55m',\n",
       " '8h 50m',\n",
       " '1h 25m',\n",
       " '15h 40m',\n",
       " '2h 35m',\n",
       " '2h 55m',\n",
       " '13h 25m',\n",
       " '4h 35m',\n",
       " '18h 30m',\n",
       " '2h 15m',\n",
       " '38h 15m',\n",
       " '3h 5m',\n",
       " '25h 50m',\n",
       " '3h 10m',\n",
       " '2h 50m',\n",
       " '11h 30m',\n",
       " '6h 35m',\n",
       " '27h 35m',\n",
       " '2h 35m',\n",
       " '7h 30m',\n",
       " '3h 15m',\n",
       " '9h 35m',\n",
       " '12h 30m',\n",
       " '11h 20m',\n",
       " '3h',\n",
       " '2h 35m',\n",
       " '1h 30m',\n",
       " '26h 10m',\n",
       " '4h 55m',\n",
       " '2h 45m',\n",
       " '8h 40m',\n",
       " '7h 5m',\n",
       " '2h 45m',\n",
       " '24h 50m',\n",
       " '2h 20m',\n",
       " '11h',\n",
       " '9h',\n",
       " '2h 55m',\n",
       " '3h 5m',\n",
       " '2h 35m',\n",
       " '13h',\n",
       " '1h 25m',\n",
       " '7h 35m',\n",
       " '2h 40m',\n",
       " '12h 55m',\n",
       " '29h 20m',\n",
       " '5h',\n",
       " '8h 40m',\n",
       " '3h',\n",
       " '3h',\n",
       " '2h 45m',\n",
       " '12h 10m',\n",
       " '2h 20m',\n",
       " '7h 55m',\n",
       " '29h 35m',\n",
       " '26h 55m',\n",
       " '12h 45m',\n",
       " '7h 35m',\n",
       " '2h 30m',\n",
       " '11h 45m',\n",
       " '23h 40m',\n",
       " '13h 50m',\n",
       " '12h 50m',\n",
       " '9h 50m',\n",
       " '2h 30m',\n",
       " '21h 55m',\n",
       " '26h 10m',\n",
       " '2h 55m',\n",
       " '20h 15m',\n",
       " '20h 10m',\n",
       " '10h 55m',\n",
       " '2h 30m',\n",
       " '21h 10m',\n",
       " '2h 35m',\n",
       " '20h 40m',\n",
       " '2h 50m',\n",
       " '6h 30m',\n",
       " '30h',\n",
       " '13h 10m',\n",
       " '2h 55m',\n",
       " '18h',\n",
       " '8h',\n",
       " '8h 45m',\n",
       " '12h 30m',\n",
       " '13h 20m',\n",
       " '6h 10m',\n",
       " '7h 30m',\n",
       " '19h 15m',\n",
       " '2h 35m',\n",
       " '12h',\n",
       " '3h',\n",
       " '2h 50m',\n",
       " '1h 25m',\n",
       " '23h 5m',\n",
       " '2h 50m',\n",
       " '22h 5m',\n",
       " '2h 15m',\n",
       " '5h 45m',\n",
       " '2h 50m',\n",
       " '9h 30m',\n",
       " '8h 55m',\n",
       " '17h 45m',\n",
       " '2h 50m',\n",
       " '21h 45m',\n",
       " '12h 35m',\n",
       " '1h 30m',\n",
       " '2h 15m',\n",
       " '3h 55m',\n",
       " '2h 45m',\n",
       " '7h 30m',\n",
       " '17h 20m',\n",
       " '1h 30m',\n",
       " '1h 30m',\n",
       " '30h 30m',\n",
       " '5h',\n",
       " '11h 15m',\n",
       " '2h 50m',\n",
       " '19h 5m',\n",
       " '6h 35m',\n",
       " '7h 30m',\n",
       " '2h 15m',\n",
       " '2h 45m',\n",
       " '12h 45m',\n",
       " '2h 50m',\n",
       " '26h 35m',\n",
       " '12h 55m',\n",
       " '1h 30m',\n",
       " '8h 40m',\n",
       " '14h',\n",
       " '23h 30m',\n",
       " '29h 55m',\n",
       " '22h 10m',\n",
       " '4h 50m',\n",
       " '2h 45m',\n",
       " '13h 30m',\n",
       " '13h 20m',\n",
       " '2h 20m',\n",
       " '11h 55m',\n",
       " '5h 10m',\n",
       " '11h 45m',\n",
       " '13h 50m',\n",
       " '3h',\n",
       " '6h 10m',\n",
       " '2h 20m',\n",
       " '10h 45m',\n",
       " '2h 15m',\n",
       " '2h 55m',\n",
       " '1h 30m',\n",
       " '7h 35m',\n",
       " '26h 35m',\n",
       " '4h 45m',\n",
       " '21h 25m',\n",
       " '8h 35m',\n",
       " '8h 30m',\n",
       " '2h 15m',\n",
       " '12h 40m',\n",
       " '8h 25m',\n",
       " '25h 40m',\n",
       " '2h 45m',\n",
       " '29h 20m',\n",
       " '2h 40m',\n",
       " '2h 50m',\n",
       " '2h 20m',\n",
       " '7h 15m',\n",
       " '20h 15m',\n",
       " '11h 45m',\n",
       " '2h 35m',\n",
       " '13h 30m',\n",
       " '1h 30m',\n",
       " '24h 35m',\n",
       " '20h 35m',\n",
       " '2h 50m',\n",
       " '4h 35m',\n",
       " '2h 20m',\n",
       " '11h 45m',\n",
       " '1h 30m',\n",
       " '12h 50m',\n",
       " '24h 30m',\n",
       " '11h 30m',\n",
       " '4h',\n",
       " '11h',\n",
       " '5h 25m',\n",
       " '2h 35m',\n",
       " '5h 10m',\n",
       " '10h 10m',\n",
       " '26h 55m',\n",
       " '7h 15m',\n",
       " '8h 10m',\n",
       " '2h 55m',\n",
       " '5h 15m',\n",
       " '2h 20m',\n",
       " '1h 25m',\n",
       " '4h 50m',\n",
       " '2h 20m',\n",
       " '2h 20m',\n",
       " '13h 15m',\n",
       " '19h 10m',\n",
       " '22h 40m',\n",
       " '14h 50m',\n",
       " '15h 10m',\n",
       " '7h 5m',\n",
       " '1h 25m',\n",
       " '2h 55m',\n",
       " '8h',\n",
       " '2h 45m',\n",
       " '14h 55m',\n",
       " '1h 30m',\n",
       " '16h 15m',\n",
       " '2h 50m',\n",
       " '5h',\n",
       " '22h 15m',\n",
       " '5h 30m',\n",
       " '8h 35m',\n",
       " '15h 25m',\n",
       " '21h',\n",
       " '13h 30m',\n",
       " '2h 50m',\n",
       " '6h 45m',\n",
       " '1h 30m',\n",
       " '8h 40m',\n",
       " '1h 30m',\n",
       " '2h 50m',\n",
       " '2h 35m',\n",
       " '16h 5m',\n",
       " '23h 50m',\n",
       " '27h 5m',\n",
       " '16h 15m',\n",
       " '15h 25m',\n",
       " '2h 50m',\n",
       " '8h 35m',\n",
       " '13h 50m',\n",
       " '2h 40m',\n",
       " '2h 25m',\n",
       " '3h 10m',\n",
       " '2h 55m',\n",
       " '28h 40m',\n",
       " '2h 50m',\n",
       " '2h 35m',\n",
       " '9h 40m',\n",
       " '16h 40m',\n",
       " '6h 20m',\n",
       " '27h',\n",
       " '14h 35m',\n",
       " '12h 10m',\n",
       " '7h 35m',\n",
       " '2h 20m',\n",
       " '19h 10m',\n",
       " '20h',\n",
       " '3h',\n",
       " '5h 10m',\n",
       " '2h 40m',\n",
       " '29h 35m',\n",
       " '4h 55m',\n",
       " '3h',\n",
       " '12h 30m',\n",
       " '12h 35m',\n",
       " '26h 20m',\n",
       " '13h 15m',\n",
       " '2h 50m',\n",
       " '12h 45m',\n",
       " '16h 20m',\n",
       " '2h 40m',\n",
       " '8h 15m',\n",
       " '12h',\n",
       " '2h 50m',\n",
       " '11h',\n",
       " '2h 20m',\n",
       " '13h 50m',\n",
       " '8h 10m',\n",
       " '12h 10m',\n",
       " '2h 40m',\n",
       " '2h 45m',\n",
       " '2h 50m',\n",
       " '24h',\n",
       " '3h',\n",
       " '12h 35m',\n",
       " '25h 50m',\n",
       " '2h 55m',\n",
       " '17h 5m',\n",
       " '29h 20m',\n",
       " '8h 55m',\n",
       " '3h 5m',\n",
       " '9h',\n",
       " '10h 25m',\n",
       " '16h 45m',\n",
       " '2h 45m',\n",
       " '26h 20m',\n",
       " '13h 15m',\n",
       " '10h 30m',\n",
       " '7h 35m',\n",
       " '11h',\n",
       " '2h 50m',\n",
       " '25h 45m',\n",
       " '6h 25m',\n",
       " '1h 25m',\n",
       " '20h 10m',\n",
       " '11h 55m',\n",
       " '2h 50m',\n",
       " '5h',\n",
       " '27h',\n",
       " '2h 50m',\n",
       " '1h 15m',\n",
       " '10h 15m',\n",
       " '24h 50m',\n",
       " '2h 50m',\n",
       " '20h',\n",
       " '5h 30m',\n",
       " '2h 45m',\n",
       " '6h 55m',\n",
       " '2h 45m',\n",
       " '5h 15m',\n",
       " '6h 15m',\n",
       " '2h 50m',\n",
       " '19h 25m',\n",
       " '2h 55m',\n",
       " '11h 25m',\n",
       " '14h 5m',\n",
       " '2h 45m',\n",
       " '3h 15m',\n",
       " '14h 20m',\n",
       " '12h 30m',\n",
       " '5h 20m',\n",
       " '26h 20m',\n",
       " '3h 5m',\n",
       " '1h 30m',\n",
       " '7h 5m',\n",
       " '6h 10m',\n",
       " '8h',\n",
       " '12h 5m',\n",
       " '12h 55m',\n",
       " '9h 35m',\n",
       " '15h 10m',\n",
       " '11h 40m',\n",
       " '2h 55m',\n",
       " '4h 30m',\n",
       " '2h 40m',\n",
       " '2h 30m',\n",
       " '24h 10m',\n",
       " '28h 20m',\n",
       " '1h 25m',\n",
       " '10h 10m',\n",
       " '11h 30m',\n",
       " '2h 50m',\n",
       " '13h 45m',\n",
       " '6h 25m',\n",
       " '12h 55m',\n",
       " '4h 25m',\n",
       " '13h 30m',\n",
       " '24h 5m',\n",
       " '16h 5m',\n",
       " '8h 20m',\n",
       " '3h 40m',\n",
       " '9h 30m',\n",
       " '28h 15m',\n",
       " '13h 20m',\n",
       " '17h 50m',\n",
       " '20h 20m',\n",
       " '28h 5m',\n",
       " '15h 25m',\n",
       " '12h 5m',\n",
       " '10h 20m',\n",
       " '12h 25m',\n",
       " '7h 35m',\n",
       " '2h 50m',\n",
       " '4h 35m',\n",
       " '11h 15m',\n",
       " '2h 35m',\n",
       " '26h',\n",
       " '2h 25m',\n",
       " '2h 35m',\n",
       " '14h 15m',\n",
       " '2h 35m',\n",
       " '22h 5m',\n",
       " '6h 35m',\n",
       " '8h 30m',\n",
       " '18h 45m',\n",
       " '35h 15m',\n",
       " '2h 15m',\n",
       " '2h 30m',\n",
       " '2h 20m',\n",
       " '2h 30m',\n",
       " '7h 35m',\n",
       " '35h 35m',\n",
       " '26h 30m',\n",
       " '11h 30m',\n",
       " '26h 40m',\n",
       " '3h',\n",
       " '1h 30m',\n",
       " '2h 55m',\n",
       " '14h 15m',\n",
       " '16h 55m',\n",
       " '12h 20m',\n",
       " '29h 35m',\n",
       " '20h 20m',\n",
       " '8h 25m',\n",
       " '13h 50m',\n",
       " '10h',\n",
       " '19h 25m',\n",
       " '28h',\n",
       " '2h 50m',\n",
       " '17h 20m',\n",
       " '2h 45m',\n",
       " '2h 55m',\n",
       " '13h 25m',\n",
       " '12h 55m',\n",
       " '9h 45m',\n",
       " '21h 25m',\n",
       " '15h 40m',\n",
       " '2h 20m',\n",
       " '14h 25m',\n",
       " '2h 50m',\n",
       " '6h 35m',\n",
       " '22h 10m',\n",
       " '14h 25m',\n",
       " '2h 30m',\n",
       " '23h 35m',\n",
       " '13h 5m',\n",
       " '1h 30m',\n",
       " '5h 5m',\n",
       " '1h 20m',\n",
       " '22h 55m',\n",
       " '1h 30m',\n",
       " '2h 35m',\n",
       " '37h 20m',\n",
       " '2h 50m',\n",
       " '2h 50m',\n",
       " '36h 10m',\n",
       " '9h 15m',\n",
       " '1h 25m',\n",
       " '5h 5m',\n",
       " '2h 15m',\n",
       " '15h 10m',\n",
       " '25h 55m',\n",
       " '5h 40m',\n",
       " '7h 30m',\n",
       " '17h 45m',\n",
       " '2h 20m',\n",
       " '8h 15m',\n",
       " '3h 40m',\n",
       " '5h 55m',\n",
       " '2h 30m',\n",
       " '17h 30m',\n",
       " '13h 50m',\n",
       " '2h 15m',\n",
       " '21h 35m',\n",
       " '9h 30m',\n",
       " '8h 40m',\n",
       " '10h 25m',\n",
       " '35h 5m',\n",
       " '14h 15m',\n",
       " '3h',\n",
       " '25h 50m',\n",
       " '2h 30m',\n",
       " '8h 40m',\n",
       " '10h',\n",
       " '11h 30m',\n",
       " '7h 30m',\n",
       " ...]"
      ]
     },
     "execution_count": 23,
     "metadata": {},
     "output_type": "execute_result"
    }
   ],
   "source": [
    "# Assigning and converting Duration Column into list\n",
    "duration = list(train_data[\"Duration\"])\n",
    "duration"
   ]
  },
  {
   "cell_type": "code",
   "execution_count": 24,
   "metadata": {
    "execution": {
     "iopub.execute_input": "2020-11-20T15:55:11.418579Z",
     "iopub.status.busy": "2020-11-20T15:55:11.413401Z",
     "iopub.status.idle": "2020-11-20T15:55:11.445554Z",
     "shell.execute_reply": "2020-11-20T15:55:11.444864Z"
    },
    "papermill": {
     "duration": 0.121971,
     "end_time": "2020-11-20T15:55:11.445664",
     "exception": false,
     "start_time": "2020-11-20T15:55:11.323693",
     "status": "completed"
    },
    "tags": []
   },
   "outputs": [],
   "source": [
    "for i in range(len(duration)):\n",
    "    if len(duration[i].split()) != 2:   # to check whether it contains the both hour and minutes\n",
    "        if \"h\" in duration[i]:\n",
    "            duration[i] = duration[i].strip() + \" 0m\"  # If duration is having hour only adding the minute value\n",
    "        else:\n",
    "            duration[i] = \"0h \" + duration[i]     # If duration is having minute only adding the hour value\n",
    "            \n",
    "duration_hours = []\n",
    "duration_mins = []\n",
    "\n",
    "for i in range(len(duration)):\n",
    "    duration_hours.append(int(duration[i].split(sep=\"h\")[0]))\n",
    "    duration_mins.append(int(duration[i].split(sep=\"m\")[0].split()[-1]))"
   ]
  },
  {
   "cell_type": "code",
   "execution_count": 25,
   "metadata": {
    "execution": {
     "iopub.execute_input": "2020-11-20T15:55:11.624075Z",
     "iopub.status.busy": "2020-11-20T15:55:11.623059Z",
     "iopub.status.idle": "2020-11-20T15:55:11.627341Z",
     "shell.execute_reply": "2020-11-20T15:55:11.626629Z"
    },
    "papermill": {
     "duration": 0.101029,
     "end_time": "2020-11-20T15:55:11.627457",
     "exception": false,
     "start_time": "2020-11-20T15:55:11.526428",
     "status": "completed"
    },
    "tags": []
   },
   "outputs": [],
   "source": [
    "# Adding the Duration Hours and Duration Mins Columns in the Datasets\n",
    "\n",
    "train_data[\"Duration_hours\"] = duration_hours\n",
    "train_data[\"Duration_mins\"] = duration_mins"
   ]
  },
  {
   "cell_type": "code",
   "execution_count": 26,
   "metadata": {
    "execution": {
     "iopub.execute_input": "2020-11-20T15:55:11.808682Z",
     "iopub.status.busy": "2020-11-20T15:55:11.807746Z",
     "iopub.status.idle": "2020-11-20T15:55:11.812031Z",
     "shell.execute_reply": "2020-11-20T15:55:11.812612Z"
    },
    "papermill": {
     "duration": 0.104167,
     "end_time": "2020-11-20T15:55:11.812769",
     "exception": false,
     "start_time": "2020-11-20T15:55:11.708602",
     "status": "completed"
    },
    "tags": []
   },
   "outputs": [
    {
     "data": {
      "text/html": [
       "<div>\n",
       "<style scoped>\n",
       "    .dataframe tbody tr th:only-of-type {\n",
       "        vertical-align: middle;\n",
       "    }\n",
       "\n",
       "    .dataframe tbody tr th {\n",
       "        vertical-align: top;\n",
       "    }\n",
       "\n",
       "    .dataframe thead th {\n",
       "        text-align: right;\n",
       "    }\n",
       "</style>\n",
       "<table border=\"1\" class=\"dataframe\">\n",
       "  <thead>\n",
       "    <tr style=\"text-align: right;\">\n",
       "      <th></th>\n",
       "      <th>Airline</th>\n",
       "      <th>Source</th>\n",
       "      <th>Destination</th>\n",
       "      <th>Route</th>\n",
       "      <th>Duration</th>\n",
       "      <th>Total_Stops</th>\n",
       "      <th>Additional_Info</th>\n",
       "      <th>Price</th>\n",
       "      <th>Journey_day</th>\n",
       "      <th>Journey_month</th>\n",
       "      <th>Dep_Hour</th>\n",
       "      <th>Dep_min</th>\n",
       "      <th>Arrival_Hour</th>\n",
       "      <th>Arrival_min</th>\n",
       "      <th>Duration_hours</th>\n",
       "      <th>Duration_mins</th>\n",
       "    </tr>\n",
       "  </thead>\n",
       "  <tbody>\n",
       "    <tr>\n",
       "      <th>0</th>\n",
       "      <td>IndiGo</td>\n",
       "      <td>Banglore</td>\n",
       "      <td>New Delhi</td>\n",
       "      <td>BLR → DEL</td>\n",
       "      <td>2h 50m</td>\n",
       "      <td>non-stop</td>\n",
       "      <td>No info</td>\n",
       "      <td>3897</td>\n",
       "      <td>24</td>\n",
       "      <td>3</td>\n",
       "      <td>22</td>\n",
       "      <td>20</td>\n",
       "      <td>1</td>\n",
       "      <td>10</td>\n",
       "      <td>2</td>\n",
       "      <td>50</td>\n",
       "    </tr>\n",
       "    <tr>\n",
       "      <th>1</th>\n",
       "      <td>Air India</td>\n",
       "      <td>Kolkata</td>\n",
       "      <td>Banglore</td>\n",
       "      <td>CCU → IXR → BBI → BLR</td>\n",
       "      <td>7h 25m</td>\n",
       "      <td>2 stops</td>\n",
       "      <td>No info</td>\n",
       "      <td>7662</td>\n",
       "      <td>1</td>\n",
       "      <td>5</td>\n",
       "      <td>5</td>\n",
       "      <td>50</td>\n",
       "      <td>13</td>\n",
       "      <td>15</td>\n",
       "      <td>7</td>\n",
       "      <td>25</td>\n",
       "    </tr>\n",
       "    <tr>\n",
       "      <th>2</th>\n",
       "      <td>Jet Airways</td>\n",
       "      <td>Delhi</td>\n",
       "      <td>Cochin</td>\n",
       "      <td>DEL → LKO → BOM → COK</td>\n",
       "      <td>19h</td>\n",
       "      <td>2 stops</td>\n",
       "      <td>No info</td>\n",
       "      <td>13882</td>\n",
       "      <td>9</td>\n",
       "      <td>6</td>\n",
       "      <td>9</td>\n",
       "      <td>25</td>\n",
       "      <td>4</td>\n",
       "      <td>25</td>\n",
       "      <td>19</td>\n",
       "      <td>0</td>\n",
       "    </tr>\n",
       "    <tr>\n",
       "      <th>3</th>\n",
       "      <td>IndiGo</td>\n",
       "      <td>Kolkata</td>\n",
       "      <td>Banglore</td>\n",
       "      <td>CCU → NAG → BLR</td>\n",
       "      <td>5h 25m</td>\n",
       "      <td>1 stop</td>\n",
       "      <td>No info</td>\n",
       "      <td>6218</td>\n",
       "      <td>12</td>\n",
       "      <td>5</td>\n",
       "      <td>18</td>\n",
       "      <td>5</td>\n",
       "      <td>23</td>\n",
       "      <td>30</td>\n",
       "      <td>5</td>\n",
       "      <td>25</td>\n",
       "    </tr>\n",
       "    <tr>\n",
       "      <th>4</th>\n",
       "      <td>IndiGo</td>\n",
       "      <td>Banglore</td>\n",
       "      <td>New Delhi</td>\n",
       "      <td>BLR → NAG → DEL</td>\n",
       "      <td>4h 45m</td>\n",
       "      <td>1 stop</td>\n",
       "      <td>No info</td>\n",
       "      <td>13302</td>\n",
       "      <td>1</td>\n",
       "      <td>3</td>\n",
       "      <td>16</td>\n",
       "      <td>50</td>\n",
       "      <td>21</td>\n",
       "      <td>35</td>\n",
       "      <td>4</td>\n",
       "      <td>45</td>\n",
       "    </tr>\n",
       "  </tbody>\n",
       "</table>\n",
       "</div>"
      ],
      "text/plain": [
       "       Airline    Source Destination                  Route Duration  \\\n",
       "0       IndiGo  Banglore   New Delhi              BLR → DEL   2h 50m   \n",
       "1    Air India   Kolkata    Banglore  CCU → IXR → BBI → BLR   7h 25m   \n",
       "2  Jet Airways     Delhi      Cochin  DEL → LKO → BOM → COK      19h   \n",
       "3       IndiGo   Kolkata    Banglore        CCU → NAG → BLR   5h 25m   \n",
       "4       IndiGo  Banglore   New Delhi        BLR → NAG → DEL   4h 45m   \n",
       "\n",
       "  Total_Stops Additional_Info  Price  Journey_day  Journey_month  Dep_Hour  \\\n",
       "0    non-stop         No info   3897           24              3        22   \n",
       "1     2 stops         No info   7662            1              5         5   \n",
       "2     2 stops         No info  13882            9              6         9   \n",
       "3      1 stop         No info   6218           12              5        18   \n",
       "4      1 stop         No info  13302            1              3        16   \n",
       "\n",
       "   Dep_min  Arrival_Hour  Arrival_min  Duration_hours  Duration_mins  \n",
       "0       20             1           10               2             50  \n",
       "1       50            13           15               7             25  \n",
       "2       25             4           25              19              0  \n",
       "3        5            23           30               5             25  \n",
       "4       50            21           35               4             45  "
      ]
     },
     "execution_count": 26,
     "metadata": {},
     "output_type": "execute_result"
    }
   ],
   "source": [
    "train_data.head()"
   ]
  },
  {
   "cell_type": "code",
   "execution_count": 27,
   "metadata": {
    "execution": {
     "iopub.execute_input": "2020-11-20T15:55:11.986547Z",
     "iopub.status.busy": "2020-11-20T15:55:11.985446Z",
     "iopub.status.idle": "2020-11-20T15:55:11.990636Z",
     "shell.execute_reply": "2020-11-20T15:55:11.991126Z"
    },
    "papermill": {
     "duration": 0.095399,
     "end_time": "2020-11-20T15:55:11.991270",
     "exception": false,
     "start_time": "2020-11-20T15:55:11.895871",
     "status": "completed"
    },
    "tags": []
   },
   "outputs": [],
   "source": [
    "train_data.drop([\"Duration\"], axis = 1, inplace = True)"
   ]
  },
  {
   "cell_type": "markdown",
   "metadata": {
    "papermill": {
     "duration": 0.082194,
     "end_time": "2020-11-20T15:55:12.156036",
     "exception": false,
     "start_time": "2020-11-20T15:55:12.073842",
     "status": "completed"
    },
    "tags": []
   },
   "source": [
    "# Handling Categorical Data"
   ]
  },
  {
   "cell_type": "code",
   "execution_count": 28,
   "metadata": {
    "execution": {
     "iopub.execute_input": "2020-11-20T15:55:12.370709Z",
     "iopub.status.busy": "2020-11-20T15:55:12.369893Z",
     "iopub.status.idle": "2020-11-20T15:55:12.375457Z",
     "shell.execute_reply": "2020-11-20T15:55:12.376157Z"
    },
    "papermill": {
     "duration": 0.138198,
     "end_time": "2020-11-20T15:55:12.376349",
     "exception": false,
     "start_time": "2020-11-20T15:55:12.238151",
     "status": "completed"
    },
    "tags": []
   },
   "outputs": [
    {
     "name": "stdout",
     "output_type": "stream",
     "text": [
      "12\n",
      "['IndiGo' 'Air India' 'Jet Airways' 'SpiceJet' 'Multiple carriers' 'GoAir'\n",
      " 'Vistara' 'Air Asia' 'Vistara Premium economy' 'Jet Airways Business'\n",
      " 'Multiple carriers Premium economy' 'Trujet']\n"
     ]
    }
   ],
   "source": [
    "print(train_data[\"Airline\"].nunique())\n",
    "print(train_data[\"Airline\"].unique())"
   ]
  },
  {
   "cell_type": "raw",
   "metadata": {
    "papermill": {
     "duration": 0.082104,
     "end_time": "2020-11-20T15:55:12.541771",
     "exception": false,
     "start_time": "2020-11-20T15:55:12.459667",
     "status": "completed"
    },
    "tags": []
   },
   "source": [
    "From above we can see that there are 12 functional airlines"
   ]
  },
  {
   "cell_type": "code",
   "execution_count": 29,
   "metadata": {
    "execution": {
     "iopub.execute_input": "2020-11-20T15:55:12.717802Z",
     "iopub.status.busy": "2020-11-20T15:55:12.716917Z",
     "iopub.status.idle": "2020-11-20T15:55:12.721346Z",
     "shell.execute_reply": "2020-11-20T15:55:12.720676Z"
    },
    "papermill": {
     "duration": 0.0978,
     "end_time": "2020-11-20T15:55:12.721454",
     "exception": false,
     "start_time": "2020-11-20T15:55:12.623654",
     "status": "completed"
    },
    "tags": []
   },
   "outputs": [
    {
     "data": {
      "text/plain": [
       "Jet Airways                          3849\n",
       "IndiGo                               2053\n",
       "Air India                            1751\n",
       "Multiple carriers                    1196\n",
       "SpiceJet                              818\n",
       "Vistara                               479\n",
       "Air Asia                              319\n",
       "GoAir                                 194\n",
       "Multiple carriers Premium economy      13\n",
       "Jet Airways Business                    6\n",
       "Vistara Premium economy                 3\n",
       "Trujet                                  1\n",
       "Name: Airline, dtype: int64"
      ]
     },
     "execution_count": 29,
     "metadata": {},
     "output_type": "execute_result"
    }
   ],
   "source": [
    "# Counting the number of of flights from each of the Airlines\n",
    "train_data[\"Airline\"].value_counts()"
   ]
  },
  {
   "cell_type": "markdown",
   "metadata": {
    "papermill": {
     "duration": 0.083371,
     "end_time": "2020-11-20T15:55:12.890549",
     "exception": false,
     "start_time": "2020-11-20T15:55:12.807178",
     "status": "completed"
    },
    "tags": []
   },
   "source": [
    "From above we see that Jet Airways and IndiGo have the larget share of the filghts\n",
    "\n",
    "While Trujet, Vistara Premium economy and Jet Airways Business have very less or neglegible share"
   ]
  },
  {
   "cell_type": "code",
   "execution_count": 30,
   "metadata": {
    "execution": {
     "iopub.execute_input": "2020-11-20T15:55:13.088367Z",
     "iopub.status.busy": "2020-11-20T15:55:13.087638Z",
     "iopub.status.idle": "2020-11-20T15:55:13.714394Z",
     "shell.execute_reply": "2020-11-20T15:55:13.713656Z"
    },
    "papermill": {
     "duration": 0.730717,
     "end_time": "2020-11-20T15:55:13.714510",
     "exception": false,
     "start_time": "2020-11-20T15:55:12.983793",
     "status": "completed"
    },
    "tags": []
   },
   "outputs": [
    {
     "data": {
      "image/png": "[encoded data removed]",
      "text/plain": [
       "<Figure size 1296x432 with 1 Axes>"
      ]
     },
     "metadata": {},
     "output_type": "display_data"
    }
   ],
   "source": [
    "sns.catplot(y=\"Price\", x=\"Airline\", data=train_data.sort_values(\"Price\", ascending=False), kind=\"boxen\", height=6, aspect=3)\n",
    "plt.show()"
   ]
  },
  {
   "cell_type": "code",
   "execution_count": 31,
   "metadata": {
    "execution": {
     "iopub.execute_input": "2020-11-20T15:55:13.895398Z",
     "iopub.status.busy": "2020-11-20T15:55:13.894609Z",
     "iopub.status.idle": "2020-11-20T15:55:13.908721Z",
     "shell.execute_reply": "2020-11-20T15:55:13.909231Z"
    },
    "papermill": {
     "duration": 0.109652,
     "end_time": "2020-11-20T15:55:13.909373",
     "exception": false,
     "start_time": "2020-11-20T15:55:13.799721",
     "status": "completed"
    },
    "tags": []
   },
   "outputs": [
    {
     "data": {
      "text/html": [
       "<div>\n",
       "<style scoped>\n",
       "    .dataframe tbody tr th:only-of-type {\n",
       "        vertical-align: middle;\n",
       "    }\n",
       "\n",
       "    .dataframe tbody tr th {\n",
       "        vertical-align: top;\n",
       "    }\n",
       "\n",
       "    .dataframe thead th {\n",
       "        text-align: right;\n",
       "    }\n",
       "</style>\n",
       "<table border=\"1\" class=\"dataframe\">\n",
       "  <thead>\n",
       "    <tr style=\"text-align: right;\">\n",
       "      <th></th>\n",
       "      <th>Airline_Air India</th>\n",
       "      <th>Airline_GoAir</th>\n",
       "      <th>Airline_IndiGo</th>\n",
       "      <th>Airline_Jet Airways</th>\n",
       "      <th>Airline_Jet Airways Business</th>\n",
       "      <th>Airline_Multiple carriers</th>\n",
       "      <th>Airline_Multiple carriers Premium economy</th>\n",
       "      <th>Airline_SpiceJet</th>\n",
       "      <th>Airline_Trujet</th>\n",
       "      <th>Airline_Vistara</th>\n",
       "      <th>Airline_Vistara Premium economy</th>\n",
       "    </tr>\n",
       "  </thead>\n",
       "  <tbody>\n",
       "    <tr>\n",
       "      <th>0</th>\n",
       "      <td>0</td>\n",
       "      <td>0</td>\n",
       "      <td>1</td>\n",
       "      <td>0</td>\n",
       "      <td>0</td>\n",
       "      <td>0</td>\n",
       "      <td>0</td>\n",
       "      <td>0</td>\n",
       "      <td>0</td>\n",
       "      <td>0</td>\n",
       "      <td>0</td>\n",
       "    </tr>\n",
       "    <tr>\n",
       "      <th>1</th>\n",
       "      <td>1</td>\n",
       "      <td>0</td>\n",
       "      <td>0</td>\n",
       "      <td>0</td>\n",
       "      <td>0</td>\n",
       "      <td>0</td>\n",
       "      <td>0</td>\n",
       "      <td>0</td>\n",
       "      <td>0</td>\n",
       "      <td>0</td>\n",
       "      <td>0</td>\n",
       "    </tr>\n",
       "    <tr>\n",
       "      <th>2</th>\n",
       "      <td>0</td>\n",
       "      <td>0</td>\n",
       "      <td>0</td>\n",
       "      <td>1</td>\n",
       "      <td>0</td>\n",
       "      <td>0</td>\n",
       "      <td>0</td>\n",
       "      <td>0</td>\n",
       "      <td>0</td>\n",
       "      <td>0</td>\n",
       "      <td>0</td>\n",
       "    </tr>\n",
       "    <tr>\n",
       "      <th>3</th>\n",
       "      <td>0</td>\n",
       "      <td>0</td>\n",
       "      <td>1</td>\n",
       "      <td>0</td>\n",
       "      <td>0</td>\n",
       "      <td>0</td>\n",
       "      <td>0</td>\n",
       "      <td>0</td>\n",
       "      <td>0</td>\n",
       "      <td>0</td>\n",
       "      <td>0</td>\n",
       "    </tr>\n",
       "    <tr>\n",
       "      <th>4</th>\n",
       "      <td>0</td>\n",
       "      <td>0</td>\n",
       "      <td>1</td>\n",
       "      <td>0</td>\n",
       "      <td>0</td>\n",
       "      <td>0</td>\n",
       "      <td>0</td>\n",
       "      <td>0</td>\n",
       "      <td>0</td>\n",
       "      <td>0</td>\n",
       "      <td>0</td>\n",
       "    </tr>\n",
       "  </tbody>\n",
       "</table>\n",
       "</div>"
      ],
      "text/plain": [
       "   Airline_Air India  Airline_GoAir  Airline_IndiGo  Airline_Jet Airways  \\\n",
       "0                  0              0               1                    0   \n",
       "1                  1              0               0                    0   \n",
       "2                  0              0               0                    1   \n",
       "3                  0              0               1                    0   \n",
       "4                  0              0               1                    0   \n",
       "\n",
       "   Airline_Jet Airways Business  Airline_Multiple carriers  \\\n",
       "0                             0                          0   \n",
       "1                             0                          0   \n",
       "2                             0                          0   \n",
       "3                             0                          0   \n",
       "4                             0                          0   \n",
       "\n",
       "   Airline_Multiple carriers Premium economy  Airline_SpiceJet  \\\n",
       "0                                          0                 0   \n",
       "1                                          0                 0   \n",
       "2                                          0                 0   \n",
       "3                                          0                 0   \n",
       "4                                          0                 0   \n",
       "\n",
       "   Airline_Trujet  Airline_Vistara  Airline_Vistara Premium economy  \n",
       "0               0                0                                0  \n",
       "1               0                0                                0  \n",
       "2               0                0                                0  \n",
       "3               0                0                                0  \n",
       "4               0                0                                0  "
      ]
     },
     "execution_count": 31,
     "metadata": {},
     "output_type": "execute_result"
    }
   ],
   "source": [
    "# Since Airline is Nominal Categorical data we will perform OneHotEncoding\n",
    "\n",
    "Airline = train_data[[\"Airline\"]]\n",
    "\n",
    "Airline = pd.get_dummies(Airline, drop_first=True)\n",
    "\n",
    "Airline.head()"
   ]
  },
  {
   "cell_type": "code",
   "execution_count": 32,
   "metadata": {
    "execution": {
     "iopub.execute_input": "2020-11-20T15:55:14.088580Z",
     "iopub.status.busy": "2020-11-20T15:55:14.087642Z",
     "iopub.status.idle": "2020-11-20T15:55:14.094224Z",
     "shell.execute_reply": "2020-11-20T15:55:14.093532Z"
    },
    "papermill": {
     "duration": 0.099127,
     "end_time": "2020-11-20T15:55:14.094337",
     "exception": false,
     "start_time": "2020-11-20T15:55:13.995210",
     "status": "completed"
    },
    "tags": []
   },
   "outputs": [
    {
     "name": "stdout",
     "output_type": "stream",
     "text": [
      "5\n",
      "['Banglore' 'Kolkata' 'Delhi' 'Chennai' 'Mumbai']\n"
     ]
    }
   ],
   "source": [
    "print(train_data[\"Source\"].nunique())\n",
    "print(train_data[\"Source\"].unique())"
   ]
  },
  {
   "cell_type": "markdown",
   "metadata": {
    "papermill": {
     "duration": 0.085483,
     "end_time": "2020-11-20T15:55:14.267400",
     "exception": false,
     "start_time": "2020-11-20T15:55:14.181917",
     "status": "completed"
    },
    "tags": []
   },
   "source": [
    "There is 5 unique values Source in the Dataset"
   ]
  },
  {
   "cell_type": "code",
   "execution_count": 33,
   "metadata": {
    "execution": {
     "iopub.execute_input": "2020-11-20T15:55:14.451388Z",
     "iopub.status.busy": "2020-11-20T15:55:14.450602Z",
     "iopub.status.idle": "2020-11-20T15:55:14.454352Z",
     "shell.execute_reply": "2020-11-20T15:55:14.454860Z"
    },
    "papermill": {
     "duration": 0.101499,
     "end_time": "2020-11-20T15:55:14.455011",
     "exception": false,
     "start_time": "2020-11-20T15:55:14.353512",
     "status": "completed"
    },
    "tags": []
   },
   "outputs": [
    {
     "data": {
      "text/plain": [
       "Delhi       4536\n",
       "Kolkata     2871\n",
       "Banglore    2197\n",
       "Mumbai       697\n",
       "Chennai      381\n",
       "Name: Source, dtype: int64"
      ]
     },
     "execution_count": 33,
     "metadata": {},
     "output_type": "execute_result"
    }
   ],
   "source": [
    "train_data[\"Source\"].value_counts()"
   ]
  },
  {
   "cell_type": "code",
   "execution_count": 34,
   "metadata": {
    "execution": {
     "iopub.execute_input": "2020-11-20T15:55:14.637480Z",
     "iopub.status.busy": "2020-11-20T15:55:14.636719Z",
     "iopub.status.idle": "2020-11-20T15:55:15.045341Z",
     "shell.execute_reply": "2020-11-20T15:55:15.044716Z"
    },
    "papermill": {
     "duration": 0.50308,
     "end_time": "2020-11-20T15:55:15.045476",
     "exception": false,
     "start_time": "2020-11-20T15:55:14.542396",
     "status": "completed"
    },
    "tags": []
   },
   "outputs": [
    {
     "data": {
      "text/plain": [
       "<seaborn.axisgrid.FacetGrid at 0x7ff2145e7750>"
      ]
     },
     "execution_count": 34,
     "metadata": {},
     "output_type": "execute_result"
    },
    {
     "data": {
      "image/png": "[encoded data removed]",
      "text/plain": [
       "<Figure size 2016x504 with 1 Axes>"
      ]
     },
     "metadata": {},
     "output_type": "display_data"
    }
   ],
   "source": [
    "# Plotting the Source vs Price\n",
    "\n",
    "\n",
    "sns.catplot(y=\"Price\", x=\"Source\", data=train_data.sort_values(\"Price\", ascending=False), kind=\"boxen\", height=7, aspect = 4 )"
   ]
  },
  {
   "cell_type": "code",
   "execution_count": 35,
   "metadata": {
    "execution": {
     "iopub.execute_input": "2020-11-20T15:55:15.232741Z",
     "iopub.status.busy": "2020-11-20T15:55:15.230124Z",
     "iopub.status.idle": "2020-11-20T15:55:15.243688Z",
     "shell.execute_reply": "2020-11-20T15:55:15.244192Z"
    },
    "papermill": {
     "duration": 0.109051,
     "end_time": "2020-11-20T15:55:15.244334",
     "exception": false,
     "start_time": "2020-11-20T15:55:15.135283",
     "status": "completed"
    },
    "tags": []
   },
   "outputs": [
    {
     "data": {
      "text/html": [
       "<div>\n",
       "<style scoped>\n",
       "    .dataframe tbody tr th:only-of-type {\n",
       "        vertical-align: middle;\n",
       "    }\n",
       "\n",
       "    .dataframe tbody tr th {\n",
       "        vertical-align: top;\n",
       "    }\n",
       "\n",
       "    .dataframe thead th {\n",
       "        text-align: right;\n",
       "    }\n",
       "</style>\n",
       "<table border=\"1\" class=\"dataframe\">\n",
       "  <thead>\n",
       "    <tr style=\"text-align: right;\">\n",
       "      <th></th>\n",
       "      <th>Source_Chennai</th>\n",
       "      <th>Source_Delhi</th>\n",
       "      <th>Source_Kolkata</th>\n",
       "      <th>Source_Mumbai</th>\n",
       "    </tr>\n",
       "  </thead>\n",
       "  <tbody>\n",
       "    <tr>\n",
       "      <th>0</th>\n",
       "      <td>0</td>\n",
       "      <td>0</td>\n",
       "      <td>0</td>\n",
       "      <td>0</td>\n",
       "    </tr>\n",
       "    <tr>\n",
       "      <th>1</th>\n",
       "      <td>0</td>\n",
       "      <td>0</td>\n",
       "      <td>1</td>\n",
       "      <td>0</td>\n",
       "    </tr>\n",
       "    <tr>\n",
       "      <th>2</th>\n",
       "      <td>0</td>\n",
       "      <td>1</td>\n",
       "      <td>0</td>\n",
       "      <td>0</td>\n",
       "    </tr>\n",
       "    <tr>\n",
       "      <th>3</th>\n",
       "      <td>0</td>\n",
       "      <td>0</td>\n",
       "      <td>1</td>\n",
       "      <td>0</td>\n",
       "    </tr>\n",
       "    <tr>\n",
       "      <th>4</th>\n",
       "      <td>0</td>\n",
       "      <td>0</td>\n",
       "      <td>0</td>\n",
       "      <td>0</td>\n",
       "    </tr>\n",
       "  </tbody>\n",
       "</table>\n",
       "</div>"
      ],
      "text/plain": [
       "   Source_Chennai  Source_Delhi  Source_Kolkata  Source_Mumbai\n",
       "0               0             0               0              0\n",
       "1               0             0               1              0\n",
       "2               0             1               0              0\n",
       "3               0             0               1              0\n",
       "4               0             0               0              0"
      ]
     },
     "execution_count": 35,
     "metadata": {},
     "output_type": "execute_result"
    }
   ],
   "source": [
    "# Since Source is also Numerical we will do OneHotEncodding\n",
    "\n",
    "Source = train_data[[\"Source\"]]\n",
    "\n",
    "Source = pd.get_dummies(Source, drop_first = True)\n",
    "\n",
    "Source.head()"
   ]
  },
  {
   "cell_type": "code",
   "execution_count": 36,
   "metadata": {
    "execution": {
     "iopub.execute_input": "2020-11-20T15:55:15.426494Z",
     "iopub.status.busy": "2020-11-20T15:55:15.425751Z",
     "iopub.status.idle": "2020-11-20T15:55:15.432695Z",
     "shell.execute_reply": "2020-11-20T15:55:15.431738Z"
    },
    "papermill": {
     "duration": 0.101459,
     "end_time": "2020-11-20T15:55:15.432848",
     "exception": false,
     "start_time": "2020-11-20T15:55:15.331389",
     "status": "completed"
    },
    "tags": []
   },
   "outputs": [
    {
     "name": "stdout",
     "output_type": "stream",
     "text": [
      "6\n",
      "['New Delhi' 'Banglore' 'Cochin' 'Kolkata' 'Delhi' 'Hyderabad']\n"
     ]
    }
   ],
   "source": [
    "# Printing and Counting the number of unique values in the Destination Columns\n",
    "print(train_data[\"Destination\"].nunique())\n",
    "print(train_data[\"Destination\"].unique())"
   ]
  },
  {
   "cell_type": "code",
   "execution_count": 37,
   "metadata": {
    "execution": {
     "iopub.execute_input": "2020-11-20T15:55:15.621579Z",
     "iopub.status.busy": "2020-11-20T15:55:15.620822Z",
     "iopub.status.idle": "2020-11-20T15:55:15.624934Z",
     "shell.execute_reply": "2020-11-20T15:55:15.624424Z"
    },
    "papermill": {
     "duration": 0.103125,
     "end_time": "2020-11-20T15:55:15.625042",
     "exception": false,
     "start_time": "2020-11-20T15:55:15.521917",
     "status": "completed"
    },
    "tags": []
   },
   "outputs": [
    {
     "data": {
      "text/plain": [
       "Cochin       4536\n",
       "Banglore     2871\n",
       "Delhi        1265\n",
       "New Delhi     932\n",
       "Hyderabad     697\n",
       "Kolkata       381\n",
       "Name: Destination, dtype: int64"
      ]
     },
     "execution_count": 37,
     "metadata": {},
     "output_type": "execute_result"
    }
   ],
   "source": [
    "train_data[\"Destination\"].value_counts()"
   ]
  },
  {
   "cell_type": "code",
   "execution_count": 38,
   "metadata": {
    "execution": {
     "iopub.execute_input": "2020-11-20T15:55:15.817323Z",
     "iopub.status.busy": "2020-11-20T15:55:15.816576Z",
     "iopub.status.idle": "2020-11-20T15:55:15.829219Z",
     "shell.execute_reply": "2020-11-20T15:55:15.828616Z"
    },
    "papermill": {
     "duration": 0.112746,
     "end_time": "2020-11-20T15:55:15.829360",
     "exception": false,
     "start_time": "2020-11-20T15:55:15.716614",
     "status": "completed"
    },
    "tags": []
   },
   "outputs": [
    {
     "data": {
      "text/html": [
       "<div>\n",
       "<style scoped>\n",
       "    .dataframe tbody tr th:only-of-type {\n",
       "        vertical-align: middle;\n",
       "    }\n",
       "\n",
       "    .dataframe tbody tr th {\n",
       "        vertical-align: top;\n",
       "    }\n",
       "\n",
       "    .dataframe thead th {\n",
       "        text-align: right;\n",
       "    }\n",
       "</style>\n",
       "<table border=\"1\" class=\"dataframe\">\n",
       "  <thead>\n",
       "    <tr style=\"text-align: right;\">\n",
       "      <th></th>\n",
       "      <th>Destination_Cochin</th>\n",
       "      <th>Destination_Delhi</th>\n",
       "      <th>Destination_Hyderabad</th>\n",
       "      <th>Destination_Kolkata</th>\n",
       "      <th>Destination_New Delhi</th>\n",
       "    </tr>\n",
       "  </thead>\n",
       "  <tbody>\n",
       "    <tr>\n",
       "      <th>0</th>\n",
       "      <td>0</td>\n",
       "      <td>0</td>\n",
       "      <td>0</td>\n",
       "      <td>0</td>\n",
       "      <td>1</td>\n",
       "    </tr>\n",
       "    <tr>\n",
       "      <th>1</th>\n",
       "      <td>0</td>\n",
       "      <td>0</td>\n",
       "      <td>0</td>\n",
       "      <td>0</td>\n",
       "      <td>0</td>\n",
       "    </tr>\n",
       "    <tr>\n",
       "      <th>2</th>\n",
       "      <td>1</td>\n",
       "      <td>0</td>\n",
       "      <td>0</td>\n",
       "      <td>0</td>\n",
       "      <td>0</td>\n",
       "    </tr>\n",
       "    <tr>\n",
       "      <th>3</th>\n",
       "      <td>0</td>\n",
       "      <td>0</td>\n",
       "      <td>0</td>\n",
       "      <td>0</td>\n",
       "      <td>0</td>\n",
       "    </tr>\n",
       "    <tr>\n",
       "      <th>4</th>\n",
       "      <td>0</td>\n",
       "      <td>0</td>\n",
       "      <td>0</td>\n",
       "      <td>0</td>\n",
       "      <td>1</td>\n",
       "    </tr>\n",
       "  </tbody>\n",
       "</table>\n",
       "</div>"
      ],
      "text/plain": [
       "   Destination_Cochin  Destination_Delhi  Destination_Hyderabad  \\\n",
       "0                   0                  0                      0   \n",
       "1                   0                  0                      0   \n",
       "2                   1                  0                      0   \n",
       "3                   0                  0                      0   \n",
       "4                   0                  0                      0   \n",
       "\n",
       "   Destination_Kolkata  Destination_New Delhi  \n",
       "0                    0                      1  \n",
       "1                    0                      0  \n",
       "2                    0                      0  \n",
       "3                    0                      0  \n",
       "4                    0                      1  "
      ]
     },
     "execution_count": 38,
     "metadata": {},
     "output_type": "execute_result"
    }
   ],
   "source": [
    "Destination = train_data[[\"Destination\"]]\n",
    "\n",
    "Destination = pd.get_dummies(Destination, drop_first=True)\n",
    "\n",
    "Destination.head()"
   ]
  },
  {
   "cell_type": "code",
   "execution_count": 39,
   "metadata": {
    "execution": {
     "iopub.execute_input": "2020-11-20T15:55:16.026680Z",
     "iopub.status.busy": "2020-11-20T15:55:16.025597Z",
     "iopub.status.idle": "2020-11-20T15:55:16.029930Z",
     "shell.execute_reply": "2020-11-20T15:55:16.029235Z"
    },
    "papermill": {
     "duration": 0.106303,
     "end_time": "2020-11-20T15:55:16.030048",
     "exception": false,
     "start_time": "2020-11-20T15:55:15.923745",
     "status": "completed"
    },
    "tags": []
   },
   "outputs": [
    {
     "data": {
      "text/plain": [
       "0                    BLR → DEL\n",
       "1        CCU → IXR → BBI → BLR\n",
       "2        DEL → LKO → BOM → COK\n",
       "3              CCU → NAG → BLR\n",
       "4              BLR → NAG → DEL\n",
       "                 ...          \n",
       "10678                CCU → BLR\n",
       "10679                CCU → BLR\n",
       "10680                BLR → DEL\n",
       "10681                BLR → DEL\n",
       "10682    DEL → GOI → BOM → COK\n",
       "Name: Route, Length: 10682, dtype: object"
      ]
     },
     "execution_count": 39,
     "metadata": {},
     "output_type": "execute_result"
    }
   ],
   "source": [
    "# Route Column\n",
    "\n",
    "train_data[\"Route\"]"
   ]
  },
  {
   "cell_type": "code",
   "execution_count": 40,
   "metadata": {
    "execution": {
     "iopub.execute_input": "2020-11-20T15:55:16.223863Z",
     "iopub.status.busy": "2020-11-20T15:55:16.223200Z",
     "iopub.status.idle": "2020-11-20T15:55:16.228412Z",
     "shell.execute_reply": "2020-11-20T15:55:16.227707Z"
    },
    "papermill": {
     "duration": 0.104753,
     "end_time": "2020-11-20T15:55:16.228531",
     "exception": false,
     "start_time": "2020-11-20T15:55:16.123778",
     "status": "completed"
    },
    "tags": []
   },
   "outputs": [
    {
     "data": {
      "text/plain": [
       "10"
      ]
     },
     "execution_count": 40,
     "metadata": {},
     "output_type": "execute_result"
    }
   ],
   "source": [
    "train_data[\"Additional_Info\"].nunique()"
   ]
  },
  {
   "cell_type": "code",
   "execution_count": 41,
   "metadata": {
    "execution": {
     "iopub.execute_input": "2020-11-20T15:55:16.421266Z",
     "iopub.status.busy": "2020-11-20T15:55:16.420271Z",
     "iopub.status.idle": "2020-11-20T15:55:16.424630Z",
     "shell.execute_reply": "2020-11-20T15:55:16.424037Z"
    },
    "papermill": {
     "duration": 0.105266,
     "end_time": "2020-11-20T15:55:16.424740",
     "exception": false,
     "start_time": "2020-11-20T15:55:16.319474",
     "status": "completed"
    },
    "tags": []
   },
   "outputs": [
    {
     "data": {
      "text/plain": [
       "No info                         8344\n",
       "In-flight meal not included     1982\n",
       "No check-in baggage included     320\n",
       "1 Long layover                    19\n",
       "Change airports                    7\n",
       "Business class                     4\n",
       "No Info                            3\n",
       "2 Long layover                     1\n",
       "Red-eye flight                     1\n",
       "1 Short layover                    1\n",
       "Name: Additional_Info, dtype: int64"
      ]
     },
     "execution_count": 41,
     "metadata": {},
     "output_type": "execute_result"
    }
   ],
   "source": [
    "train_data[\"Additional_Info\"].value_counts()"
   ]
  },
  {
   "cell_type": "code",
   "execution_count": 42,
   "metadata": {
    "execution": {
     "iopub.execute_input": "2020-11-20T15:55:16.619383Z",
     "iopub.status.busy": "2020-11-20T15:55:16.615932Z",
     "iopub.status.idle": "2020-11-20T15:55:16.622894Z",
     "shell.execute_reply": "2020-11-20T15:55:16.623395Z"
    },
    "papermill": {
     "duration": 0.10735,
     "end_time": "2020-11-20T15:55:16.623539",
     "exception": false,
     "start_time": "2020-11-20T15:55:16.516189",
     "status": "completed"
    },
    "tags": []
   },
   "outputs": [
    {
     "data": {
      "text/plain": [
       "True     0.781127\n",
       "False    0.218873\n",
       "Name: Additional_Info, dtype: float64"
      ]
     },
     "execution_count": 42,
     "metadata": {},
     "output_type": "execute_result"
    }
   ],
   "source": [
    "# Getting the percentage of \"No Info\" values in the \"Additional_Info\" column\n",
    "(train_data[\"Additional_Info\"] == \"No info\").value_counts()/(train_data.shape[0])"
   ]
  },
  {
   "cell_type": "code",
   "execution_count": 43,
   "metadata": {
    "execution": {
     "iopub.execute_input": "2020-11-20T15:55:16.822814Z",
     "iopub.status.busy": "2020-11-20T15:55:16.822030Z",
     "iopub.status.idle": "2020-11-20T15:55:16.827006Z",
     "shell.execute_reply": "2020-11-20T15:55:16.826369Z"
    },
    "papermill": {
     "duration": 0.108898,
     "end_time": "2020-11-20T15:55:16.827135",
     "exception": false,
     "start_time": "2020-11-20T15:55:16.718237",
     "status": "completed"
    },
    "tags": []
   },
   "outputs": [
    {
     "data": {
      "text/plain": [
       "1 stop      5625\n",
       "non-stop    3491\n",
       "2 stops     1520\n",
       "3 stops       45\n",
       "4 stops        1\n",
       "Name: Total_Stops, dtype: int64"
      ]
     },
     "execution_count": 43,
     "metadata": {},
     "output_type": "execute_result"
    }
   ],
   "source": [
    "train_data[\"Total_Stops\"].value_counts()"
   ]
  },
  {
   "cell_type": "code",
   "execution_count": 44,
   "metadata": {
    "execution": {
     "iopub.execute_input": "2020-11-20T15:55:17.024447Z",
     "iopub.status.busy": "2020-11-20T15:55:17.023538Z",
     "iopub.status.idle": "2020-11-20T15:55:17.025978Z",
     "shell.execute_reply": "2020-11-20T15:55:17.026443Z"
    },
    "papermill": {
     "duration": 0.105284,
     "end_time": "2020-11-20T15:55:17.026594",
     "exception": false,
     "start_time": "2020-11-20T15:55:16.921310",
     "status": "completed"
    },
    "tags": []
   },
   "outputs": [],
   "source": [
    "# Additional Info contains almost 80% \"No info\"\n",
    "# Route and Total_Stops are related to each other\n",
    "\n",
    "# So dropping the \"Route and Additional_Info\" columns\n",
    "\n",
    "train_data.drop([\"Route\", \"Additional_Info\"], axis = 1, inplace = True)"
   ]
  },
  {
   "cell_type": "code",
   "execution_count": 45,
   "metadata": {
    "execution": {
     "iopub.execute_input": "2020-11-20T15:55:17.221423Z",
     "iopub.status.busy": "2020-11-20T15:55:17.220439Z",
     "iopub.status.idle": "2020-11-20T15:55:17.288238Z",
     "shell.execute_reply": "2020-11-20T15:55:17.287630Z"
    },
    "papermill": {
     "duration": 0.168106,
     "end_time": "2020-11-20T15:55:17.288347",
     "exception": false,
     "start_time": "2020-11-20T15:55:17.120241",
     "status": "completed"
    },
    "tags": []
   },
   "outputs": [],
   "source": [
    "# Since the \"Total_Stops\" column is ordinal we will use LabelEncoder\n",
    "\n",
    "train_data.replace({\"non-stop\": 0, \"1 stop\": 1, \"2 stops\": 2, \"3 stops\": 3, \"4 stops\": 4}, inplace = True)"
   ]
  },
  {
   "cell_type": "code",
   "execution_count": 46,
   "metadata": {
    "execution": {
     "iopub.execute_input": "2020-11-20T15:55:17.494954Z",
     "iopub.status.busy": "2020-11-20T15:55:17.493937Z",
     "iopub.status.idle": "2020-11-20T15:55:17.498712Z",
     "shell.execute_reply": "2020-11-20T15:55:17.497988Z"
    },
    "papermill": {
     "duration": 0.115182,
     "end_time": "2020-11-20T15:55:17.498819",
     "exception": false,
     "start_time": "2020-11-20T15:55:17.383637",
     "status": "completed"
    },
    "tags": []
   },
   "outputs": [
    {
     "data": {
      "text/html": [
       "<div>\n",
       "<style scoped>\n",
       "    .dataframe tbody tr th:only-of-type {\n",
       "        vertical-align: middle;\n",
       "    }\n",
       "\n",
       "    .dataframe tbody tr th {\n",
       "        vertical-align: top;\n",
       "    }\n",
       "\n",
       "    .dataframe thead th {\n",
       "        text-align: right;\n",
       "    }\n",
       "</style>\n",
       "<table border=\"1\" class=\"dataframe\">\n",
       "  <thead>\n",
       "    <tr style=\"text-align: right;\">\n",
       "      <th></th>\n",
       "      <th>Airline</th>\n",
       "      <th>Source</th>\n",
       "      <th>Destination</th>\n",
       "      <th>Total_Stops</th>\n",
       "      <th>Price</th>\n",
       "      <th>Journey_day</th>\n",
       "      <th>Journey_month</th>\n",
       "      <th>Dep_Hour</th>\n",
       "      <th>Dep_min</th>\n",
       "      <th>Arrival_Hour</th>\n",
       "      <th>Arrival_min</th>\n",
       "      <th>Duration_hours</th>\n",
       "      <th>Duration_mins</th>\n",
       "    </tr>\n",
       "  </thead>\n",
       "  <tbody>\n",
       "    <tr>\n",
       "      <th>0</th>\n",
       "      <td>IndiGo</td>\n",
       "      <td>Banglore</td>\n",
       "      <td>New Delhi</td>\n",
       "      <td>0</td>\n",
       "      <td>3897</td>\n",
       "      <td>24</td>\n",
       "      <td>3</td>\n",
       "      <td>22</td>\n",
       "      <td>20</td>\n",
       "      <td>1</td>\n",
       "      <td>10</td>\n",
       "      <td>2</td>\n",
       "      <td>50</td>\n",
       "    </tr>\n",
       "    <tr>\n",
       "      <th>1</th>\n",
       "      <td>Air India</td>\n",
       "      <td>Kolkata</td>\n",
       "      <td>Banglore</td>\n",
       "      <td>2</td>\n",
       "      <td>7662</td>\n",
       "      <td>1</td>\n",
       "      <td>5</td>\n",
       "      <td>5</td>\n",
       "      <td>50</td>\n",
       "      <td>13</td>\n",
       "      <td>15</td>\n",
       "      <td>7</td>\n",
       "      <td>25</td>\n",
       "    </tr>\n",
       "    <tr>\n",
       "      <th>2</th>\n",
       "      <td>Jet Airways</td>\n",
       "      <td>Delhi</td>\n",
       "      <td>Cochin</td>\n",
       "      <td>2</td>\n",
       "      <td>13882</td>\n",
       "      <td>9</td>\n",
       "      <td>6</td>\n",
       "      <td>9</td>\n",
       "      <td>25</td>\n",
       "      <td>4</td>\n",
       "      <td>25</td>\n",
       "      <td>19</td>\n",
       "      <td>0</td>\n",
       "    </tr>\n",
       "    <tr>\n",
       "      <th>3</th>\n",
       "      <td>IndiGo</td>\n",
       "      <td>Kolkata</td>\n",
       "      <td>Banglore</td>\n",
       "      <td>1</td>\n",
       "      <td>6218</td>\n",
       "      <td>12</td>\n",
       "      <td>5</td>\n",
       "      <td>18</td>\n",
       "      <td>5</td>\n",
       "      <td>23</td>\n",
       "      <td>30</td>\n",
       "      <td>5</td>\n",
       "      <td>25</td>\n",
       "    </tr>\n",
       "    <tr>\n",
       "      <th>4</th>\n",
       "      <td>IndiGo</td>\n",
       "      <td>Banglore</td>\n",
       "      <td>New Delhi</td>\n",
       "      <td>1</td>\n",
       "      <td>13302</td>\n",
       "      <td>1</td>\n",
       "      <td>3</td>\n",
       "      <td>16</td>\n",
       "      <td>50</td>\n",
       "      <td>21</td>\n",
       "      <td>35</td>\n",
       "      <td>4</td>\n",
       "      <td>45</td>\n",
       "    </tr>\n",
       "  </tbody>\n",
       "</table>\n",
       "</div>"
      ],
      "text/plain": [
       "       Airline    Source Destination  Total_Stops  Price  Journey_day  \\\n",
       "0       IndiGo  Banglore   New Delhi            0   3897           24   \n",
       "1    Air India   Kolkata    Banglore            2   7662            1   \n",
       "2  Jet Airways     Delhi      Cochin            2  13882            9   \n",
       "3       IndiGo   Kolkata    Banglore            1   6218           12   \n",
       "4       IndiGo  Banglore   New Delhi            1  13302            1   \n",
       "\n",
       "   Journey_month  Dep_Hour  Dep_min  Arrival_Hour  Arrival_min  \\\n",
       "0              3        22       20             1           10   \n",
       "1              5         5       50            13           15   \n",
       "2              6         9       25             4           25   \n",
       "3              5        18        5            23           30   \n",
       "4              3        16       50            21           35   \n",
       "\n",
       "   Duration_hours  Duration_mins  \n",
       "0               2             50  \n",
       "1               7             25  \n",
       "2              19              0  \n",
       "3               5             25  \n",
       "4               4             45  "
      ]
     },
     "execution_count": 46,
     "metadata": {},
     "output_type": "execute_result"
    }
   ],
   "source": [
    "train_data.head()"
   ]
  },
  {
   "cell_type": "code",
   "execution_count": 47,
   "metadata": {
    "execution": {
     "iopub.execute_input": "2020-11-20T15:55:17.690479Z",
     "iopub.status.busy": "2020-11-20T15:55:17.689764Z",
     "iopub.status.idle": "2020-11-20T15:55:17.693962Z",
     "shell.execute_reply": "2020-11-20T15:55:17.693354Z"
    },
    "papermill": {
     "duration": 0.102102,
     "end_time": "2020-11-20T15:55:17.694127",
     "exception": false,
     "start_time": "2020-11-20T15:55:17.592025",
     "status": "completed"
    },
    "tags": []
   },
   "outputs": [],
   "source": [
    "data_train = pd.concat([train_data, Airline, Source, Destination], axis = 1)"
   ]
  },
  {
   "cell_type": "code",
   "execution_count": 48,
   "metadata": {
    "execution": {
     "iopub.execute_input": "2020-11-20T15:55:17.913542Z",
     "iopub.status.busy": "2020-11-20T15:55:17.912772Z",
     "iopub.status.idle": "2020-11-20T15:55:17.917189Z",
     "shell.execute_reply": "2020-11-20T15:55:17.917762Z"
    },
    "papermill": {
     "duration": 0.127559,
     "end_time": "2020-11-20T15:55:17.917898",
     "exception": false,
     "start_time": "2020-11-20T15:55:17.790339",
     "status": "completed"
    },
    "tags": []
   },
   "outputs": [
    {
     "data": {
      "text/html": [
       "<div>\n",
       "<style scoped>\n",
       "    .dataframe tbody tr th:only-of-type {\n",
       "        vertical-align: middle;\n",
       "    }\n",
       "\n",
       "    .dataframe tbody tr th {\n",
       "        vertical-align: top;\n",
       "    }\n",
       "\n",
       "    .dataframe thead th {\n",
       "        text-align: right;\n",
       "    }\n",
       "</style>\n",
       "<table border=\"1\" class=\"dataframe\">\n",
       "  <thead>\n",
       "    <tr style=\"text-align: right;\">\n",
       "      <th></th>\n",
       "      <th>Airline</th>\n",
       "      <th>Source</th>\n",
       "      <th>Destination</th>\n",
       "      <th>Total_Stops</th>\n",
       "      <th>Price</th>\n",
       "      <th>Journey_day</th>\n",
       "      <th>Journey_month</th>\n",
       "      <th>Dep_Hour</th>\n",
       "      <th>Dep_min</th>\n",
       "      <th>Arrival_Hour</th>\n",
       "      <th>Arrival_min</th>\n",
       "      <th>Duration_hours</th>\n",
       "      <th>Duration_mins</th>\n",
       "      <th>Airline_Air India</th>\n",
       "      <th>Airline_GoAir</th>\n",
       "      <th>Airline_IndiGo</th>\n",
       "      <th>Airline_Jet Airways</th>\n",
       "      <th>Airline_Jet Airways Business</th>\n",
       "      <th>Airline_Multiple carriers</th>\n",
       "      <th>Airline_Multiple carriers Premium economy</th>\n",
       "      <th>Airline_SpiceJet</th>\n",
       "      <th>Airline_Trujet</th>\n",
       "      <th>Airline_Vistara</th>\n",
       "      <th>Airline_Vistara Premium economy</th>\n",
       "      <th>Source_Chennai</th>\n",
       "      <th>Source_Delhi</th>\n",
       "      <th>Source_Kolkata</th>\n",
       "      <th>Source_Mumbai</th>\n",
       "      <th>Destination_Cochin</th>\n",
       "      <th>Destination_Delhi</th>\n",
       "      <th>Destination_Hyderabad</th>\n",
       "      <th>Destination_Kolkata</th>\n",
       "      <th>Destination_New Delhi</th>\n",
       "    </tr>\n",
       "  </thead>\n",
       "  <tbody>\n",
       "    <tr>\n",
       "      <th>0</th>\n",
       "      <td>IndiGo</td>\n",
       "      <td>Banglore</td>\n",
       "      <td>New Delhi</td>\n",
       "      <td>0</td>\n",
       "      <td>3897</td>\n",
       "      <td>24</td>\n",
       "      <td>3</td>\n",
       "      <td>22</td>\n",
       "      <td>20</td>\n",
       "      <td>1</td>\n",
       "      <td>10</td>\n",
       "      <td>2</td>\n",
       "      <td>50</td>\n",
       "      <td>0</td>\n",
       "      <td>0</td>\n",
       "      <td>1</td>\n",
       "      <td>0</td>\n",
       "      <td>0</td>\n",
       "      <td>0</td>\n",
       "      <td>0</td>\n",
       "      <td>0</td>\n",
       "      <td>0</td>\n",
       "      <td>0</td>\n",
       "      <td>0</td>\n",
       "      <td>0</td>\n",
       "      <td>0</td>\n",
       "      <td>0</td>\n",
       "      <td>0</td>\n",
       "      <td>0</td>\n",
       "      <td>0</td>\n",
       "      <td>0</td>\n",
       "      <td>0</td>\n",
       "      <td>1</td>\n",
       "    </tr>\n",
       "    <tr>\n",
       "      <th>1</th>\n",
       "      <td>Air India</td>\n",
       "      <td>Kolkata</td>\n",
       "      <td>Banglore</td>\n",
       "      <td>2</td>\n",
       "      <td>7662</td>\n",
       "      <td>1</td>\n",
       "      <td>5</td>\n",
       "      <td>5</td>\n",
       "      <td>50</td>\n",
       "      <td>13</td>\n",
       "      <td>15</td>\n",
       "      <td>7</td>\n",
       "      <td>25</td>\n",
       "      <td>1</td>\n",
       "      <td>0</td>\n",
       "      <td>0</td>\n",
       "      <td>0</td>\n",
       "      <td>0</td>\n",
       "      <td>0</td>\n",
       "      <td>0</td>\n",
       "      <td>0</td>\n",
       "      <td>0</td>\n",
       "      <td>0</td>\n",
       "      <td>0</td>\n",
       "      <td>0</td>\n",
       "      <td>0</td>\n",
       "      <td>1</td>\n",
       "      <td>0</td>\n",
       "      <td>0</td>\n",
       "      <td>0</td>\n",
       "      <td>0</td>\n",
       "      <td>0</td>\n",
       "      <td>0</td>\n",
       "    </tr>\n",
       "    <tr>\n",
       "      <th>2</th>\n",
       "      <td>Jet Airways</td>\n",
       "      <td>Delhi</td>\n",
       "      <td>Cochin</td>\n",
       "      <td>2</td>\n",
       "      <td>13882</td>\n",
       "      <td>9</td>\n",
       "      <td>6</td>\n",
       "      <td>9</td>\n",
       "      <td>25</td>\n",
       "      <td>4</td>\n",
       "      <td>25</td>\n",
       "      <td>19</td>\n",
       "      <td>0</td>\n",
       "      <td>0</td>\n",
       "      <td>0</td>\n",
       "      <td>0</td>\n",
       "      <td>1</td>\n",
       "      <td>0</td>\n",
       "      <td>0</td>\n",
       "      <td>0</td>\n",
       "      <td>0</td>\n",
       "      <td>0</td>\n",
       "      <td>0</td>\n",
       "      <td>0</td>\n",
       "      <td>0</td>\n",
       "      <td>1</td>\n",
       "      <td>0</td>\n",
       "      <td>0</td>\n",
       "      <td>1</td>\n",
       "      <td>0</td>\n",
       "      <td>0</td>\n",
       "      <td>0</td>\n",
       "      <td>0</td>\n",
       "    </tr>\n",
       "    <tr>\n",
       "      <th>3</th>\n",
       "      <td>IndiGo</td>\n",
       "      <td>Kolkata</td>\n",
       "      <td>Banglore</td>\n",
       "      <td>1</td>\n",
       "      <td>6218</td>\n",
       "      <td>12</td>\n",
       "      <td>5</td>\n",
       "      <td>18</td>\n",
       "      <td>5</td>\n",
       "      <td>23</td>\n",
       "      <td>30</td>\n",
       "      <td>5</td>\n",
       "      <td>25</td>\n",
       "      <td>0</td>\n",
       "      <td>0</td>\n",
       "      <td>1</td>\n",
       "      <td>0</td>\n",
       "      <td>0</td>\n",
       "      <td>0</td>\n",
       "      <td>0</td>\n",
       "      <td>0</td>\n",
       "      <td>0</td>\n",
       "      <td>0</td>\n",
       "      <td>0</td>\n",
       "      <td>0</td>\n",
       "      <td>0</td>\n",
       "      <td>1</td>\n",
       "      <td>0</td>\n",
       "      <td>0</td>\n",
       "      <td>0</td>\n",
       "      <td>0</td>\n",
       "      <td>0</td>\n",
       "      <td>0</td>\n",
       "    </tr>\n",
       "    <tr>\n",
       "      <th>4</th>\n",
       "      <td>IndiGo</td>\n",
       "      <td>Banglore</td>\n",
       "      <td>New Delhi</td>\n",
       "      <td>1</td>\n",
       "      <td>13302</td>\n",
       "      <td>1</td>\n",
       "      <td>3</td>\n",
       "      <td>16</td>\n",
       "      <td>50</td>\n",
       "      <td>21</td>\n",
       "      <td>35</td>\n",
       "      <td>4</td>\n",
       "      <td>45</td>\n",
       "      <td>0</td>\n",
       "      <td>0</td>\n",
       "      <td>1</td>\n",
       "      <td>0</td>\n",
       "      <td>0</td>\n",
       "      <td>0</td>\n",
       "      <td>0</td>\n",
       "      <td>0</td>\n",
       "      <td>0</td>\n",
       "      <td>0</td>\n",
       "      <td>0</td>\n",
       "      <td>0</td>\n",
       "      <td>0</td>\n",
       "      <td>0</td>\n",
       "      <td>0</td>\n",
       "      <td>0</td>\n",
       "      <td>0</td>\n",
       "      <td>0</td>\n",
       "      <td>0</td>\n",
       "      <td>1</td>\n",
       "    </tr>\n",
       "  </tbody>\n",
       "</table>\n",
       "</div>"
      ],
      "text/plain": [
       "       Airline    Source Destination  Total_Stops  Price  Journey_day  \\\n",
       "0       IndiGo  Banglore   New Delhi            0   3897           24   \n",
       "1    Air India   Kolkata    Banglore            2   7662            1   \n",
       "2  Jet Airways     Delhi      Cochin            2  13882            9   \n",
       "3       IndiGo   Kolkata    Banglore            1   6218           12   \n",
       "4       IndiGo  Banglore   New Delhi            1  13302            1   \n",
       "\n",
       "   Journey_month  Dep_Hour  Dep_min  Arrival_Hour  Arrival_min  \\\n",
       "0              3        22       20             1           10   \n",
       "1              5         5       50            13           15   \n",
       "2              6         9       25             4           25   \n",
       "3              5        18        5            23           30   \n",
       "4              3        16       50            21           35   \n",
       "\n",
       "   Duration_hours  Duration_mins  Airline_Air India  Airline_GoAir  \\\n",
       "0               2             50                  0              0   \n",
       "1               7             25                  1              0   \n",
       "2              19              0                  0              0   \n",
       "3               5             25                  0              0   \n",
       "4               4             45                  0              0   \n",
       "\n",
       "   Airline_IndiGo  Airline_Jet Airways  Airline_Jet Airways Business  \\\n",
       "0               1                    0                             0   \n",
       "1               0                    0                             0   \n",
       "2               0                    1                             0   \n",
       "3               1                    0                             0   \n",
       "4               1                    0                             0   \n",
       "\n",
       "   Airline_Multiple carriers  Airline_Multiple carriers Premium economy  \\\n",
       "0                          0                                          0   \n",
       "1                          0                                          0   \n",
       "2                          0                                          0   \n",
       "3                          0                                          0   \n",
       "4                          0                                          0   \n",
       "\n",
       "   Airline_SpiceJet  Airline_Trujet  Airline_Vistara  \\\n",
       "0                 0               0                0   \n",
       "1                 0               0                0   \n",
       "2                 0               0                0   \n",
       "3                 0               0                0   \n",
       "4                 0               0                0   \n",
       "\n",
       "   Airline_Vistara Premium economy  Source_Chennai  Source_Delhi  \\\n",
       "0                                0               0             0   \n",
       "1                                0               0             0   \n",
       "2                                0               0             1   \n",
       "3                                0               0             0   \n",
       "4                                0               0             0   \n",
       "\n",
       "   Source_Kolkata  Source_Mumbai  Destination_Cochin  Destination_Delhi  \\\n",
       "0               0              0                   0                  0   \n",
       "1               1              0                   0                  0   \n",
       "2               0              0                   1                  0   \n",
       "3               1              0                   0                  0   \n",
       "4               0              0                   0                  0   \n",
       "\n",
       "   Destination_Hyderabad  Destination_Kolkata  Destination_New Delhi  \n",
       "0                      0                    0                      1  \n",
       "1                      0                    0                      0  \n",
       "2                      0                    0                      0  \n",
       "3                      0                    0                      0  \n",
       "4                      0                    0                      1  "
      ]
     },
     "execution_count": 48,
     "metadata": {},
     "output_type": "execute_result"
    }
   ],
   "source": [
    "data_train.head()"
   ]
  },
  {
   "cell_type": "code",
   "execution_count": 49,
   "metadata": {
    "execution": {
     "iopub.execute_input": "2020-11-20T15:55:18.119986Z",
     "iopub.status.busy": "2020-11-20T15:55:18.119155Z",
     "iopub.status.idle": "2020-11-20T15:55:18.123980Z",
     "shell.execute_reply": "2020-11-20T15:55:18.123411Z"
    },
    "papermill": {
     "duration": 0.107678,
     "end_time": "2020-11-20T15:55:18.124125",
     "exception": false,
     "start_time": "2020-11-20T15:55:18.016447",
     "status": "completed"
    },
    "tags": []
   },
   "outputs": [],
   "source": [
    "data_train.drop([\"Airline\", \"Source\", \"Destination\"], axis = 1, inplace = True)"
   ]
  },
  {
   "cell_type": "code",
   "execution_count": 50,
   "metadata": {
    "execution": {
     "iopub.execute_input": "2020-11-20T15:55:18.345175Z",
     "iopub.status.busy": "2020-11-20T15:55:18.334064Z",
     "iopub.status.idle": "2020-11-20T15:55:18.349877Z",
     "shell.execute_reply": "2020-11-20T15:55:18.349142Z"
    },
    "papermill": {
     "duration": 0.126955,
     "end_time": "2020-11-20T15:55:18.349987",
     "exception": false,
     "start_time": "2020-11-20T15:55:18.223032",
     "status": "completed"
    },
    "tags": []
   },
   "outputs": [
    {
     "data": {
      "text/html": [
       "<div>\n",
       "<style scoped>\n",
       "    .dataframe tbody tr th:only-of-type {\n",
       "        vertical-align: middle;\n",
       "    }\n",
       "\n",
       "    .dataframe tbody tr th {\n",
       "        vertical-align: top;\n",
       "    }\n",
       "\n",
       "    .dataframe thead th {\n",
       "        text-align: right;\n",
       "    }\n",
       "</style>\n",
       "<table border=\"1\" class=\"dataframe\">\n",
       "  <thead>\n",
       "    <tr style=\"text-align: right;\">\n",
       "      <th></th>\n",
       "      <th>Total_Stops</th>\n",
       "      <th>Price</th>\n",
       "      <th>Journey_day</th>\n",
       "      <th>Journey_month</th>\n",
       "      <th>Dep_Hour</th>\n",
       "      <th>Dep_min</th>\n",
       "      <th>Arrival_Hour</th>\n",
       "      <th>Arrival_min</th>\n",
       "      <th>Duration_hours</th>\n",
       "      <th>Duration_mins</th>\n",
       "      <th>Airline_Air India</th>\n",
       "      <th>Airline_GoAir</th>\n",
       "      <th>Airline_IndiGo</th>\n",
       "      <th>Airline_Jet Airways</th>\n",
       "      <th>Airline_Jet Airways Business</th>\n",
       "      <th>Airline_Multiple carriers</th>\n",
       "      <th>Airline_Multiple carriers Premium economy</th>\n",
       "      <th>Airline_SpiceJet</th>\n",
       "      <th>Airline_Trujet</th>\n",
       "      <th>Airline_Vistara</th>\n",
       "      <th>Airline_Vistara Premium economy</th>\n",
       "      <th>Source_Chennai</th>\n",
       "      <th>Source_Delhi</th>\n",
       "      <th>Source_Kolkata</th>\n",
       "      <th>Source_Mumbai</th>\n",
       "      <th>Destination_Cochin</th>\n",
       "      <th>Destination_Delhi</th>\n",
       "      <th>Destination_Hyderabad</th>\n",
       "      <th>Destination_Kolkata</th>\n",
       "      <th>Destination_New Delhi</th>\n",
       "    </tr>\n",
       "  </thead>\n",
       "  <tbody>\n",
       "    <tr>\n",
       "      <th>0</th>\n",
       "      <td>0</td>\n",
       "      <td>3897</td>\n",
       "      <td>24</td>\n",
       "      <td>3</td>\n",
       "      <td>22</td>\n",
       "      <td>20</td>\n",
       "      <td>1</td>\n",
       "      <td>10</td>\n",
       "      <td>2</td>\n",
       "      <td>50</td>\n",
       "      <td>0</td>\n",
       "      <td>0</td>\n",
       "      <td>1</td>\n",
       "      <td>0</td>\n",
       "      <td>0</td>\n",
       "      <td>0</td>\n",
       "      <td>0</td>\n",
       "      <td>0</td>\n",
       "      <td>0</td>\n",
       "      <td>0</td>\n",
       "      <td>0</td>\n",
       "      <td>0</td>\n",
       "      <td>0</td>\n",
       "      <td>0</td>\n",
       "      <td>0</td>\n",
       "      <td>0</td>\n",
       "      <td>0</td>\n",
       "      <td>0</td>\n",
       "      <td>0</td>\n",
       "      <td>1</td>\n",
       "    </tr>\n",
       "    <tr>\n",
       "      <th>1</th>\n",
       "      <td>2</td>\n",
       "      <td>7662</td>\n",
       "      <td>1</td>\n",
       "      <td>5</td>\n",
       "      <td>5</td>\n",
       "      <td>50</td>\n",
       "      <td>13</td>\n",
       "      <td>15</td>\n",
       "      <td>7</td>\n",
       "      <td>25</td>\n",
       "      <td>1</td>\n",
       "      <td>0</td>\n",
       "      <td>0</td>\n",
       "      <td>0</td>\n",
       "      <td>0</td>\n",
       "      <td>0</td>\n",
       "      <td>0</td>\n",
       "      <td>0</td>\n",
       "      <td>0</td>\n",
       "      <td>0</td>\n",
       "      <td>0</td>\n",
       "      <td>0</td>\n",
       "      <td>0</td>\n",
       "      <td>1</td>\n",
       "      <td>0</td>\n",
       "      <td>0</td>\n",
       "      <td>0</td>\n",
       "      <td>0</td>\n",
       "      <td>0</td>\n",
       "      <td>0</td>\n",
       "    </tr>\n",
       "    <tr>\n",
       "      <th>2</th>\n",
       "      <td>2</td>\n",
       "      <td>13882</td>\n",
       "      <td>9</td>\n",
       "      <td>6</td>\n",
       "      <td>9</td>\n",
       "      <td>25</td>\n",
       "      <td>4</td>\n",
       "      <td>25</td>\n",
       "      <td>19</td>\n",
       "      <td>0</td>\n",
       "      <td>0</td>\n",
       "      <td>0</td>\n",
       "      <td>0</td>\n",
       "      <td>1</td>\n",
       "      <td>0</td>\n",
       "      <td>0</td>\n",
       "      <td>0</td>\n",
       "      <td>0</td>\n",
       "      <td>0</td>\n",
       "      <td>0</td>\n",
       "      <td>0</td>\n",
       "      <td>0</td>\n",
       "      <td>1</td>\n",
       "      <td>0</td>\n",
       "      <td>0</td>\n",
       "      <td>1</td>\n",
       "      <td>0</td>\n",
       "      <td>0</td>\n",
       "      <td>0</td>\n",
       "      <td>0</td>\n",
       "    </tr>\n",
       "    <tr>\n",
       "      <th>3</th>\n",
       "      <td>1</td>\n",
       "      <td>6218</td>\n",
       "      <td>12</td>\n",
       "      <td>5</td>\n",
       "      <td>18</td>\n",
       "      <td>5</td>\n",
       "      <td>23</td>\n",
       "      <td>30</td>\n",
       "      <td>5</td>\n",
       "      <td>25</td>\n",
       "      <td>0</td>\n",
       "      <td>0</td>\n",
       "      <td>1</td>\n",
       "      <td>0</td>\n",
       "      <td>0</td>\n",
       "      <td>0</td>\n",
       "      <td>0</td>\n",
       "      <td>0</td>\n",
       "      <td>0</td>\n",
       "      <td>0</td>\n",
       "      <td>0</td>\n",
       "      <td>0</td>\n",
       "      <td>0</td>\n",
       "      <td>1</td>\n",
       "      <td>0</td>\n",
       "      <td>0</td>\n",
       "      <td>0</td>\n",
       "      <td>0</td>\n",
       "      <td>0</td>\n",
       "      <td>0</td>\n",
       "    </tr>\n",
       "    <tr>\n",
       "      <th>4</th>\n",
       "      <td>1</td>\n",
       "      <td>13302</td>\n",
       "      <td>1</td>\n",
       "      <td>3</td>\n",
       "      <td>16</td>\n",
       "      <td>50</td>\n",
       "      <td>21</td>\n",
       "      <td>35</td>\n",
       "      <td>4</td>\n",
       "      <td>45</td>\n",
       "      <td>0</td>\n",
       "      <td>0</td>\n",
       "      <td>1</td>\n",
       "      <td>0</td>\n",
       "      <td>0</td>\n",
       "      <td>0</td>\n",
       "      <td>0</td>\n",
       "      <td>0</td>\n",
       "      <td>0</td>\n",
       "      <td>0</td>\n",
       "      <td>0</td>\n",
       "      <td>0</td>\n",
       "      <td>0</td>\n",
       "      <td>0</td>\n",
       "      <td>0</td>\n",
       "      <td>0</td>\n",
       "      <td>0</td>\n",
       "      <td>0</td>\n",
       "      <td>0</td>\n",
       "      <td>1</td>\n",
       "    </tr>\n",
       "  </tbody>\n",
       "</table>\n",
       "</div>"
      ],
      "text/plain": [
       "   Total_Stops  Price  Journey_day  Journey_month  Dep_Hour  Dep_min  \\\n",
       "0            0   3897           24              3        22       20   \n",
       "1            2   7662            1              5         5       50   \n",
       "2            2  13882            9              6         9       25   \n",
       "3            1   6218           12              5        18        5   \n",
       "4            1  13302            1              3        16       50   \n",
       "\n",
       "   Arrival_Hour  Arrival_min  Duration_hours  Duration_mins  \\\n",
       "0             1           10               2             50   \n",
       "1            13           15               7             25   \n",
       "2             4           25              19              0   \n",
       "3            23           30               5             25   \n",
       "4            21           35               4             45   \n",
       "\n",
       "   Airline_Air India  Airline_GoAir  Airline_IndiGo  Airline_Jet Airways  \\\n",
       "0                  0              0               1                    0   \n",
       "1                  1              0               0                    0   \n",
       "2                  0              0               0                    1   \n",
       "3                  0              0               1                    0   \n",
       "4                  0              0               1                    0   \n",
       "\n",
       "   Airline_Jet Airways Business  Airline_Multiple carriers  \\\n",
       "0                             0                          0   \n",
       "1                             0                          0   \n",
       "2                             0                          0   \n",
       "3                             0                          0   \n",
       "4                             0                          0   \n",
       "\n",
       "   Airline_Multiple carriers Premium economy  Airline_SpiceJet  \\\n",
       "0                                          0                 0   \n",
       "1                                          0                 0   \n",
       "2                                          0                 0   \n",
       "3                                          0                 0   \n",
       "4                                          0                 0   \n",
       "\n",
       "   Airline_Trujet  Airline_Vistara  Airline_Vistara Premium economy  \\\n",
       "0               0                0                                0   \n",
       "1               0                0                                0   \n",
       "2               0                0                                0   \n",
       "3               0                0                                0   \n",
       "4               0                0                                0   \n",
       "\n",
       "   Source_Chennai  Source_Delhi  Source_Kolkata  Source_Mumbai  \\\n",
       "0               0             0               0              0   \n",
       "1               0             0               1              0   \n",
       "2               0             1               0              0   \n",
       "3               0             0               1              0   \n",
       "4               0             0               0              0   \n",
       "\n",
       "   Destination_Cochin  Destination_Delhi  Destination_Hyderabad  \\\n",
       "0                   0                  0                      0   \n",
       "1                   0                  0                      0   \n",
       "2                   1                  0                      0   \n",
       "3                   0                  0                      0   \n",
       "4                   0                  0                      0   \n",
       "\n",
       "   Destination_Kolkata  Destination_New Delhi  \n",
       "0                    0                      1  \n",
       "1                    0                      0  \n",
       "2                    0                      0  \n",
       "3                    0                      0  \n",
       "4                    0                      1  "
      ]
     },
     "execution_count": 50,
     "metadata": {},
     "output_type": "execute_result"
    }
   ],
   "source": [
    "data_train.head()"
   ]
  },
  {
   "cell_type": "code",
   "execution_count": 51,
   "metadata": {
    "execution": {
     "iopub.execute_input": "2020-11-20T15:55:18.575768Z",
     "iopub.status.busy": "2020-11-20T15:55:18.574717Z",
     "iopub.status.idle": "2020-11-20T15:55:18.578886Z",
     "shell.execute_reply": "2020-11-20T15:55:18.579482Z"
    },
    "papermill": {
     "duration": 0.121959,
     "end_time": "2020-11-20T15:55:18.579624",
     "exception": false,
     "start_time": "2020-11-20T15:55:18.457665",
     "status": "completed"
    },
    "tags": []
   },
   "outputs": [
    {
     "data": {
      "text/plain": [
       "(10682, 30)"
      ]
     },
     "execution_count": 51,
     "metadata": {},
     "output_type": "execute_result"
    }
   ],
   "source": [
    "data_train.shape"
   ]
  },
  {
   "cell_type": "code",
   "execution_count": 52,
   "metadata": {
    "execution": {
     "iopub.execute_input": "2020-11-20T15:55:18.783144Z",
     "iopub.status.busy": "2020-11-20T15:55:18.782257Z",
     "iopub.status.idle": "2020-11-20T15:55:19.321544Z",
     "shell.execute_reply": "2020-11-20T15:55:19.320767Z"
    },
    "papermill": {
     "duration": 0.642267,
     "end_time": "2020-11-20T15:55:19.321660",
     "exception": false,
     "start_time": "2020-11-20T15:55:18.679393",
     "status": "completed"
    },
    "tags": []
   },
   "outputs": [],
   "source": [
    "test_data = pd.read_excel(r\"/kaggle/input/flight-fare-prediction-mh/Test_set.xlsx\")"
   ]
  },
  {
   "cell_type": "code",
   "execution_count": 53,
   "metadata": {
    "execution": {
     "iopub.execute_input": "2020-11-20T15:55:19.535526Z",
     "iopub.status.busy": "2020-11-20T15:55:19.534503Z",
     "iopub.status.idle": "2020-11-20T15:55:19.538662Z",
     "shell.execute_reply": "2020-11-20T15:55:19.537954Z"
    },
    "papermill": {
     "duration": 0.117754,
     "end_time": "2020-11-20T15:55:19.538790",
     "exception": false,
     "start_time": "2020-11-20T15:55:19.421036",
     "status": "completed"
    },
    "tags": []
   },
   "outputs": [
    {
     "data": {
      "text/html": [
       "<div>\n",
       "<style scoped>\n",
       "    .dataframe tbody tr th:only-of-type {\n",
       "        vertical-align: middle;\n",
       "    }\n",
       "\n",
       "    .dataframe tbody tr th {\n",
       "        vertical-align: top;\n",
       "    }\n",
       "\n",
       "    .dataframe thead th {\n",
       "        text-align: right;\n",
       "    }\n",
       "</style>\n",
       "<table border=\"1\" class=\"dataframe\">\n",
       "  <thead>\n",
       "    <tr style=\"text-align: right;\">\n",
       "      <th></th>\n",
       "      <th>Airline</th>\n",
       "      <th>Date_of_Journey</th>\n",
       "      <th>Source</th>\n",
       "      <th>Destination</th>\n",
       "      <th>Route</th>\n",
       "      <th>Dep_Time</th>\n",
       "      <th>Arrival_Time</th>\n",
       "      <th>Duration</th>\n",
       "      <th>Total_Stops</th>\n",
       "      <th>Additional_Info</th>\n",
       "    </tr>\n",
       "  </thead>\n",
       "  <tbody>\n",
       "    <tr>\n",
       "      <th>0</th>\n",
       "      <td>Jet Airways</td>\n",
       "      <td>6/06/2019</td>\n",
       "      <td>Delhi</td>\n",
       "      <td>Cochin</td>\n",
       "      <td>DEL → BOM → COK</td>\n",
       "      <td>17:30</td>\n",
       "      <td>04:25 07 Jun</td>\n",
       "      <td>10h 55m</td>\n",
       "      <td>1 stop</td>\n",
       "      <td>No info</td>\n",
       "    </tr>\n",
       "    <tr>\n",
       "      <th>1</th>\n",
       "      <td>IndiGo</td>\n",
       "      <td>12/05/2019</td>\n",
       "      <td>Kolkata</td>\n",
       "      <td>Banglore</td>\n",
       "      <td>CCU → MAA → BLR</td>\n",
       "      <td>06:20</td>\n",
       "      <td>10:20</td>\n",
       "      <td>4h</td>\n",
       "      <td>1 stop</td>\n",
       "      <td>No info</td>\n",
       "    </tr>\n",
       "    <tr>\n",
       "      <th>2</th>\n",
       "      <td>Jet Airways</td>\n",
       "      <td>21/05/2019</td>\n",
       "      <td>Delhi</td>\n",
       "      <td>Cochin</td>\n",
       "      <td>DEL → BOM → COK</td>\n",
       "      <td>19:15</td>\n",
       "      <td>19:00 22 May</td>\n",
       "      <td>23h 45m</td>\n",
       "      <td>1 stop</td>\n",
       "      <td>In-flight meal not included</td>\n",
       "    </tr>\n",
       "    <tr>\n",
       "      <th>3</th>\n",
       "      <td>Multiple carriers</td>\n",
       "      <td>21/05/2019</td>\n",
       "      <td>Delhi</td>\n",
       "      <td>Cochin</td>\n",
       "      <td>DEL → BOM → COK</td>\n",
       "      <td>08:00</td>\n",
       "      <td>21:00</td>\n",
       "      <td>13h</td>\n",
       "      <td>1 stop</td>\n",
       "      <td>No info</td>\n",
       "    </tr>\n",
       "    <tr>\n",
       "      <th>4</th>\n",
       "      <td>Air Asia</td>\n",
       "      <td>24/06/2019</td>\n",
       "      <td>Banglore</td>\n",
       "      <td>Delhi</td>\n",
       "      <td>BLR → DEL</td>\n",
       "      <td>23:55</td>\n",
       "      <td>02:45 25 Jun</td>\n",
       "      <td>2h 50m</td>\n",
       "      <td>non-stop</td>\n",
       "      <td>No info</td>\n",
       "    </tr>\n",
       "  </tbody>\n",
       "</table>\n",
       "</div>"
      ],
      "text/plain": [
       "             Airline Date_of_Journey    Source Destination            Route  \\\n",
       "0        Jet Airways       6/06/2019     Delhi      Cochin  DEL → BOM → COK   \n",
       "1             IndiGo      12/05/2019   Kolkata    Banglore  CCU → MAA → BLR   \n",
       "2        Jet Airways      21/05/2019     Delhi      Cochin  DEL → BOM → COK   \n",
       "3  Multiple carriers      21/05/2019     Delhi      Cochin  DEL → BOM → COK   \n",
       "4           Air Asia      24/06/2019  Banglore       Delhi        BLR → DEL   \n",
       "\n",
       "  Dep_Time  Arrival_Time Duration Total_Stops              Additional_Info  \n",
       "0    17:30  04:25 07 Jun  10h 55m      1 stop                      No info  \n",
       "1    06:20         10:20       4h      1 stop                      No info  \n",
       "2    19:15  19:00 22 May  23h 45m      1 stop  In-flight meal not included  \n",
       "3    08:00         21:00      13h      1 stop                      No info  \n",
       "4    23:55  02:45 25 Jun   2h 50m    non-stop                      No info  "
      ]
     },
     "execution_count": 53,
     "metadata": {},
     "output_type": "execute_result"
    }
   ],
   "source": [
    "test_data.head()"
   ]
  },
  {
   "cell_type": "code",
   "execution_count": 54,
   "metadata": {
    "execution": {
     "iopub.execute_input": "2020-11-20T15:55:19.741569Z",
     "iopub.status.busy": "2020-11-20T15:55:19.740573Z",
     "iopub.status.idle": "2020-11-20T15:55:19.743475Z",
     "shell.execute_reply": "2020-11-20T15:55:19.742889Z"
    },
    "papermill": {
     "duration": 0.108278,
     "end_time": "2020-11-20T15:55:19.743587",
     "exception": false,
     "start_time": "2020-11-20T15:55:19.635309",
     "status": "completed"
    },
    "tags": []
   },
   "outputs": [],
   "source": [
    "# # Preprocessing\n",
    "\n",
    "# print(\"test data Info\")\n",
    "# print(\"_\"*75)\n",
    "# print(test_data.info())\n",
    "\n",
    "# print()\n",
    "# print()\n",
    "\n",
    "# train_data.dropna(inplace = True)\n",
    "\n",
    "\n",
    "\n",
    "# train_data[\"Journey_day\"] = pd.to_datetime(train_data[\"Date_of_Journey\"], format=\"%d/%m/%Y\").dt.day\n",
    "# train_data[\"Journey_month\"] = pd.to_datetime(train_data[\"Date_of_Journey\"], format=\"%d/%m/%Y\").dt.month\n",
    "# # Droping the Date_of_Journey Column\n",
    "\n",
    "# train_data.drop([\"Date_of_Journey\"], axis = 1, inplace = True)\n",
    "\n",
    "# # Extracting Hours\n",
    "\n",
    "# train_data[\"Dep_Hour\"] = pd.to_datetime(train_data[\"Dep_Time\"]).dt.hour\n",
    "\n",
    "# train_data[\"Dep_min\"] = pd.to_datetime(train_data[\"Dep_Time\"]).dt.minute\n",
    "\n",
    "# # Dropping the Dep_Time column from the data\n",
    "\n",
    "# train_data.drop([\"Dep_Time\"], axis = 1, inplace=True)\n",
    "\n",
    "# train_data[\"Arrival_Hour\"] = pd.to_datetime(train_data[\"Arrival_Time\"]).dt.hour\n",
    "\n",
    "# train_data[\"Arrival_min\"] = pd.to_datetime(train_data[\"Arrival_Time\"]).dt.minute\n",
    "\n",
    "# # Dropping the Arrival_Time column\n",
    "\n",
    "# train_data.drop([\"Arrival_Time\"], axis = 1, inplace=True)\n",
    "\n",
    "# # Assigning and converting Duration Column into list\n",
    "# duration = list(train_data[\"Duration\"])\n",
    "\n",
    "# for i in range(len(duration)):\n",
    "#     if len(duration[i].split()) != 2:   # to check whether it contains the both hour and minutes\n",
    "#         if \"h\" in duration[i]:\n",
    "#             duration[i] = duration[i].strip() + \" 0m\"  # If duration is having hour only adding the minute value\n",
    "#         else:\n",
    "#             duration[i] = \"0h \" + duration[i]     # If duration is having minute only adding the hour value\n",
    "            \n",
    "# duration_hours = []\n",
    "# duration_mins = []\n",
    "\n",
    "# for i in range(len(duration)):\n",
    "#     duration_hours.append(int(duration[i].split(sep=\"h\")[0]))\n",
    "#     duration_mins.append(int(duration[i].split(sep=\"m\")[0].split()[-1]))\n",
    "    \n",
    "# # Adding the Duration Hours and Duration Mins Columns in the Datasets\n",
    "\n",
    "# train_data[\"Duration_hours\"] = duration_hours\n",
    "# train_data[\"Duration_mins\"] = duration_mins\n",
    "\n",
    "\n",
    "# train_data.drop([\"Duration\"], axis = 1, inplace = True)\n",
    "\n",
    "# sns.catplot(y=\"Price\", x=\"Airline\", data=train_data.sort_values(\"Price\", ascending=False), kind=\"boxen\", height=6, aspect=3)\n",
    "# plt.show()\n",
    "\n",
    "# # Since Airline is Nominal Categorical data we will perform OneHotEncoding\n",
    "\n",
    "# Airline = train_data[[\"Airline\"]]\n",
    "\n",
    "# Airline = pd.get_dummies(Airline, drop_first=True)\n",
    "\n",
    "# Airline.head()\n",
    "\n",
    "# # Plotting the Source vs Price\n",
    "\n",
    "\n",
    "# sns.catplot(y=\"Price\", x=\"Source\", data=train_data.sort_values(\"Price\", ascending=False), kind=\"boxen\", height=7, aspect = 4 )\n",
    "\n",
    "# # Since Source is also Numerical we will do OneHotEncodding\n",
    "\n",
    "# Source = train_data[[\"Source\"]]\n",
    "\n",
    "# Source = pd.get_dummies(Source, drop_first = True)\n",
    "\n",
    "# Source.head()\n",
    "\n",
    "# Destination = train_data[[\"Destination\"]]\n",
    "\n",
    "# Destination = pd.get_dummies(Destination, drop_first=True)\n",
    "\n",
    "# Destination.head()\n",
    "\n",
    "# # Additional Info contains almost 80% \"No info\"\n",
    "# # Route and Total_Stops are related to each other\n",
    "\n",
    "# # So dropping the \"Route and Additional_Info\" columns\n",
    "\n",
    "# train_data.drop([\"Route\", \"Additional_Info\"], axis = 1, inplace = True)\n",
    "\n",
    "# # Since the \"Total_Stops\" column is ordinal we will use LabelEncoder\n",
    "\n",
    "# train_data.replace({\"non-stop\": 0, \"1 stop\": 1, \"2 stops\": 2, \"3 stops\": 3, \"4 stops\": 4}, inplace = True)\n",
    "\n",
    "# data_train = pd.concat([train_data, Airline, Source, Destination], axis = 1)\n",
    "\n",
    "# data_train.drop([\"Airline\", \"Source\", \"Destination\"], axis = 1, inplace = True)"
   ]
  },
  {
   "cell_type": "code",
   "execution_count": 55,
   "metadata": {
    "execution": {
     "iopub.execute_input": "2020-11-20T15:55:19.962749Z",
     "iopub.status.busy": "2020-11-20T15:55:19.957491Z",
     "iopub.status.idle": "2020-11-20T15:55:20.211393Z",
     "shell.execute_reply": "2020-11-20T15:55:20.210623Z"
    },
    "papermill": {
     "duration": 0.367237,
     "end_time": "2020-11-20T15:55:20.211516",
     "exception": false,
     "start_time": "2020-11-20T15:55:19.844279",
     "status": "completed"
    },
    "tags": []
   },
   "outputs": [
    {
     "name": "stdout",
     "output_type": "stream",
     "text": [
      "Test data Info\n",
      "---------------------------------------------------------------------------\n",
      "<class 'pandas.core.frame.DataFrame'>\n",
      "RangeIndex: 2671 entries, 0 to 2670\n",
      "Data columns (total 10 columns):\n",
      " #   Column           Non-Null Count  Dtype \n",
      "---  ------           --------------  ----- \n",
      " 0   Airline          2671 non-null   object\n",
      " 1   Date_of_Journey  2671 non-null   object\n",
      " 2   Source           2671 non-null   object\n",
      " 3   Destination      2671 non-null   object\n",
      " 4   Route            2671 non-null   object\n",
      " 5   Dep_Time         2671 non-null   object\n",
      " 6   Arrival_Time     2671 non-null   object\n",
      " 7   Duration         2671 non-null   object\n",
      " 8   Total_Stops      2671 non-null   object\n",
      " 9   Additional_Info  2671 non-null   object\n",
      "dtypes: object(10)\n",
      "memory usage: 208.8+ KB\n",
      "None\n",
      "\n",
      "\n",
      "Null values :\n",
      "---------------------------------------------------------------------------\n",
      "Airline            0\n",
      "Date_of_Journey    0\n",
      "Source             0\n",
      "Destination        0\n",
      "Route              0\n",
      "Dep_Time           0\n",
      "Arrival_Time       0\n",
      "Duration           0\n",
      "Total_Stops        0\n",
      "Additional_Info    0\n",
      "dtype: int64\n",
      "Airline\n",
      "---------------------------------------------------------------------------\n",
      "Jet Airways                          897\n",
      "IndiGo                               511\n",
      "Air India                            440\n",
      "Multiple carriers                    347\n",
      "SpiceJet                             208\n",
      "Vistara                              129\n",
      "Air Asia                              86\n",
      "GoAir                                 46\n",
      "Multiple carriers Premium economy      3\n",
      "Vistara Premium economy                2\n",
      "Jet Airways Business                   2\n",
      "Name: Airline, dtype: int64\n",
      "\n",
      "Source\n",
      "---------------------------------------------------------------------------\n",
      "Delhi       1145\n",
      "Kolkata      710\n",
      "Banglore     555\n",
      "Mumbai       186\n",
      "Chennai       75\n",
      "Name: Source, dtype: int64\n",
      "\n",
      "Destination\n",
      "---------------------------------------------------------------------------\n",
      "Cochin       1145\n",
      "Banglore      710\n",
      "Delhi         317\n",
      "New Delhi     238\n",
      "Hyderabad     186\n",
      "Kolkata        75\n",
      "Name: Destination, dtype: int64\n",
      "\n",
      "\n",
      "Shape of test data :  (2671, 28)\n"
     ]
    }
   ],
   "source": [
    "# Preprocessing\n",
    "\n",
    "print(\"Test data Info\")\n",
    "print(\"-\"*75)\n",
    "print(test_data.info())\n",
    "\n",
    "print()\n",
    "print()\n",
    "\n",
    "print(\"Null values :\")\n",
    "print(\"-\"*75)\n",
    "test_data.dropna(inplace = True)\n",
    "print(test_data.isnull().sum())\n",
    "\n",
    "# EDA\n",
    "\n",
    "# Date_of_Journey\n",
    "test_data[\"Journey_day\"] = pd.to_datetime(test_data.Date_of_Journey, format=\"%d/%m/%Y\").dt.day\n",
    "test_data[\"Journey_month\"] = pd.to_datetime(test_data[\"Date_of_Journey\"], format = \"%d/%m/%Y\").dt.month\n",
    "test_data.drop([\"Date_of_Journey\"], axis = 1, inplace = True)\n",
    "\n",
    "# Dep_Time\n",
    "test_data[\"Dep_hour\"] = pd.to_datetime(test_data[\"Dep_Time\"]).dt.hour\n",
    "test_data[\"Dep_min\"] = pd.to_datetime(test_data[\"Dep_Time\"]).dt.minute\n",
    "test_data.drop([\"Dep_Time\"], axis = 1, inplace = True)\n",
    "\n",
    "# Arrival_Time\n",
    "test_data[\"Arrival_hour\"] = pd.to_datetime(test_data.Arrival_Time).dt.hour\n",
    "test_data[\"Arrival_min\"] = pd.to_datetime(test_data.Arrival_Time).dt.minute\n",
    "test_data.drop([\"Arrival_Time\"], axis = 1, inplace = True)\n",
    "\n",
    "# Duration\n",
    "duration = list(test_data[\"Duration\"])\n",
    "\n",
    "for i in range(len(duration)):\n",
    "    if len(duration[i].split()) != 2:    # Check if duration contains only hour or mins\n",
    "        if \"h\" in duration[i]:\n",
    "            duration[i] = duration[i].strip() + \" 0m\"   # Adds 0 minute\n",
    "        else:\n",
    "            duration[i] = \"0h \" + duration[i]           # Adds 0 hour\n",
    "\n",
    "duration_hours = []\n",
    "duration_mins = []\n",
    "for i in range(len(duration)):\n",
    "    duration_hours.append(int(duration[i].split(sep = \"h\")[0]))    # Extract hours from duration\n",
    "    duration_mins.append(int(duration[i].split(sep = \"m\")[0].split()[-1]))   # Extracts only minutes from duration\n",
    "\n",
    "# Adding Duration column to test set\n",
    "test_data[\"Duration_hours\"] = duration_hours\n",
    "test_data[\"Duration_mins\"] = duration_mins\n",
    "test_data.drop([\"Duration\"], axis = 1, inplace = True)\n",
    "\n",
    "\n",
    "# Categorical data\n",
    "\n",
    "print(\"Airline\")\n",
    "print(\"-\"*75)\n",
    "print(test_data[\"Airline\"].value_counts())\n",
    "Airline = pd.get_dummies(test_data[\"Airline\"], drop_first= True)\n",
    "\n",
    "print()\n",
    "\n",
    "print(\"Source\")\n",
    "print(\"-\"*75)\n",
    "print(test_data[\"Source\"].value_counts())\n",
    "Source = pd.get_dummies(test_data[\"Source\"], drop_first= True)\n",
    "\n",
    "print()\n",
    "\n",
    "print(\"Destination\")\n",
    "print(\"-\"*75)\n",
    "print(test_data[\"Destination\"].value_counts())\n",
    "Destination = pd.get_dummies(test_data[\"Destination\"], drop_first = True)\n",
    "\n",
    "# Additional_Info contains\n",
    "\n",
    "#almost 80% no_info\n",
    "# Route and Total_Stops are related to each other\n",
    "test_data.drop([\"Route\", \"Additional_Info\"], axis = 1, inplace = True)\n",
    "\n",
    "# Replacing Total_Stops\n",
    "test_data.replace({\"non-stop\": 0, \"1 stop\": 1, \"2 stops\": 2, \"3 stops\": 3, \"4 stops\": 4}, inplace = True)\n",
    "\n",
    "# Concatenate dataframe --> test_data + Airline + Source + Destination\n",
    "data_test = pd.concat([test_data, Airline, Source, Destination], axis = 1)\n",
    "\n",
    "data_test.drop([\"Airline\", \"Source\", \"Destination\"], axis = 1, inplace = True)\n",
    "\n",
    "print()\n",
    "print()\n",
    "\n",
    "print(\"Shape of test data : \", data_test.shape)"
   ]
  },
  {
   "cell_type": "code",
   "execution_count": 56,
   "metadata": {
    "execution": {
     "iopub.execute_input": "2020-11-20T15:55:20.433376Z",
     "iopub.status.busy": "2020-11-20T15:55:20.432604Z",
     "iopub.status.idle": "2020-11-20T15:55:20.437040Z",
     "shell.execute_reply": "2020-11-20T15:55:20.437587Z"
    },
    "papermill": {
     "duration": 0.125545,
     "end_time": "2020-11-20T15:55:20.437734",
     "exception": false,
     "start_time": "2020-11-20T15:55:20.312189",
     "status": "completed"
    },
    "tags": []
   },
   "outputs": [
    {
     "data": {
      "text/html": [
       "<div>\n",
       "<style scoped>\n",
       "    .dataframe tbody tr th:only-of-type {\n",
       "        vertical-align: middle;\n",
       "    }\n",
       "\n",
       "    .dataframe tbody tr th {\n",
       "        vertical-align: top;\n",
       "    }\n",
       "\n",
       "    .dataframe thead th {\n",
       "        text-align: right;\n",
       "    }\n",
       "</style>\n",
       "<table border=\"1\" class=\"dataframe\">\n",
       "  <thead>\n",
       "    <tr style=\"text-align: right;\">\n",
       "      <th></th>\n",
       "      <th>Total_Stops</th>\n",
       "      <th>Journey_day</th>\n",
       "      <th>Journey_month</th>\n",
       "      <th>Dep_hour</th>\n",
       "      <th>Dep_min</th>\n",
       "      <th>Arrival_hour</th>\n",
       "      <th>Arrival_min</th>\n",
       "      <th>Duration_hours</th>\n",
       "      <th>Duration_mins</th>\n",
       "      <th>Air India</th>\n",
       "      <th>GoAir</th>\n",
       "      <th>IndiGo</th>\n",
       "      <th>Jet Airways</th>\n",
       "      <th>Jet Airways Business</th>\n",
       "      <th>Multiple carriers</th>\n",
       "      <th>Multiple carriers Premium economy</th>\n",
       "      <th>SpiceJet</th>\n",
       "      <th>Vistara</th>\n",
       "      <th>Vistara Premium economy</th>\n",
       "      <th>Chennai</th>\n",
       "      <th>Delhi</th>\n",
       "      <th>Kolkata</th>\n",
       "      <th>Mumbai</th>\n",
       "      <th>Cochin</th>\n",
       "      <th>Delhi</th>\n",
       "      <th>Hyderabad</th>\n",
       "      <th>Kolkata</th>\n",
       "      <th>New Delhi</th>\n",
       "    </tr>\n",
       "  </thead>\n",
       "  <tbody>\n",
       "    <tr>\n",
       "      <th>0</th>\n",
       "      <td>1</td>\n",
       "      <td>6</td>\n",
       "      <td>6</td>\n",
       "      <td>17</td>\n",
       "      <td>30</td>\n",
       "      <td>4</td>\n",
       "      <td>25</td>\n",
       "      <td>10</td>\n",
       "      <td>55</td>\n",
       "      <td>0</td>\n",
       "      <td>0</td>\n",
       "      <td>0</td>\n",
       "      <td>1</td>\n",
       "      <td>0</td>\n",
       "      <td>0</td>\n",
       "      <td>0</td>\n",
       "      <td>0</td>\n",
       "      <td>0</td>\n",
       "      <td>0</td>\n",
       "      <td>0</td>\n",
       "      <td>1</td>\n",
       "      <td>0</td>\n",
       "      <td>0</td>\n",
       "      <td>1</td>\n",
       "      <td>0</td>\n",
       "      <td>0</td>\n",
       "      <td>0</td>\n",
       "      <td>0</td>\n",
       "    </tr>\n",
       "    <tr>\n",
       "      <th>1</th>\n",
       "      <td>1</td>\n",
       "      <td>12</td>\n",
       "      <td>5</td>\n",
       "      <td>6</td>\n",
       "      <td>20</td>\n",
       "      <td>10</td>\n",
       "      <td>20</td>\n",
       "      <td>4</td>\n",
       "      <td>0</td>\n",
       "      <td>0</td>\n",
       "      <td>0</td>\n",
       "      <td>1</td>\n",
       "      <td>0</td>\n",
       "      <td>0</td>\n",
       "      <td>0</td>\n",
       "      <td>0</td>\n",
       "      <td>0</td>\n",
       "      <td>0</td>\n",
       "      <td>0</td>\n",
       "      <td>0</td>\n",
       "      <td>0</td>\n",
       "      <td>1</td>\n",
       "      <td>0</td>\n",
       "      <td>0</td>\n",
       "      <td>0</td>\n",
       "      <td>0</td>\n",
       "      <td>0</td>\n",
       "      <td>0</td>\n",
       "    </tr>\n",
       "    <tr>\n",
       "      <th>2</th>\n",
       "      <td>1</td>\n",
       "      <td>21</td>\n",
       "      <td>5</td>\n",
       "      <td>19</td>\n",
       "      <td>15</td>\n",
       "      <td>19</td>\n",
       "      <td>0</td>\n",
       "      <td>23</td>\n",
       "      <td>45</td>\n",
       "      <td>0</td>\n",
       "      <td>0</td>\n",
       "      <td>0</td>\n",
       "      <td>1</td>\n",
       "      <td>0</td>\n",
       "      <td>0</td>\n",
       "      <td>0</td>\n",
       "      <td>0</td>\n",
       "      <td>0</td>\n",
       "      <td>0</td>\n",
       "      <td>0</td>\n",
       "      <td>1</td>\n",
       "      <td>0</td>\n",
       "      <td>0</td>\n",
       "      <td>1</td>\n",
       "      <td>0</td>\n",
       "      <td>0</td>\n",
       "      <td>0</td>\n",
       "      <td>0</td>\n",
       "    </tr>\n",
       "    <tr>\n",
       "      <th>3</th>\n",
       "      <td>1</td>\n",
       "      <td>21</td>\n",
       "      <td>5</td>\n",
       "      <td>8</td>\n",
       "      <td>0</td>\n",
       "      <td>21</td>\n",
       "      <td>0</td>\n",
       "      <td>13</td>\n",
       "      <td>0</td>\n",
       "      <td>0</td>\n",
       "      <td>0</td>\n",
       "      <td>0</td>\n",
       "      <td>0</td>\n",
       "      <td>0</td>\n",
       "      <td>1</td>\n",
       "      <td>0</td>\n",
       "      <td>0</td>\n",
       "      <td>0</td>\n",
       "      <td>0</td>\n",
       "      <td>0</td>\n",
       "      <td>1</td>\n",
       "      <td>0</td>\n",
       "      <td>0</td>\n",
       "      <td>1</td>\n",
       "      <td>0</td>\n",
       "      <td>0</td>\n",
       "      <td>0</td>\n",
       "      <td>0</td>\n",
       "    </tr>\n",
       "    <tr>\n",
       "      <th>4</th>\n",
       "      <td>0</td>\n",
       "      <td>24</td>\n",
       "      <td>6</td>\n",
       "      <td>23</td>\n",
       "      <td>55</td>\n",
       "      <td>2</td>\n",
       "      <td>45</td>\n",
       "      <td>2</td>\n",
       "      <td>50</td>\n",
       "      <td>0</td>\n",
       "      <td>0</td>\n",
       "      <td>0</td>\n",
       "      <td>0</td>\n",
       "      <td>0</td>\n",
       "      <td>0</td>\n",
       "      <td>0</td>\n",
       "      <td>0</td>\n",
       "      <td>0</td>\n",
       "      <td>0</td>\n",
       "      <td>0</td>\n",
       "      <td>0</td>\n",
       "      <td>0</td>\n",
       "      <td>0</td>\n",
       "      <td>0</td>\n",
       "      <td>1</td>\n",
       "      <td>0</td>\n",
       "      <td>0</td>\n",
       "      <td>0</td>\n",
       "    </tr>\n",
       "  </tbody>\n",
       "</table>\n",
       "</div>"
      ],
      "text/plain": [
       "   Total_Stops  Journey_day  Journey_month  Dep_hour  Dep_min  Arrival_hour  \\\n",
       "0            1            6              6        17       30             4   \n",
       "1            1           12              5         6       20            10   \n",
       "2            1           21              5        19       15            19   \n",
       "3            1           21              5         8        0            21   \n",
       "4            0           24              6        23       55             2   \n",
       "\n",
       "   Arrival_min  Duration_hours  Duration_mins  Air India  GoAir  IndiGo  \\\n",
       "0           25              10             55          0      0       0   \n",
       "1           20               4              0          0      0       1   \n",
       "2            0              23             45          0      0       0   \n",
       "3            0              13              0          0      0       0   \n",
       "4           45               2             50          0      0       0   \n",
       "\n",
       "   Jet Airways  Jet Airways Business  Multiple carriers  \\\n",
       "0            1                     0                  0   \n",
       "1            0                     0                  0   \n",
       "2            1                     0                  0   \n",
       "3            0                     0                  1   \n",
       "4            0                     0                  0   \n",
       "\n",
       "   Multiple carriers Premium economy  SpiceJet  Vistara  \\\n",
       "0                                  0         0        0   \n",
       "1                                  0         0        0   \n",
       "2                                  0         0        0   \n",
       "3                                  0         0        0   \n",
       "4                                  0         0        0   \n",
       "\n",
       "   Vistara Premium economy  Chennai  Delhi  Kolkata  Mumbai  Cochin  Delhi  \\\n",
       "0                        0        0      1        0       0       1      0   \n",
       "1                        0        0      0        1       0       0      0   \n",
       "2                        0        0      1        0       0       1      0   \n",
       "3                        0        0      1        0       0       1      0   \n",
       "4                        0        0      0        0       0       0      1   \n",
       "\n",
       "   Hyderabad  Kolkata  New Delhi  \n",
       "0          0        0          0  \n",
       "1          0        0          0  \n",
       "2          0        0          0  \n",
       "3          0        0          0  \n",
       "4          0        0          0  "
      ]
     },
     "execution_count": 56,
     "metadata": {},
     "output_type": "execute_result"
    }
   ],
   "source": [
    "data_test.head()"
   ]
  },
  {
   "cell_type": "markdown",
   "metadata": {
    "papermill": {
     "duration": 0.100861,
     "end_time": "2020-11-20T15:55:20.638082",
     "exception": false,
     "start_time": "2020-11-20T15:55:20.537221",
     "status": "completed"
    },
    "tags": []
   },
   "source": [
    "# Feature Selection"
   ]
  },
  {
   "cell_type": "code",
   "execution_count": 57,
   "metadata": {
    "execution": {
     "iopub.execute_input": "2020-11-20T15:55:20.847410Z",
     "iopub.status.busy": "2020-11-20T15:55:20.846352Z",
     "iopub.status.idle": "2020-11-20T15:55:20.850590Z",
     "shell.execute_reply": "2020-11-20T15:55:20.849966Z"
    },
    "papermill": {
     "duration": 0.111641,
     "end_time": "2020-11-20T15:55:20.850719",
     "exception": false,
     "start_time": "2020-11-20T15:55:20.739078",
     "status": "completed"
    },
    "tags": []
   },
   "outputs": [
    {
     "data": {
      "text/plain": [
       "(10682, 30)"
      ]
     },
     "execution_count": 57,
     "metadata": {},
     "output_type": "execute_result"
    }
   ],
   "source": [
    "data_train.shape"
   ]
  },
  {
   "cell_type": "code",
   "execution_count": 58,
   "metadata": {
    "execution": {
     "iopub.execute_input": "2020-11-20T15:55:21.082243Z",
     "iopub.status.busy": "2020-11-20T15:55:21.081208Z",
     "iopub.status.idle": "2020-11-20T15:55:21.085314Z",
     "shell.execute_reply": "2020-11-20T15:55:21.085866Z"
    },
    "papermill": {
     "duration": 0.131614,
     "end_time": "2020-11-20T15:55:21.086016",
     "exception": false,
     "start_time": "2020-11-20T15:55:20.954402",
     "status": "completed"
    },
    "tags": []
   },
   "outputs": [
    {
     "data": {
      "text/html": [
       "<div>\n",
       "<style scoped>\n",
       "    .dataframe tbody tr th:only-of-type {\n",
       "        vertical-align: middle;\n",
       "    }\n",
       "\n",
       "    .dataframe tbody tr th {\n",
       "        vertical-align: top;\n",
       "    }\n",
       "\n",
       "    .dataframe thead th {\n",
       "        text-align: right;\n",
       "    }\n",
       "</style>\n",
       "<table border=\"1\" class=\"dataframe\">\n",
       "  <thead>\n",
       "    <tr style=\"text-align: right;\">\n",
       "      <th></th>\n",
       "      <th>Total_Stops</th>\n",
       "      <th>Price</th>\n",
       "      <th>Journey_day</th>\n",
       "      <th>Journey_month</th>\n",
       "      <th>Dep_Hour</th>\n",
       "      <th>Dep_min</th>\n",
       "      <th>Arrival_Hour</th>\n",
       "      <th>Arrival_min</th>\n",
       "      <th>Duration_hours</th>\n",
       "      <th>Duration_mins</th>\n",
       "      <th>Airline_Air India</th>\n",
       "      <th>Airline_GoAir</th>\n",
       "      <th>Airline_IndiGo</th>\n",
       "      <th>Airline_Jet Airways</th>\n",
       "      <th>Airline_Jet Airways Business</th>\n",
       "      <th>Airline_Multiple carriers</th>\n",
       "      <th>Airline_Multiple carriers Premium economy</th>\n",
       "      <th>Airline_SpiceJet</th>\n",
       "      <th>Airline_Trujet</th>\n",
       "      <th>Airline_Vistara</th>\n",
       "      <th>Airline_Vistara Premium economy</th>\n",
       "      <th>Source_Chennai</th>\n",
       "      <th>Source_Delhi</th>\n",
       "      <th>Source_Kolkata</th>\n",
       "      <th>Source_Mumbai</th>\n",
       "      <th>Destination_Cochin</th>\n",
       "      <th>Destination_Delhi</th>\n",
       "      <th>Destination_Hyderabad</th>\n",
       "      <th>Destination_Kolkata</th>\n",
       "      <th>Destination_New Delhi</th>\n",
       "    </tr>\n",
       "  </thead>\n",
       "  <tbody>\n",
       "    <tr>\n",
       "      <th>0</th>\n",
       "      <td>0</td>\n",
       "      <td>3897</td>\n",
       "      <td>24</td>\n",
       "      <td>3</td>\n",
       "      <td>22</td>\n",
       "      <td>20</td>\n",
       "      <td>1</td>\n",
       "      <td>10</td>\n",
       "      <td>2</td>\n",
       "      <td>50</td>\n",
       "      <td>0</td>\n",
       "      <td>0</td>\n",
       "      <td>1</td>\n",
       "      <td>0</td>\n",
       "      <td>0</td>\n",
       "      <td>0</td>\n",
       "      <td>0</td>\n",
       "      <td>0</td>\n",
       "      <td>0</td>\n",
       "      <td>0</td>\n",
       "      <td>0</td>\n",
       "      <td>0</td>\n",
       "      <td>0</td>\n",
       "      <td>0</td>\n",
       "      <td>0</td>\n",
       "      <td>0</td>\n",
       "      <td>0</td>\n",
       "      <td>0</td>\n",
       "      <td>0</td>\n",
       "      <td>1</td>\n",
       "    </tr>\n",
       "    <tr>\n",
       "      <th>1</th>\n",
       "      <td>2</td>\n",
       "      <td>7662</td>\n",
       "      <td>1</td>\n",
       "      <td>5</td>\n",
       "      <td>5</td>\n",
       "      <td>50</td>\n",
       "      <td>13</td>\n",
       "      <td>15</td>\n",
       "      <td>7</td>\n",
       "      <td>25</td>\n",
       "      <td>1</td>\n",
       "      <td>0</td>\n",
       "      <td>0</td>\n",
       "      <td>0</td>\n",
       "      <td>0</td>\n",
       "      <td>0</td>\n",
       "      <td>0</td>\n",
       "      <td>0</td>\n",
       "      <td>0</td>\n",
       "      <td>0</td>\n",
       "      <td>0</td>\n",
       "      <td>0</td>\n",
       "      <td>0</td>\n",
       "      <td>1</td>\n",
       "      <td>0</td>\n",
       "      <td>0</td>\n",
       "      <td>0</td>\n",
       "      <td>0</td>\n",
       "      <td>0</td>\n",
       "      <td>0</td>\n",
       "    </tr>\n",
       "    <tr>\n",
       "      <th>2</th>\n",
       "      <td>2</td>\n",
       "      <td>13882</td>\n",
       "      <td>9</td>\n",
       "      <td>6</td>\n",
       "      <td>9</td>\n",
       "      <td>25</td>\n",
       "      <td>4</td>\n",
       "      <td>25</td>\n",
       "      <td>19</td>\n",
       "      <td>0</td>\n",
       "      <td>0</td>\n",
       "      <td>0</td>\n",
       "      <td>0</td>\n",
       "      <td>1</td>\n",
       "      <td>0</td>\n",
       "      <td>0</td>\n",
       "      <td>0</td>\n",
       "      <td>0</td>\n",
       "      <td>0</td>\n",
       "      <td>0</td>\n",
       "      <td>0</td>\n",
       "      <td>0</td>\n",
       "      <td>1</td>\n",
       "      <td>0</td>\n",
       "      <td>0</td>\n",
       "      <td>1</td>\n",
       "      <td>0</td>\n",
       "      <td>0</td>\n",
       "      <td>0</td>\n",
       "      <td>0</td>\n",
       "    </tr>\n",
       "    <tr>\n",
       "      <th>3</th>\n",
       "      <td>1</td>\n",
       "      <td>6218</td>\n",
       "      <td>12</td>\n",
       "      <td>5</td>\n",
       "      <td>18</td>\n",
       "      <td>5</td>\n",
       "      <td>23</td>\n",
       "      <td>30</td>\n",
       "      <td>5</td>\n",
       "      <td>25</td>\n",
       "      <td>0</td>\n",
       "      <td>0</td>\n",
       "      <td>1</td>\n",
       "      <td>0</td>\n",
       "      <td>0</td>\n",
       "      <td>0</td>\n",
       "      <td>0</td>\n",
       "      <td>0</td>\n",
       "      <td>0</td>\n",
       "      <td>0</td>\n",
       "      <td>0</td>\n",
       "      <td>0</td>\n",
       "      <td>0</td>\n",
       "      <td>1</td>\n",
       "      <td>0</td>\n",
       "      <td>0</td>\n",
       "      <td>0</td>\n",
       "      <td>0</td>\n",
       "      <td>0</td>\n",
       "      <td>0</td>\n",
       "    </tr>\n",
       "    <tr>\n",
       "      <th>4</th>\n",
       "      <td>1</td>\n",
       "      <td>13302</td>\n",
       "      <td>1</td>\n",
       "      <td>3</td>\n",
       "      <td>16</td>\n",
       "      <td>50</td>\n",
       "      <td>21</td>\n",
       "      <td>35</td>\n",
       "      <td>4</td>\n",
       "      <td>45</td>\n",
       "      <td>0</td>\n",
       "      <td>0</td>\n",
       "      <td>1</td>\n",
       "      <td>0</td>\n",
       "      <td>0</td>\n",
       "      <td>0</td>\n",
       "      <td>0</td>\n",
       "      <td>0</td>\n",
       "      <td>0</td>\n",
       "      <td>0</td>\n",
       "      <td>0</td>\n",
       "      <td>0</td>\n",
       "      <td>0</td>\n",
       "      <td>0</td>\n",
       "      <td>0</td>\n",
       "      <td>0</td>\n",
       "      <td>0</td>\n",
       "      <td>0</td>\n",
       "      <td>0</td>\n",
       "      <td>1</td>\n",
       "    </tr>\n",
       "  </tbody>\n",
       "</table>\n",
       "</div>"
      ],
      "text/plain": [
       "   Total_Stops  Price  Journey_day  Journey_month  Dep_Hour  Dep_min  \\\n",
       "0            0   3897           24              3        22       20   \n",
       "1            2   7662            1              5         5       50   \n",
       "2            2  13882            9              6         9       25   \n",
       "3            1   6218           12              5        18        5   \n",
       "4            1  13302            1              3        16       50   \n",
       "\n",
       "   Arrival_Hour  Arrival_min  Duration_hours  Duration_mins  \\\n",
       "0             1           10               2             50   \n",
       "1            13           15               7             25   \n",
       "2             4           25              19              0   \n",
       "3            23           30               5             25   \n",
       "4            21           35               4             45   \n",
       "\n",
       "   Airline_Air India  Airline_GoAir  Airline_IndiGo  Airline_Jet Airways  \\\n",
       "0                  0              0               1                    0   \n",
       "1                  1              0               0                    0   \n",
       "2                  0              0               0                    1   \n",
       "3                  0              0               1                    0   \n",
       "4                  0              0               1                    0   \n",
       "\n",
       "   Airline_Jet Airways Business  Airline_Multiple carriers  \\\n",
       "0                             0                          0   \n",
       "1                             0                          0   \n",
       "2                             0                          0   \n",
       "3                             0                          0   \n",
       "4                             0                          0   \n",
       "\n",
       "   Airline_Multiple carriers Premium economy  Airline_SpiceJet  \\\n",
       "0                                          0                 0   \n",
       "1                                          0                 0   \n",
       "2                                          0                 0   \n",
       "3                                          0                 0   \n",
       "4                                          0                 0   \n",
       "\n",
       "   Airline_Trujet  Airline_Vistara  Airline_Vistara Premium economy  \\\n",
       "0               0                0                                0   \n",
       "1               0                0                                0   \n",
       "2               0                0                                0   \n",
       "3               0                0                                0   \n",
       "4               0                0                                0   \n",
       "\n",
       "   Source_Chennai  Source_Delhi  Source_Kolkata  Source_Mumbai  \\\n",
       "0               0             0               0              0   \n",
       "1               0             0               1              0   \n",
       "2               0             1               0              0   \n",
       "3               0             0               1              0   \n",
       "4               0             0               0              0   \n",
       "\n",
       "   Destination_Cochin  Destination_Delhi  Destination_Hyderabad  \\\n",
       "0                   0                  0                      0   \n",
       "1                   0                  0                      0   \n",
       "2                   1                  0                      0   \n",
       "3                   0                  0                      0   \n",
       "4                   0                  0                      0   \n",
       "\n",
       "   Destination_Kolkata  Destination_New Delhi  \n",
       "0                    0                      1  \n",
       "1                    0                      0  \n",
       "2                    0                      0  \n",
       "3                    0                      0  \n",
       "4                    0                      1  "
      ]
     },
     "execution_count": 58,
     "metadata": {},
     "output_type": "execute_result"
    }
   ],
   "source": [
    "data_train.head()"
   ]
  },
  {
   "cell_type": "code",
   "execution_count": 59,
   "metadata": {
    "execution": {
     "iopub.execute_input": "2020-11-20T15:55:21.300925Z",
     "iopub.status.busy": "2020-11-20T15:55:21.299965Z",
     "iopub.status.idle": "2020-11-20T15:55:21.304424Z",
     "shell.execute_reply": "2020-11-20T15:55:21.303849Z"
    },
    "papermill": {
     "duration": 0.11311,
     "end_time": "2020-11-20T15:55:21.304537",
     "exception": false,
     "start_time": "2020-11-20T15:55:21.191427",
     "status": "completed"
    },
    "tags": []
   },
   "outputs": [
    {
     "data": {
      "text/plain": [
       "Index(['Total_Stops', 'Price', 'Journey_day', 'Journey_month', 'Dep_Hour',\n",
       "       'Dep_min', 'Arrival_Hour', 'Arrival_min', 'Duration_hours',\n",
       "       'Duration_mins', 'Airline_Air India', 'Airline_GoAir', 'Airline_IndiGo',\n",
       "       'Airline_Jet Airways', 'Airline_Jet Airways Business',\n",
       "       'Airline_Multiple carriers',\n",
       "       'Airline_Multiple carriers Premium economy', 'Airline_SpiceJet',\n",
       "       'Airline_Trujet', 'Airline_Vistara', 'Airline_Vistara Premium economy',\n",
       "       'Source_Chennai', 'Source_Delhi', 'Source_Kolkata', 'Source_Mumbai',\n",
       "       'Destination_Cochin', 'Destination_Delhi', 'Destination_Hyderabad',\n",
       "       'Destination_Kolkata', 'Destination_New Delhi'],\n",
       "      dtype='object')"
      ]
     },
     "execution_count": 59,
     "metadata": {},
     "output_type": "execute_result"
    }
   ],
   "source": [
    "data_train.columns"
   ]
  },
  {
   "cell_type": "code",
   "execution_count": 60,
   "metadata": {
    "execution": {
     "iopub.execute_input": "2020-11-20T15:55:21.517697Z",
     "iopub.status.busy": "2020-11-20T15:55:21.516662Z",
     "iopub.status.idle": "2020-11-20T15:55:21.540102Z",
     "shell.execute_reply": "2020-11-20T15:55:21.539465Z"
    },
    "papermill": {
     "duration": 0.1344,
     "end_time": "2020-11-20T15:55:21.540234",
     "exception": false,
     "start_time": "2020-11-20T15:55:21.405834",
     "status": "completed"
    },
    "tags": []
   },
   "outputs": [
    {
     "data": {
      "text/html": [
       "<div>\n",
       "<style scoped>\n",
       "    .dataframe tbody tr th:only-of-type {\n",
       "        vertical-align: middle;\n",
       "    }\n",
       "\n",
       "    .dataframe tbody tr th {\n",
       "        vertical-align: top;\n",
       "    }\n",
       "\n",
       "    .dataframe thead th {\n",
       "        text-align: right;\n",
       "    }\n",
       "</style>\n",
       "<table border=\"1\" class=\"dataframe\">\n",
       "  <thead>\n",
       "    <tr style=\"text-align: right;\">\n",
       "      <th></th>\n",
       "      <th>Total_Stops</th>\n",
       "      <th>Price</th>\n",
       "      <th>Journey_day</th>\n",
       "      <th>Journey_month</th>\n",
       "      <th>Dep_Hour</th>\n",
       "      <th>Dep_min</th>\n",
       "      <th>Arrival_Hour</th>\n",
       "      <th>Arrival_min</th>\n",
       "      <th>Duration_hours</th>\n",
       "      <th>Duration_mins</th>\n",
       "      <th>Airline_Air India</th>\n",
       "      <th>Airline_GoAir</th>\n",
       "      <th>Airline_IndiGo</th>\n",
       "      <th>Airline_Jet Airways</th>\n",
       "      <th>Airline_Jet Airways Business</th>\n",
       "      <th>Airline_Multiple carriers</th>\n",
       "      <th>Airline_Multiple carriers Premium economy</th>\n",
       "      <th>Airline_SpiceJet</th>\n",
       "      <th>Airline_Trujet</th>\n",
       "      <th>Airline_Vistara</th>\n",
       "      <th>Airline_Vistara Premium economy</th>\n",
       "      <th>Source_Chennai</th>\n",
       "      <th>Source_Delhi</th>\n",
       "      <th>Source_Kolkata</th>\n",
       "      <th>Source_Mumbai</th>\n",
       "      <th>Destination_Cochin</th>\n",
       "      <th>Destination_Delhi</th>\n",
       "      <th>Destination_Hyderabad</th>\n",
       "      <th>Destination_Kolkata</th>\n",
       "      <th>Destination_New Delhi</th>\n",
       "    </tr>\n",
       "  </thead>\n",
       "  <tbody>\n",
       "    <tr>\n",
       "      <th>0</th>\n",
       "      <td>0</td>\n",
       "      <td>3897</td>\n",
       "      <td>24</td>\n",
       "      <td>3</td>\n",
       "      <td>22</td>\n",
       "      <td>20</td>\n",
       "      <td>1</td>\n",
       "      <td>10</td>\n",
       "      <td>2</td>\n",
       "      <td>50</td>\n",
       "      <td>0</td>\n",
       "      <td>0</td>\n",
       "      <td>1</td>\n",
       "      <td>0</td>\n",
       "      <td>0</td>\n",
       "      <td>0</td>\n",
       "      <td>0</td>\n",
       "      <td>0</td>\n",
       "      <td>0</td>\n",
       "      <td>0</td>\n",
       "      <td>0</td>\n",
       "      <td>0</td>\n",
       "      <td>0</td>\n",
       "      <td>0</td>\n",
       "      <td>0</td>\n",
       "      <td>0</td>\n",
       "      <td>0</td>\n",
       "      <td>0</td>\n",
       "      <td>0</td>\n",
       "      <td>1</td>\n",
       "    </tr>\n",
       "    <tr>\n",
       "      <th>1</th>\n",
       "      <td>2</td>\n",
       "      <td>7662</td>\n",
       "      <td>1</td>\n",
       "      <td>5</td>\n",
       "      <td>5</td>\n",
       "      <td>50</td>\n",
       "      <td>13</td>\n",
       "      <td>15</td>\n",
       "      <td>7</td>\n",
       "      <td>25</td>\n",
       "      <td>1</td>\n",
       "      <td>0</td>\n",
       "      <td>0</td>\n",
       "      <td>0</td>\n",
       "      <td>0</td>\n",
       "      <td>0</td>\n",
       "      <td>0</td>\n",
       "      <td>0</td>\n",
       "      <td>0</td>\n",
       "      <td>0</td>\n",
       "      <td>0</td>\n",
       "      <td>0</td>\n",
       "      <td>0</td>\n",
       "      <td>1</td>\n",
       "      <td>0</td>\n",
       "      <td>0</td>\n",
       "      <td>0</td>\n",
       "      <td>0</td>\n",
       "      <td>0</td>\n",
       "      <td>0</td>\n",
       "    </tr>\n",
       "    <tr>\n",
       "      <th>2</th>\n",
       "      <td>2</td>\n",
       "      <td>13882</td>\n",
       "      <td>9</td>\n",
       "      <td>6</td>\n",
       "      <td>9</td>\n",
       "      <td>25</td>\n",
       "      <td>4</td>\n",
       "      <td>25</td>\n",
       "      <td>19</td>\n",
       "      <td>0</td>\n",
       "      <td>0</td>\n",
       "      <td>0</td>\n",
       "      <td>0</td>\n",
       "      <td>1</td>\n",
       "      <td>0</td>\n",
       "      <td>0</td>\n",
       "      <td>0</td>\n",
       "      <td>0</td>\n",
       "      <td>0</td>\n",
       "      <td>0</td>\n",
       "      <td>0</td>\n",
       "      <td>0</td>\n",
       "      <td>1</td>\n",
       "      <td>0</td>\n",
       "      <td>0</td>\n",
       "      <td>1</td>\n",
       "      <td>0</td>\n",
       "      <td>0</td>\n",
       "      <td>0</td>\n",
       "      <td>0</td>\n",
       "    </tr>\n",
       "    <tr>\n",
       "      <th>3</th>\n",
       "      <td>1</td>\n",
       "      <td>6218</td>\n",
       "      <td>12</td>\n",
       "      <td>5</td>\n",
       "      <td>18</td>\n",
       "      <td>5</td>\n",
       "      <td>23</td>\n",
       "      <td>30</td>\n",
       "      <td>5</td>\n",
       "      <td>25</td>\n",
       "      <td>0</td>\n",
       "      <td>0</td>\n",
       "      <td>1</td>\n",
       "      <td>0</td>\n",
       "      <td>0</td>\n",
       "      <td>0</td>\n",
       "      <td>0</td>\n",
       "      <td>0</td>\n",
       "      <td>0</td>\n",
       "      <td>0</td>\n",
       "      <td>0</td>\n",
       "      <td>0</td>\n",
       "      <td>0</td>\n",
       "      <td>1</td>\n",
       "      <td>0</td>\n",
       "      <td>0</td>\n",
       "      <td>0</td>\n",
       "      <td>0</td>\n",
       "      <td>0</td>\n",
       "      <td>0</td>\n",
       "    </tr>\n",
       "    <tr>\n",
       "      <th>4</th>\n",
       "      <td>1</td>\n",
       "      <td>13302</td>\n",
       "      <td>1</td>\n",
       "      <td>3</td>\n",
       "      <td>16</td>\n",
       "      <td>50</td>\n",
       "      <td>21</td>\n",
       "      <td>35</td>\n",
       "      <td>4</td>\n",
       "      <td>45</td>\n",
       "      <td>0</td>\n",
       "      <td>0</td>\n",
       "      <td>1</td>\n",
       "      <td>0</td>\n",
       "      <td>0</td>\n",
       "      <td>0</td>\n",
       "      <td>0</td>\n",
       "      <td>0</td>\n",
       "      <td>0</td>\n",
       "      <td>0</td>\n",
       "      <td>0</td>\n",
       "      <td>0</td>\n",
       "      <td>0</td>\n",
       "      <td>0</td>\n",
       "      <td>0</td>\n",
       "      <td>0</td>\n",
       "      <td>0</td>\n",
       "      <td>0</td>\n",
       "      <td>0</td>\n",
       "      <td>1</td>\n",
       "    </tr>\n",
       "  </tbody>\n",
       "</table>\n",
       "</div>"
      ],
      "text/plain": [
       "   Total_Stops  Price  Journey_day  Journey_month  Dep_Hour  Dep_min  \\\n",
       "0            0   3897           24              3        22       20   \n",
       "1            2   7662            1              5         5       50   \n",
       "2            2  13882            9              6         9       25   \n",
       "3            1   6218           12              5        18        5   \n",
       "4            1  13302            1              3        16       50   \n",
       "\n",
       "   Arrival_Hour  Arrival_min  Duration_hours  Duration_mins  \\\n",
       "0             1           10               2             50   \n",
       "1            13           15               7             25   \n",
       "2             4           25              19              0   \n",
       "3            23           30               5             25   \n",
       "4            21           35               4             45   \n",
       "\n",
       "   Airline_Air India  Airline_GoAir  Airline_IndiGo  Airline_Jet Airways  \\\n",
       "0                  0              0               1                    0   \n",
       "1                  1              0               0                    0   \n",
       "2                  0              0               0                    1   \n",
       "3                  0              0               1                    0   \n",
       "4                  0              0               1                    0   \n",
       "\n",
       "   Airline_Jet Airways Business  Airline_Multiple carriers  \\\n",
       "0                             0                          0   \n",
       "1                             0                          0   \n",
       "2                             0                          0   \n",
       "3                             0                          0   \n",
       "4                             0                          0   \n",
       "\n",
       "   Airline_Multiple carriers Premium economy  Airline_SpiceJet  \\\n",
       "0                                          0                 0   \n",
       "1                                          0                 0   \n",
       "2                                          0                 0   \n",
       "3                                          0                 0   \n",
       "4                                          0                 0   \n",
       "\n",
       "   Airline_Trujet  Airline_Vistara  Airline_Vistara Premium economy  \\\n",
       "0               0                0                                0   \n",
       "1               0                0                                0   \n",
       "2               0                0                                0   \n",
       "3               0                0                                0   \n",
       "4               0                0                                0   \n",
       "\n",
       "   Source_Chennai  Source_Delhi  Source_Kolkata  Source_Mumbai  \\\n",
       "0               0             0               0              0   \n",
       "1               0             0               1              0   \n",
       "2               0             1               0              0   \n",
       "3               0             0               1              0   \n",
       "4               0             0               0              0   \n",
       "\n",
       "   Destination_Cochin  Destination_Delhi  Destination_Hyderabad  \\\n",
       "0                   0                  0                      0   \n",
       "1                   0                  0                      0   \n",
       "2                   1                  0                      0   \n",
       "3                   0                  0                      0   \n",
       "4                   0                  0                      0   \n",
       "\n",
       "   Destination_Kolkata  Destination_New Delhi  \n",
       "0                    0                      1  \n",
       "1                    0                      0  \n",
       "2                    0                      0  \n",
       "3                    0                      0  \n",
       "4                    0                      1  "
      ]
     },
     "execution_count": 60,
     "metadata": {},
     "output_type": "execute_result"
    }
   ],
   "source": [
    "X = data_train.loc[:, ['Total_Stops', 'Price', 'Journey_day', 'Journey_month', 'Dep_Hour',\n",
    "       'Dep_min', 'Arrival_Hour', 'Arrival_min', 'Duration_hours',\n",
    "       'Duration_mins', 'Airline_Air India', 'Airline_GoAir', 'Airline_IndiGo',\n",
    "       'Airline_Jet Airways', 'Airline_Jet Airways Business',\n",
    "       'Airline_Multiple carriers',\n",
    "       'Airline_Multiple carriers Premium economy', 'Airline_SpiceJet',\n",
    "       'Airline_Trujet', 'Airline_Vistara', 'Airline_Vistara Premium economy',\n",
    "       'Source_Chennai', 'Source_Delhi', 'Source_Kolkata', 'Source_Mumbai',\n",
    "       'Destination_Cochin', 'Destination_Delhi', 'Destination_Hyderabad',\n",
    "       'Destination_Kolkata', 'Destination_New Delhi']]\n",
    "\n",
    "X.head()"
   ]
  },
  {
   "cell_type": "code",
   "execution_count": 61,
   "metadata": {
    "execution": {
     "iopub.execute_input": "2020-11-20T15:55:21.757132Z",
     "iopub.status.busy": "2020-11-20T15:55:21.756308Z",
     "iopub.status.idle": "2020-11-20T15:55:21.761005Z",
     "shell.execute_reply": "2020-11-20T15:55:21.760305Z"
    },
    "papermill": {
     "duration": 0.116482,
     "end_time": "2020-11-20T15:55:21.761147",
     "exception": false,
     "start_time": "2020-11-20T15:55:21.644665",
     "status": "completed"
    },
    "tags": []
   },
   "outputs": [
    {
     "data": {
      "text/plain": [
       "0     3897\n",
       "1     7662\n",
       "2    13882\n",
       "3     6218\n",
       "4    13302\n",
       "Name: Price, dtype: int64"
      ]
     },
     "execution_count": 61,
     "metadata": {},
     "output_type": "execute_result"
    }
   ],
   "source": [
    "y = data_train.iloc[:, 1]\n",
    "y.head()"
   ]
  },
  {
   "cell_type": "code",
   "execution_count": 62,
   "metadata": {
    "execution": {
     "iopub.execute_input": "2020-11-20T15:55:21.985569Z",
     "iopub.status.busy": "2020-11-20T15:55:21.984637Z",
     "iopub.status.idle": "2020-11-20T15:55:22.807429Z",
     "shell.execute_reply": "2020-11-20T15:55:22.808009Z"
    },
    "papermill": {
     "duration": 0.940325,
     "end_time": "2020-11-20T15:55:22.808174",
     "exception": false,
     "start_time": "2020-11-20T15:55:21.867849",
     "status": "completed"
    },
    "tags": []
   },
   "outputs": [
    {
     "data": {
      "image/png": "[encoded data removed]",
      "text/plain": [
       "<Figure size 1296x1296 with 2 Axes>"
      ]
     },
     "metadata": {},
     "output_type": "display_data"
    }
   ],
   "source": [
    "# Heatmap\n",
    "\n",
    "plt.figure(figsize=(18,18))\n",
    "\n",
    "sns.heatmap(train_data.corr(), annot = True, cmap=\"RdYlGn\")\n",
    "\n",
    "plt.show()"
   ]
  },
  {
   "cell_type": "code",
   "execution_count": 63,
   "metadata": {
    "execution": {
     "iopub.execute_input": "2020-11-20T15:55:23.036768Z",
     "iopub.status.busy": "2020-11-20T15:55:23.035921Z",
     "iopub.status.idle": "2020-11-20T15:55:26.087305Z",
     "shell.execute_reply": "2020-11-20T15:55:26.086502Z"
    },
    "papermill": {
     "duration": 3.168537,
     "end_time": "2020-11-20T15:55:26.087430",
     "exception": false,
     "start_time": "2020-11-20T15:55:22.918893",
     "status": "completed"
    },
    "tags": []
   },
   "outputs": [
    {
     "data": {
      "text/plain": [
       "ExtraTreesRegressor()"
      ]
     },
     "execution_count": 63,
     "metadata": {},
     "output_type": "execute_result"
    }
   ],
   "source": [
    "# Important feature using ExtraTreeRegressor\n",
    "\n",
    "from sklearn.ensemble import ExtraTreesRegressor\n",
    "selection = ExtraTreesRegressor()\n",
    "selection.fit(X,y)"
   ]
  },
  {
   "cell_type": "code",
   "execution_count": 64,
   "metadata": {
    "execution": {
     "iopub.execute_input": "2020-11-20T15:55:26.313321Z",
     "iopub.status.busy": "2020-11-20T15:55:26.312614Z",
     "iopub.status.idle": "2020-11-20T15:55:26.332833Z",
     "shell.execute_reply": "2020-11-20T15:55:26.333582Z"
    },
    "papermill": {
     "duration": 0.135856,
     "end_time": "2020-11-20T15:55:26.333777",
     "exception": false,
     "start_time": "2020-11-20T15:55:26.197921",
     "status": "completed"
    },
    "tags": []
   },
   "outputs": [
    {
     "name": "stdout",
     "output_type": "stream",
     "text": [
      "[1.34769675e-01 5.98871380e-01 4.64087427e-03 2.07896365e-03\n",
      " 1.47944791e-04 1.65986488e-04 2.72644494e-04 1.24741320e-04\n",
      " 8.82731423e-02 2.89655091e-04 1.40635044e-03 1.04510923e-05\n",
      " 6.21015490e-03 9.79478729e-02 3.22580296e-02 2.08922129e-03\n",
      " 9.15625761e-07 3.42677720e-04 1.10823247e-09 2.07878439e-04\n",
      " 4.06073604e-07 2.09666860e-05 7.69391070e-03 4.52941430e-04\n",
      " 1.37370442e-03 5.20952492e-03 7.58379876e-03 7.77212171e-04\n",
      " 9.32148482e-06 6.76965364e-03]\n"
     ]
    }
   ],
   "source": [
    "print(selection.feature_importances_)"
   ]
  },
  {
   "cell_type": "code",
   "execution_count": 65,
   "metadata": {
    "execution": {
     "iopub.execute_input": "2020-11-20T15:55:26.561591Z",
     "iopub.status.busy": "2020-11-20T15:55:26.560721Z",
     "iopub.status.idle": "2020-11-20T15:55:26.971421Z",
     "shell.execute_reply": "2020-11-20T15:55:26.970770Z"
    },
    "papermill": {
     "duration": 0.528018,
     "end_time": "2020-11-20T15:55:26.971559",
     "exception": false,
     "start_time": "2020-11-20T15:55:26.443541",
     "status": "completed"
    },
    "tags": []
   },
   "outputs": [
    {
     "data": {
      "image/png": "[encoded data removed]",
      "text/plain": [
       "<Figure size 864x576 with 1 Axes>"
      ]
     },
     "metadata": {},
     "output_type": "display_data"
    }
   ],
   "source": [
    "#plot graph of feature importances for better visualization\n",
    "\n",
    "plt.figure(figsize=(12,8))\n",
    "feat_importances = pd.Series(selection.feature_importances_, index = X.columns)\n",
    "\n",
    "feat_importances.nlargest(20).plot(kind=\"barh\")\n",
    "\n",
    "plt.show()"
   ]
  },
  {
   "cell_type": "markdown",
   "metadata": {
    "papermill": {
     "duration": 0.109654,
     "end_time": "2020-11-20T15:55:27.191859",
     "exception": false,
     "start_time": "2020-11-20T15:55:27.082205",
     "status": "completed"
    },
    "tags": []
   },
   "source": [
    "# Fitting Model Using Random Forest"
   ]
  },
  {
   "cell_type": "code",
   "execution_count": 66,
   "metadata": {
    "execution": {
     "iopub.execute_input": "2020-11-20T15:55:27.420706Z",
     "iopub.status.busy": "2020-11-20T15:55:27.419931Z",
     "iopub.status.idle": "2020-11-20T15:55:27.425316Z",
     "shell.execute_reply": "2020-11-20T15:55:27.424604Z"
    },
    "papermill": {
     "duration": 0.122503,
     "end_time": "2020-11-20T15:55:27.425430",
     "exception": false,
     "start_time": "2020-11-20T15:55:27.302927",
     "status": "completed"
    },
    "tags": []
   },
   "outputs": [],
   "source": [
    "from sklearn.model_selection import train_test_split\n",
    "X_train, X_test, y_train, y_test = train_test_split(X, y, test_size=0.2, random_state=42)"
   ]
  },
  {
   "cell_type": "code",
   "execution_count": 67,
   "metadata": {
    "execution": {
     "iopub.execute_input": "2020-11-20T15:55:27.655095Z",
     "iopub.status.busy": "2020-11-20T15:55:27.653892Z",
     "iopub.status.idle": "2020-11-20T15:55:30.661141Z",
     "shell.execute_reply": "2020-11-20T15:55:30.660427Z"
    },
    "papermill": {
     "duration": 3.124796,
     "end_time": "2020-11-20T15:55:30.661261",
     "exception": false,
     "start_time": "2020-11-20T15:55:27.536465",
     "status": "completed"
    },
    "tags": []
   },
   "outputs": [
    {
     "data": {
      "text/plain": [
       "RandomForestRegressor()"
      ]
     },
     "execution_count": 67,
     "metadata": {},
     "output_type": "execute_result"
    }
   ],
   "source": [
    "from sklearn.ensemble import RandomForestRegressor\n",
    "reg_rf = RandomForestRegressor()\n",
    "reg_rf.fit(X_train, y_train)"
   ]
  },
  {
   "cell_type": "code",
   "execution_count": 68,
   "metadata": {
    "execution": {
     "iopub.execute_input": "2020-11-20T15:55:30.899289Z",
     "iopub.status.busy": "2020-11-20T15:55:30.898285Z",
     "iopub.status.idle": "2020-11-20T15:55:30.944981Z",
     "shell.execute_reply": "2020-11-20T15:55:30.944393Z"
    },
    "papermill": {
     "duration": 0.168588,
     "end_time": "2020-11-20T15:55:30.945169",
     "exception": false,
     "start_time": "2020-11-20T15:55:30.776581",
     "status": "completed"
    },
    "tags": []
   },
   "outputs": [],
   "source": [
    "y_pred = reg_rf.predict(X_test)"
   ]
  },
  {
   "cell_type": "code",
   "execution_count": 69,
   "metadata": {
    "execution": {
     "iopub.execute_input": "2020-11-20T15:55:31.181876Z",
     "iopub.status.busy": "2020-11-20T15:55:31.181153Z",
     "iopub.status.idle": "2020-11-20T15:55:31.315385Z",
     "shell.execute_reply": "2020-11-20T15:55:31.314663Z"
    },
    "papermill": {
     "duration": 0.255299,
     "end_time": "2020-11-20T15:55:31.315492",
     "exception": false,
     "start_time": "2020-11-20T15:55:31.060193",
     "status": "completed"
    },
    "tags": []
   },
   "outputs": [
    {
     "data": {
      "text/plain": [
       "0.9994898292845279"
      ]
     },
     "execution_count": 69,
     "metadata": {},
     "output_type": "execute_result"
    }
   ],
   "source": [
    "reg_rf.score(X_train, y_train)"
   ]
  },
  {
   "cell_type": "code",
   "execution_count": 70,
   "metadata": {
    "execution": {
     "iopub.execute_input": "2020-11-20T15:55:31.551820Z",
     "iopub.status.busy": "2020-11-20T15:55:31.551068Z",
     "iopub.status.idle": "2020-11-20T15:55:31.599847Z",
     "shell.execute_reply": "2020-11-20T15:55:31.599238Z"
    },
    "papermill": {
     "duration": 0.171882,
     "end_time": "2020-11-20T15:55:31.599962",
     "exception": false,
     "start_time": "2020-11-20T15:55:31.428080",
     "status": "completed"
    },
    "tags": []
   },
   "outputs": [
    {
     "data": {
      "text/plain": [
       "0.9994059853205267"
      ]
     },
     "execution_count": 70,
     "metadata": {},
     "output_type": "execute_result"
    }
   ],
   "source": [
    "reg_rf.score(X_test, y_test)"
   ]
  },
  {
   "cell_type": "code",
   "execution_count": 71,
   "metadata": {
    "execution": {
     "iopub.execute_input": "2020-11-20T15:55:31.843984Z",
     "iopub.status.busy": "2020-11-20T15:55:31.843275Z",
     "iopub.status.idle": "2020-11-20T15:55:32.282490Z",
     "shell.execute_reply": "2020-11-20T15:55:32.283293Z"
    },
    "papermill": {
     "duration": 0.56751,
     "end_time": "2020-11-20T15:55:32.283475",
     "exception": false,
     "start_time": "2020-11-20T15:55:31.715965",
     "status": "completed"
    },
    "tags": []
   },
   "outputs": [
    {
     "data": {
      "image/png": "[encoded data removed]",
      "text/plain": [
       "<Figure size 432x288 with 1 Axes>"
      ]
     },
     "metadata": {},
     "output_type": "display_data"
    }
   ],
   "source": [
    "sns.distplot(y_test - y_pred)\n",
    "plt.show()"
   ]
  },
  {
   "cell_type": "code",
   "execution_count": 72,
   "metadata": {
    "execution": {
     "iopub.execute_input": "2020-11-20T15:55:32.538101Z",
     "iopub.status.busy": "2020-11-20T15:55:32.537041Z",
     "iopub.status.idle": "2020-11-20T15:55:32.811480Z",
     "shell.execute_reply": "2020-11-20T15:55:32.810875Z"
    },
    "papermill": {
     "duration": 0.404398,
     "end_time": "2020-11-20T15:55:32.811608",
     "exception": false,
     "start_time": "2020-11-20T15:55:32.407210",
     "status": "completed"
    },
    "tags": []
   },
   "outputs": [
    {
     "data": {
      "image/png": "[encoded data removed]",
      "text/plain": [
       "<Figure size 432x288 with 1 Axes>"
      ]
     },
     "metadata": {},
     "output_type": "display_data"
    }
   ],
   "source": [
    "plt.scatter(y_test, y_pred, alpha = 0.5)\n",
    "plt.xlabel(\"y_test\")\n",
    "plt.ylabel(\"y_pred\")\n",
    "plt.show()"
   ]
  },
  {
   "cell_type": "code",
   "execution_count": 73,
   "metadata": {
    "execution": {
     "iopub.execute_input": "2020-11-20T15:55:33.054279Z",
     "iopub.status.busy": "2020-11-20T15:55:33.053243Z",
     "iopub.status.idle": "2020-11-20T15:55:33.055879Z",
     "shell.execute_reply": "2020-11-20T15:55:33.056636Z"
    },
    "papermill": {
     "duration": 0.127597,
     "end_time": "2020-11-20T15:55:33.056793",
     "exception": false,
     "start_time": "2020-11-20T15:55:32.929196",
     "status": "completed"
    },
    "tags": []
   },
   "outputs": [],
   "source": [
    "from sklearn import metrics"
   ]
  },
  {
   "cell_type": "code",
   "execution_count": 74,
   "metadata": {
    "execution": {
     "iopub.execute_input": "2020-11-20T15:55:33.308518Z",
     "iopub.status.busy": "2020-11-20T15:55:33.307573Z",
     "iopub.status.idle": "2020-11-20T15:55:33.311951Z",
     "shell.execute_reply": "2020-11-20T15:55:33.311191Z"
    },
    "papermill": {
     "duration": 0.129363,
     "end_time": "2020-11-20T15:55:33.312070",
     "exception": false,
     "start_time": "2020-11-20T15:55:33.182707",
     "status": "completed"
    },
    "tags": []
   },
   "outputs": [
    {
     "name": "stdout",
     "output_type": "stream",
     "text": [
      "MAE: 5.377131492746843\n",
      "MSE: 12808.17797618157\n",
      "RMSE: 113.17322110897777\n"
     ]
    }
   ],
   "source": [
    "print(\"MAE:\", metrics.mean_absolute_error(y_test, y_pred))\n",
    "print(\"MSE:\", metrics.mean_squared_error(y_test, y_pred))\n",
    "print(\"RMSE:\", np.sqrt(metrics.mean_squared_error(y_test, y_pred)))"
   ]
  },
  {
   "cell_type": "code",
   "execution_count": 75,
   "metadata": {
    "execution": {
     "iopub.execute_input": "2020-11-20T15:55:33.558921Z",
     "iopub.status.busy": "2020-11-20T15:55:33.557924Z",
     "iopub.status.idle": "2020-11-20T15:55:33.562720Z",
     "shell.execute_reply": "2020-11-20T15:55:33.563305Z"
    },
    "papermill": {
     "duration": 0.131604,
     "end_time": "2020-11-20T15:55:33.563451",
     "exception": false,
     "start_time": "2020-11-20T15:55:33.431847",
     "status": "completed"
    },
    "tags": []
   },
   "outputs": [
    {
     "data": {
      "text/plain": [
       "0.9994059853205267"
      ]
     },
     "execution_count": 75,
     "metadata": {},
     "output_type": "execute_result"
    }
   ],
   "source": [
    "metrics.r2_score(y_test, y_pred)"
   ]
  },
  {
   "cell_type": "markdown",
   "metadata": {
    "papermill": {
     "duration": 0.119098,
     "end_time": "2020-11-20T15:55:33.799831",
     "exception": false,
     "start_time": "2020-11-20T15:55:33.680733",
     "status": "completed"
    },
    "tags": []
   },
   "source": [
    "# Hypertuning"
   ]
  },
  {
   "cell_type": "code",
   "execution_count": 76,
   "metadata": {
    "execution": {
     "iopub.execute_input": "2020-11-20T15:55:34.043610Z",
     "iopub.status.busy": "2020-11-20T15:55:34.042722Z",
     "iopub.status.idle": "2020-11-20T15:55:34.045568Z",
     "shell.execute_reply": "2020-11-20T15:55:34.044967Z"
    },
    "papermill": {
     "duration": 0.127019,
     "end_time": "2020-11-20T15:55:34.045694",
     "exception": false,
     "start_time": "2020-11-20T15:55:33.918675",
     "status": "completed"
    },
    "tags": []
   },
   "outputs": [],
   "source": [
    "from sklearn.model_selection import RandomizedSearchCV"
   ]
  },
  {
   "cell_type": "code",
   "execution_count": 77,
   "metadata": {
    "execution": {
     "iopub.execute_input": "2020-11-20T15:55:34.290583Z",
     "iopub.status.busy": "2020-11-20T15:55:34.289880Z",
     "iopub.status.idle": "2020-11-20T15:55:34.293214Z",
     "shell.execute_reply": "2020-11-20T15:55:34.292488Z"
    },
    "papermill": {
     "duration": 0.127723,
     "end_time": "2020-11-20T15:55:34.293333",
     "exception": false,
     "start_time": "2020-11-20T15:55:34.165610",
     "status": "completed"
    },
    "tags": []
   },
   "outputs": [],
   "source": [
    "#Randomized Search CV\n",
    "\n",
    "# Number of trees in random forest\n",
    "n_estimators = [int(x) for x in np.linspace(start = 100, stop = 1200, num = 12)]\n",
    "# Number of features to consider at every split\n",
    "max_features = ['auto', 'sqrt']\n",
    "# Maximum number of levels in tree\n",
    "max_depth = [int(x) for x in np.linspace(5, 30, num = 6)]\n",
    "# Minimum number of samples required to split a node\n",
    "min_samples_split = [2, 5, 10, 15, 100]\n",
    "# Minimum number of samples required at each leaf node\n",
    "min_samples_leaf = [1, 2, 5, 10]"
   ]
  },
  {
   "cell_type": "code",
   "execution_count": 78,
   "metadata": {
    "execution": {
     "iopub.execute_input": "2020-11-20T15:55:34.539479Z",
     "iopub.status.busy": "2020-11-20T15:55:34.538543Z",
     "iopub.status.idle": "2020-11-20T15:55:34.541734Z",
     "shell.execute_reply": "2020-11-20T15:55:34.540934Z"
    },
    "papermill": {
     "duration": 0.130554,
     "end_time": "2020-11-20T15:55:34.541881",
     "exception": false,
     "start_time": "2020-11-20T15:55:34.411327",
     "status": "completed"
    },
    "tags": []
   },
   "outputs": [],
   "source": [
    "# Create the random grid\n",
    "\n",
    "random_grid = {'n_estimators': n_estimators,\n",
    "               'max_features': max_features,\n",
    "               'max_depth': max_depth,\n",
    "               'min_samples_split': min_samples_split,\n",
    "               'min_samples_leaf': min_samples_leaf}"
   ]
  },
  {
   "cell_type": "code",
   "execution_count": 79,
   "metadata": {
    "execution": {
     "iopub.execute_input": "2020-11-20T15:55:34.786747Z",
     "iopub.status.busy": "2020-11-20T15:55:34.786036Z",
     "iopub.status.idle": "2020-11-20T15:55:34.789430Z",
     "shell.execute_reply": "2020-11-20T15:55:34.788711Z"
    },
    "papermill": {
     "duration": 0.127397,
     "end_time": "2020-11-20T15:55:34.789540",
     "exception": false,
     "start_time": "2020-11-20T15:55:34.662143",
     "status": "completed"
    },
    "tags": []
   },
   "outputs": [],
   "source": [
    "rf_random = RandomizedSearchCV(estimator = reg_rf, param_distributions = random_grid,scoring='neg_mean_squared_error', n_iter = 10, cv = 5, verbose=2, random_state=42, n_jobs = 1)"
   ]
  },
  {
   "cell_type": "code",
   "execution_count": 80,
   "metadata": {
    "execution": {
     "iopub.execute_input": "2020-11-20T15:55:35.040905Z",
     "iopub.status.busy": "2020-11-20T15:55:35.040169Z",
     "iopub.status.idle": "2020-11-20T16:01:58.314226Z",
     "shell.execute_reply": "2020-11-20T16:01:58.314896Z"
    },
    "papermill": {
     "duration": 383.404467,
     "end_time": "2020-11-20T16:01:58.315073",
     "exception": false,
     "start_time": "2020-11-20T15:55:34.910606",
     "status": "completed"
    },
    "tags": []
   },
   "outputs": [
    {
     "name": "stdout",
     "output_type": "stream",
     "text": [
      "Fitting 5 folds for each of 10 candidates, totalling 50 fits\n",
      "[CV] n_estimators=900, min_samples_split=5, min_samples_leaf=5, max_features=sqrt, max_depth=10 \n"
     ]
    },
    {
     "name": "stderr",
     "output_type": "stream",
     "text": [
      "[Parallel(n_jobs=1)]: Using backend SequentialBackend with 1 concurrent workers.\n"
     ]
    },
    {
     "name": "stdout",
     "output_type": "stream",
     "text": [
      "[CV]  n_estimators=900, min_samples_split=5, min_samples_leaf=5, max_features=sqrt, max_depth=10, total=   5.1s\n",
      "[CV] n_estimators=900, min_samples_split=5, min_samples_leaf=5, max_features=sqrt, max_depth=10 \n"
     ]
    },
    {
     "name": "stderr",
     "output_type": "stream",
     "text": [
      "[Parallel(n_jobs=1)]: Done   1 out of   1 | elapsed:    5.1s remaining:    0.0s\n"
     ]
    },
    {
     "name": "stdout",
     "output_type": "stream",
     "text": [
      "[CV]  n_estimators=900, min_samples_split=5, min_samples_leaf=5, max_features=sqrt, max_depth=10, total=   5.1s\n",
      "[CV] n_estimators=900, min_samples_split=5, min_samples_leaf=5, max_features=sqrt, max_depth=10 \n",
      "[CV]  n_estimators=900, min_samples_split=5, min_samples_leaf=5, max_features=sqrt, max_depth=10, total=   5.1s\n",
      "[CV] n_estimators=900, min_samples_split=5, min_samples_leaf=5, max_features=sqrt, max_depth=10 \n",
      "[CV]  n_estimators=900, min_samples_split=5, min_samples_leaf=5, max_features=sqrt, max_depth=10, total=   5.1s\n",
      "[CV] n_estimators=900, min_samples_split=5, min_samples_leaf=5, max_features=sqrt, max_depth=10 \n",
      "[CV]  n_estimators=900, min_samples_split=5, min_samples_leaf=5, max_features=sqrt, max_depth=10, total=   5.0s\n",
      "[CV] n_estimators=1100, min_samples_split=10, min_samples_leaf=2, max_features=sqrt, max_depth=15 \n",
      "[CV]  n_estimators=1100, min_samples_split=10, min_samples_leaf=2, max_features=sqrt, max_depth=15, total=   7.6s\n",
      "[CV] n_estimators=1100, min_samples_split=10, min_samples_leaf=2, max_features=sqrt, max_depth=15 \n",
      "[CV]  n_estimators=1100, min_samples_split=10, min_samples_leaf=2, max_features=sqrt, max_depth=15, total=   7.4s\n",
      "[CV] n_estimators=1100, min_samples_split=10, min_samples_leaf=2, max_features=sqrt, max_depth=15 \n",
      "[CV]  n_estimators=1100, min_samples_split=10, min_samples_leaf=2, max_features=sqrt, max_depth=15, total=   7.4s\n",
      "[CV] n_estimators=1100, min_samples_split=10, min_samples_leaf=2, max_features=sqrt, max_depth=15 \n",
      "[CV]  n_estimators=1100, min_samples_split=10, min_samples_leaf=2, max_features=sqrt, max_depth=15, total=   7.4s\n",
      "[CV] n_estimators=1100, min_samples_split=10, min_samples_leaf=2, max_features=sqrt, max_depth=15 \n",
      "[CV]  n_estimators=1100, min_samples_split=10, min_samples_leaf=2, max_features=sqrt, max_depth=15, total=   7.6s\n",
      "[CV] n_estimators=300, min_samples_split=100, min_samples_leaf=5, max_features=auto, max_depth=15 \n",
      "[CV]  n_estimators=300, min_samples_split=100, min_samples_leaf=5, max_features=auto, max_depth=15, total=   4.4s\n",
      "[CV] n_estimators=300, min_samples_split=100, min_samples_leaf=5, max_features=auto, max_depth=15 \n",
      "[CV]  n_estimators=300, min_samples_split=100, min_samples_leaf=5, max_features=auto, max_depth=15, total=   4.4s\n",
      "[CV] n_estimators=300, min_samples_split=100, min_samples_leaf=5, max_features=auto, max_depth=15 \n",
      "[CV]  n_estimators=300, min_samples_split=100, min_samples_leaf=5, max_features=auto, max_depth=15, total=   4.5s\n",
      "[CV] n_estimators=300, min_samples_split=100, min_samples_leaf=5, max_features=auto, max_depth=15 \n",
      "[CV]  n_estimators=300, min_samples_split=100, min_samples_leaf=5, max_features=auto, max_depth=15, total=   4.4s\n",
      "[CV] n_estimators=300, min_samples_split=100, min_samples_leaf=5, max_features=auto, max_depth=15 \n",
      "[CV]  n_estimators=300, min_samples_split=100, min_samples_leaf=5, max_features=auto, max_depth=15, total=   4.5s\n",
      "[CV] n_estimators=400, min_samples_split=5, min_samples_leaf=5, max_features=auto, max_depth=15 \n",
      "[CV]  n_estimators=400, min_samples_split=5, min_samples_leaf=5, max_features=auto, max_depth=15, total=   8.6s\n",
      "[CV] n_estimators=400, min_samples_split=5, min_samples_leaf=5, max_features=auto, max_depth=15 \n",
      "[CV]  n_estimators=400, min_samples_split=5, min_samples_leaf=5, max_features=auto, max_depth=15, total=   8.6s\n",
      "[CV] n_estimators=400, min_samples_split=5, min_samples_leaf=5, max_features=auto, max_depth=15 \n",
      "[CV]  n_estimators=400, min_samples_split=5, min_samples_leaf=5, max_features=auto, max_depth=15, total=   8.6s\n",
      "[CV] n_estimators=400, min_samples_split=5, min_samples_leaf=5, max_features=auto, max_depth=15 \n",
      "[CV]  n_estimators=400, min_samples_split=5, min_samples_leaf=5, max_features=auto, max_depth=15, total=   8.7s\n",
      "[CV] n_estimators=400, min_samples_split=5, min_samples_leaf=5, max_features=auto, max_depth=15 \n",
      "[CV]  n_estimators=400, min_samples_split=5, min_samples_leaf=5, max_features=auto, max_depth=15, total=   8.9s\n",
      "[CV] n_estimators=700, min_samples_split=5, min_samples_leaf=10, max_features=auto, max_depth=20 \n",
      "[CV]  n_estimators=700, min_samples_split=5, min_samples_leaf=10, max_features=auto, max_depth=20, total=  13.8s\n",
      "[CV] n_estimators=700, min_samples_split=5, min_samples_leaf=10, max_features=auto, max_depth=20 \n",
      "[CV]  n_estimators=700, min_samples_split=5, min_samples_leaf=10, max_features=auto, max_depth=20, total=  13.6s\n",
      "[CV] n_estimators=700, min_samples_split=5, min_samples_leaf=10, max_features=auto, max_depth=20 \n",
      "[CV]  n_estimators=700, min_samples_split=5, min_samples_leaf=10, max_features=auto, max_depth=20, total=  13.7s\n",
      "[CV] n_estimators=700, min_samples_split=5, min_samples_leaf=10, max_features=auto, max_depth=20 \n",
      "[CV]  n_estimators=700, min_samples_split=5, min_samples_leaf=10, max_features=auto, max_depth=20, total=  13.7s\n",
      "[CV] n_estimators=700, min_samples_split=5, min_samples_leaf=10, max_features=auto, max_depth=20 \n",
      "[CV]  n_estimators=700, min_samples_split=5, min_samples_leaf=10, max_features=auto, max_depth=20, total=  13.6s\n",
      "[CV] n_estimators=1000, min_samples_split=2, min_samples_leaf=1, max_features=sqrt, max_depth=25 \n",
      "[CV]  n_estimators=1000, min_samples_split=2, min_samples_leaf=1, max_features=sqrt, max_depth=25, total=   9.6s\n",
      "[CV] n_estimators=1000, min_samples_split=2, min_samples_leaf=1, max_features=sqrt, max_depth=25 \n",
      "[CV]  n_estimators=1000, min_samples_split=2, min_samples_leaf=1, max_features=sqrt, max_depth=25, total=   9.4s\n",
      "[CV] n_estimators=1000, min_samples_split=2, min_samples_leaf=1, max_features=sqrt, max_depth=25 \n",
      "[CV]  n_estimators=1000, min_samples_split=2, min_samples_leaf=1, max_features=sqrt, max_depth=25, total=   9.3s\n",
      "[CV] n_estimators=1000, min_samples_split=2, min_samples_leaf=1, max_features=sqrt, max_depth=25 \n",
      "[CV]  n_estimators=1000, min_samples_split=2, min_samples_leaf=1, max_features=sqrt, max_depth=25, total=   9.4s\n",
      "[CV] n_estimators=1000, min_samples_split=2, min_samples_leaf=1, max_features=sqrt, max_depth=25 \n",
      "[CV]  n_estimators=1000, min_samples_split=2, min_samples_leaf=1, max_features=sqrt, max_depth=25, total=   9.5s\n",
      "[CV] n_estimators=1100, min_samples_split=15, min_samples_leaf=10, max_features=sqrt, max_depth=5 \n",
      "[CV]  n_estimators=1100, min_samples_split=15, min_samples_leaf=10, max_features=sqrt, max_depth=5, total=   4.4s\n",
      "[CV] n_estimators=1100, min_samples_split=15, min_samples_leaf=10, max_features=sqrt, max_depth=5 \n",
      "[CV]  n_estimators=1100, min_samples_split=15, min_samples_leaf=10, max_features=sqrt, max_depth=5, total=   4.4s\n",
      "[CV] n_estimators=1100, min_samples_split=15, min_samples_leaf=10, max_features=sqrt, max_depth=5 \n",
      "[CV]  n_estimators=1100, min_samples_split=15, min_samples_leaf=10, max_features=sqrt, max_depth=5, total=   4.3s\n",
      "[CV] n_estimators=1100, min_samples_split=15, min_samples_leaf=10, max_features=sqrt, max_depth=5 \n",
      "[CV]  n_estimators=1100, min_samples_split=15, min_samples_leaf=10, max_features=sqrt, max_depth=5, total=   4.4s\n",
      "[CV] n_estimators=1100, min_samples_split=15, min_samples_leaf=10, max_features=sqrt, max_depth=5 \n",
      "[CV]  n_estimators=1100, min_samples_split=15, min_samples_leaf=10, max_features=sqrt, max_depth=5, total=   4.3s\n",
      "[CV] n_estimators=300, min_samples_split=15, min_samples_leaf=1, max_features=sqrt, max_depth=15 \n",
      "[CV]  n_estimators=300, min_samples_split=15, min_samples_leaf=1, max_features=sqrt, max_depth=15, total=   2.0s\n",
      "[CV] n_estimators=300, min_samples_split=15, min_samples_leaf=1, max_features=sqrt, max_depth=15 \n",
      "[CV]  n_estimators=300, min_samples_split=15, min_samples_leaf=1, max_features=sqrt, max_depth=15, total=   2.0s\n",
      "[CV] n_estimators=300, min_samples_split=15, min_samples_leaf=1, max_features=sqrt, max_depth=15 \n",
      "[CV]  n_estimators=300, min_samples_split=15, min_samples_leaf=1, max_features=sqrt, max_depth=15, total=   2.0s\n",
      "[CV] n_estimators=300, min_samples_split=15, min_samples_leaf=1, max_features=sqrt, max_depth=15 \n",
      "[CV]  n_estimators=300, min_samples_split=15, min_samples_leaf=1, max_features=sqrt, max_depth=15, total=   2.0s\n",
      "[CV] n_estimators=300, min_samples_split=15, min_samples_leaf=1, max_features=sqrt, max_depth=15 \n",
      "[CV]  n_estimators=300, min_samples_split=15, min_samples_leaf=1, max_features=sqrt, max_depth=15, total=   2.0s\n",
      "[CV] n_estimators=700, min_samples_split=10, min_samples_leaf=2, max_features=sqrt, max_depth=5 \n",
      "[CV]  n_estimators=700, min_samples_split=10, min_samples_leaf=2, max_features=sqrt, max_depth=5, total=   2.7s\n",
      "[CV] n_estimators=700, min_samples_split=10, min_samples_leaf=2, max_features=sqrt, max_depth=5 \n",
      "[CV]  n_estimators=700, min_samples_split=10, min_samples_leaf=2, max_features=sqrt, max_depth=5, total=   2.8s\n",
      "[CV] n_estimators=700, min_samples_split=10, min_samples_leaf=2, max_features=sqrt, max_depth=5 \n",
      "[CV]  n_estimators=700, min_samples_split=10, min_samples_leaf=2, max_features=sqrt, max_depth=5, total=   2.8s\n",
      "[CV] n_estimators=700, min_samples_split=10, min_samples_leaf=2, max_features=sqrt, max_depth=5 \n",
      "[CV]  n_estimators=700, min_samples_split=10, min_samples_leaf=2, max_features=sqrt, max_depth=5, total=   2.7s\n",
      "[CV] n_estimators=700, min_samples_split=10, min_samples_leaf=2, max_features=sqrt, max_depth=5 \n",
      "[CV]  n_estimators=700, min_samples_split=10, min_samples_leaf=2, max_features=sqrt, max_depth=5, total=   2.7s\n",
      "[CV] n_estimators=700, min_samples_split=15, min_samples_leaf=1, max_features=auto, max_depth=20 \n",
      "[CV]  n_estimators=700, min_samples_split=15, min_samples_leaf=1, max_features=auto, max_depth=20, total=  15.1s\n",
      "[CV] n_estimators=700, min_samples_split=15, min_samples_leaf=1, max_features=auto, max_depth=20 \n",
      "[CV]  n_estimators=700, min_samples_split=15, min_samples_leaf=1, max_features=auto, max_depth=20, total=  14.9s\n",
      "[CV] n_estimators=700, min_samples_split=15, min_samples_leaf=1, max_features=auto, max_depth=20 \n",
      "[CV]  n_estimators=700, min_samples_split=15, min_samples_leaf=1, max_features=auto, max_depth=20, total=  14.9s\n",
      "[CV] n_estimators=700, min_samples_split=15, min_samples_leaf=1, max_features=auto, max_depth=20 \n",
      "[CV]  n_estimators=700, min_samples_split=15, min_samples_leaf=1, max_features=auto, max_depth=20, total=  15.1s\n",
      "[CV] n_estimators=700, min_samples_split=15, min_samples_leaf=1, max_features=auto, max_depth=20 \n",
      "[CV]  n_estimators=700, min_samples_split=15, min_samples_leaf=1, max_features=auto, max_depth=20, total=  15.2s\n"
     ]
    },
    {
     "name": "stderr",
     "output_type": "stream",
     "text": [
      "[Parallel(n_jobs=1)]: Done  50 out of  50 | elapsed:  6.1min finished\n"
     ]
    },
    {
     "data": {
      "text/plain": [
       "RandomizedSearchCV(cv=5, estimator=RandomForestRegressor(), n_jobs=1,\n",
       "                   param_distributions={'max_depth': [5, 10, 15, 20, 25, 30],\n",
       "                                        'max_features': ['auto', 'sqrt'],\n",
       "                                        'min_samples_leaf': [1, 2, 5, 10],\n",
       "                                        'min_samples_split': [2, 5, 10, 15,\n",
       "                                                              100],\n",
       "                                        'n_estimators': [100, 200, 300, 400,\n",
       "                                                         500, 600, 700, 800,\n",
       "                                                         900, 1000, 1100,\n",
       "                                                         1200]},\n",
       "                   random_state=42, scoring='neg_mean_squared_error',\n",
       "                   verbose=2)"
      ]
     },
     "execution_count": 80,
     "metadata": {},
     "output_type": "execute_result"
    }
   ],
   "source": [
    "rf_random.fit(X_train,y_train)"
   ]
  },
  {
   "cell_type": "code",
   "execution_count": 81,
   "metadata": {
    "execution": {
     "iopub.execute_input": "2020-11-20T16:01:58.601803Z",
     "iopub.status.busy": "2020-11-20T16:01:58.601089Z",
     "iopub.status.idle": "2020-11-20T16:01:58.605845Z",
     "shell.execute_reply": "2020-11-20T16:01:58.605218Z"
    },
    "papermill": {
     "duration": 0.149779,
     "end_time": "2020-11-20T16:01:58.605956",
     "exception": false,
     "start_time": "2020-11-20T16:01:58.456177",
     "status": "completed"
    },
    "tags": []
   },
   "outputs": [
    {
     "data": {
      "text/plain": [
       "{'n_estimators': 700,\n",
       " 'min_samples_split': 15,\n",
       " 'min_samples_leaf': 1,\n",
       " 'max_features': 'auto',\n",
       " 'max_depth': 20}"
      ]
     },
     "execution_count": 81,
     "metadata": {},
     "output_type": "execute_result"
    }
   ],
   "source": [
    "rf_random.best_params_"
   ]
  },
  {
   "cell_type": "code",
   "execution_count": 82,
   "metadata": {
    "execution": {
     "iopub.execute_input": "2020-11-20T16:01:58.895233Z",
     "iopub.status.busy": "2020-11-20T16:01:58.894559Z",
     "iopub.status.idle": "2020-11-20T16:01:59.139345Z",
     "shell.execute_reply": "2020-11-20T16:01:59.138593Z"
    },
    "papermill": {
     "duration": 0.392854,
     "end_time": "2020-11-20T16:01:59.139463",
     "exception": false,
     "start_time": "2020-11-20T16:01:58.746609",
     "status": "completed"
    },
    "tags": []
   },
   "outputs": [],
   "source": [
    "prediction = rf_random.predict(X_test)"
   ]
  },
  {
   "cell_type": "code",
   "execution_count": 83,
   "metadata": {
    "execution": {
     "iopub.execute_input": "2020-11-20T16:01:59.436184Z",
     "iopub.status.busy": "2020-11-20T16:01:59.433202Z",
     "iopub.status.idle": "2020-11-20T16:01:59.816030Z",
     "shell.execute_reply": "2020-11-20T16:01:59.815348Z"
    },
    "papermill": {
     "duration": 0.535505,
     "end_time": "2020-11-20T16:01:59.816158",
     "exception": false,
     "start_time": "2020-11-20T16:01:59.280653",
     "status": "completed"
    },
    "tags": []
   },
   "outputs": [
    {
     "data": {
      "image/png": "[encoded data removed]",
      "text/plain": [
       "<Figure size 576x576 with 1 Axes>"
      ]
     },
     "metadata": {},
     "output_type": "display_data"
    }
   ],
   "source": [
    "plt.figure(figsize = (8,8))\n",
    "sns.distplot(y_test-prediction)\n",
    "plt.show()"
   ]
  },
  {
   "cell_type": "code",
   "execution_count": 84,
   "metadata": {
    "execution": {
     "iopub.execute_input": "2020-11-20T16:02:00.118385Z",
     "iopub.status.busy": "2020-11-20T16:02:00.115960Z",
     "iopub.status.idle": "2020-11-20T16:02:00.406809Z",
     "shell.execute_reply": "2020-11-20T16:02:00.406165Z"
    },
    "papermill": {
     "duration": 0.447403,
     "end_time": "2020-11-20T16:02:00.406924",
     "exception": false,
     "start_time": "2020-11-20T16:01:59.959521",
     "status": "completed"
    },
    "tags": []
   },
   "outputs": [
    {
     "data": {
      "image/png": "[encoded data removed]",
      "text/plain": [
       "<Figure size 576x576 with 1 Axes>"
      ]
     },
     "metadata": {},
     "output_type": "display_data"
    }
   ],
   "source": [
    "plt.figure(figsize=(8,8))\n",
    "plt.scatter(y_test, prediction, alpha = 0.5)\n",
    "plt.xlabel(\"y_test\")\n",
    "plt.ylabel(\"y_pred\")\n",
    "plt.show()"
   ]
  },
  {
   "cell_type": "code",
   "execution_count": 85,
   "metadata": {
    "execution": {
     "iopub.execute_input": "2020-11-20T16:02:00.706861Z",
     "iopub.status.busy": "2020-11-20T16:02:00.706130Z",
     "iopub.status.idle": "2020-11-20T16:02:00.711570Z",
     "shell.execute_reply": "2020-11-20T16:02:00.712307Z"
    },
    "papermill": {
     "duration": 0.161609,
     "end_time": "2020-11-20T16:02:00.712507",
     "exception": false,
     "start_time": "2020-11-20T16:02:00.550898",
     "status": "completed"
    },
    "tags": []
   },
   "outputs": [
    {
     "name": "stdout",
     "output_type": "stream",
     "text": [
      "MAE: 7.553256518711762\n",
      "MSE: 6412.678308876518\n",
      "RMSE: 80.07920022625424\n"
     ]
    }
   ],
   "source": [
    "print(\"MAE:\", metrics.mean_absolute_error(y_test, prediction))\n",
    "print(\"MSE:\", metrics.mean_squared_error(y_test, prediction))\n",
    "print(\"RMSE:\", np.sqrt(metrics.mean_squared_error(y_test, prediction)))"
   ]
  },
  {
   "cell_type": "markdown",
   "metadata": {
    "papermill": {
     "duration": 0.142837,
     "end_time": "2020-11-20T16:02:00.998048",
     "exception": false,
     "start_time": "2020-11-20T16:02:00.855211",
     "status": "completed"
    },
    "tags": []
   },
   "source": [
    "# Save the model "
   ]
  },
  {
   "cell_type": "code",
   "execution_count": 86,
   "metadata": {
    "execution": {
     "iopub.execute_input": "2020-11-20T16:02:01.290933Z",
     "iopub.status.busy": "2020-11-20T16:02:01.290178Z",
     "iopub.status.idle": "2020-11-20T16:02:01.453304Z",
     "shell.execute_reply": "2020-11-20T16:02:01.452537Z"
    },
    "papermill": {
     "duration": 0.313823,
     "end_time": "2020-11-20T16:02:01.453426",
     "exception": false,
     "start_time": "2020-11-20T16:02:01.139603",
     "status": "completed"
    },
    "tags": []
   },
   "outputs": [],
   "source": [
    "import pickle\n",
    "\n",
    "# Open a file, where you want to store the data\n",
    "file = open('flight_rf.pkl', 'wb')\n",
    "\n",
    "# pickle.dump(reg_rf, file)\n",
    "\n",
    "pickle.dump(rf_random, file)"
   ]
  },
  {
   "cell_type": "code",
   "execution_count": 87,
   "metadata": {
    "execution": {
     "iopub.execute_input": "2020-11-20T16:02:01.750319Z",
     "iopub.status.busy": "2020-11-20T16:02:01.749158Z",
     "iopub.status.idle": "2020-11-20T16:02:01.877723Z",
     "shell.execute_reply": "2020-11-20T16:02:01.877051Z"
    },
    "papermill": {
     "duration": 0.279356,
     "end_time": "2020-11-20T16:02:01.877856",
     "exception": false,
     "start_time": "2020-11-20T16:02:01.598500",
     "status": "completed"
    },
    "tags": []
   },
   "outputs": [],
   "source": [
    "model = open('flight_rf.pkl', 'rb')\n",
    "forest = pickle.load(model)"
   ]
  },
  {
   "cell_type": "code",
   "execution_count": 88,
   "metadata": {
    "execution": {
     "iopub.execute_input": "2020-11-20T16:02:02.177407Z",
     "iopub.status.busy": "2020-11-20T16:02:02.176652Z",
     "iopub.status.idle": "2020-11-20T16:02:02.422882Z",
     "shell.execute_reply": "2020-11-20T16:02:02.422071Z"
    },
    "papermill": {
     "duration": 0.399204,
     "end_time": "2020-11-20T16:02:02.423006",
     "exception": false,
     "start_time": "2020-11-20T16:02:02.023802",
     "status": "completed"
    },
    "tags": []
   },
   "outputs": [],
   "source": [
    "y_prediction = forest.predict(X_test)\n"
   ]
  },
  {
   "cell_type": "code",
   "execution_count": 89,
   "metadata": {
    "execution": {
     "iopub.execute_input": "2020-11-20T16:02:02.724133Z",
     "iopub.status.busy": "2020-11-20T16:02:02.723291Z",
     "iopub.status.idle": "2020-11-20T16:02:02.727925Z",
     "shell.execute_reply": "2020-11-20T16:02:02.727385Z"
    },
    "papermill": {
     "duration": 0.158264,
     "end_time": "2020-11-20T16:02:02.728044",
     "exception": false,
     "start_time": "2020-11-20T16:02:02.569780",
     "status": "completed"
    },
    "tags": []
   },
   "outputs": [
    {
     "data": {
      "text/plain": [
       "0.9997025943067549"
      ]
     },
     "execution_count": 89,
     "metadata": {},
     "output_type": "execute_result"
    }
   ],
   "source": [
    "metrics.r2_score(y_test, y_prediction)"
   ]
  },
  {
   "cell_type": "code",
   "execution_count": null,
   "metadata": {
    "papermill": {
     "duration": 0.142716,
     "end_time": "2020-11-20T16:02:03.015769",
     "exception": false,
     "start_time": "2020-11-20T16:02:02.873053",
     "status": "completed"
    },
    "tags": []
   },
   "outputs": [],
   "source": []
  }
 ],
 "metadata": {
  "kernelspec": {
   "display_name": "Python 3",
   "language": "python",
   "name": "python3"
  },
  "language_info": {
   "codemirror_mode": {
    "name": "ipython",
    "version": 3
   },
   "file_extension": ".py",
   "mimetype": "text/x-python",
   "name": "python",
   "nbconvert_exporter": "python",
   "pygments_lexer": "ipython3",
   "version": "3.7.6"
  },
  "papermill": {
   "duration": 424.713727,
   "end_time": "2020-11-20T16:02:03.265928",
   "environment_variables": {},
   "exception": null,
   "input_path": "__notebook__.ipynb",
   "output_path": "__notebook__.ipynb",
   "parameters": {},
   "start_time": "2020-11-20T15:54:58.552201",
   "version": "2.1.0"
  }
 },
 "nbformat": 4,
 "nbformat_minor": 4
}
